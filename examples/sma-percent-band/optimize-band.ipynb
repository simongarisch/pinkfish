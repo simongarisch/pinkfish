{
 "cells": [
  {
   "cell_type": "markdown",
   "metadata": {},
   "source": [
    "# SMA Percent Band\n",
    "\n",
    "    1. The SPY closes above its upper band, buy\n",
    "    2. If the SPY closes below its lower band, sell your long position.\n",
    "    \n",
    "    (optimize band)"
   ]
  },
  {
   "cell_type": "code",
   "execution_count": 1,
   "metadata": {
    "ExecuteTime": {
     "end_time": "2019-07-31T08:03:05.211587Z",
     "start_time": "2019-07-31T08:03:04.461435Z"
    }
   },
   "outputs": [],
   "source": [
    "# use future imports for python 3.x forward compatibility\n",
    "from __future__ import print_function\n",
    "from __future__ import unicode_literals\n",
    "from __future__ import division\n",
    "from __future__ import absolute_import\n",
    "\n",
    "# other imports\n",
    "import pandas as pd\n",
    "import matplotlib.pyplot as plt\n",
    "import datetime\n",
    "from talib.abstract import *\n",
    "\n",
    "# project imports\n",
    "import pinkfish as pf\n",
    "import strategy\n",
    "\n",
    "# format price data\n",
    "pd.options.display.float_format = '{:0.2f}'.format\n",
    "\n",
    "%matplotlib inline"
   ]
  },
  {
   "cell_type": "code",
   "execution_count": 2,
   "metadata": {
    "ExecuteTime": {
     "end_time": "2019-07-31T08:03:05.226883Z",
     "start_time": "2019-07-31T08:03:05.221380Z"
    }
   },
   "outputs": [],
   "source": [
    "# set size of inline plots\n",
    "'''note: rcParams can't be in same cell as import matplotlib\n",
    "   or %matplotlib inline\n",
    "   \n",
    "   %matplotlib notebook: will lead to interactive plots embedded within\n",
    "   the notebook, you can zoom and resize the figure\n",
    "   \n",
    "   %matplotlib inline: only draw static images in the notebook\n",
    "'''\n",
    "plt.rcParams[\"figure.figsize\"] = (10, 7)"
   ]
  },
  {
   "cell_type": "markdown",
   "metadata": {},
   "source": [
    "Some global data"
   ]
  },
  {
   "cell_type": "code",
   "execution_count": 3,
   "metadata": {
    "ExecuteTime": {
     "end_time": "2019-07-31T08:03:05.241371Z",
     "start_time": "2019-07-31T08:03:05.233781Z"
    }
   },
   "outputs": [],
   "source": [
    "symbol = '^GSPC'\n",
    "#symbol = 'SPY'\n",
    "#symbol = 'DIA'\n",
    "#symbol = 'QQQ'\n",
    "#symbol = 'IWM'\n",
    "#symbol = 'TLT'\n",
    "#symbol = 'GLD'\n",
    "#symbol = 'AAPL'\n",
    "#symbol = 'BBRY'\n",
    "#symbol = 'GDX'\n",
    "capital = 10000\n",
    "start = datetime.datetime(1900, 1, 1)\n",
    "#end = datetime.datetime(1970 12, 1)\n",
    "end = datetime.datetime.now()"
   ]
  },
  {
   "cell_type": "markdown",
   "metadata": {},
   "source": [
    "Define percent bands"
   ]
  },
  {
   "cell_type": "code",
   "execution_count": 4,
   "metadata": {
    "ExecuteTime": {
     "end_time": "2019-07-31T08:03:05.259853Z",
     "start_time": "2019-07-31T08:03:05.245243Z"
    }
   },
   "outputs": [],
   "source": [
    "bands = range(0, 100, 5)\n",
    "bands = [str(band) for band in bands]"
   ]
  },
  {
   "cell_type": "markdown",
   "metadata": {},
   "source": [
    "Run Strategy"
   ]
  },
  {
   "cell_type": "code",
   "execution_count": 5,
   "metadata": {
    "ExecuteTime": {
     "end_time": "2019-07-31T08:03:16.639881Z",
     "start_time": "2019-07-31T08:03:05.265262Z"
    }
   },
   "outputs": [
    {
     "name": "stdout",
     "output_type": "stream",
     "text": [
      "0 5 10 15 20 25 30 35 40 45 50 55 60 65 70 75 80 85 90 95 "
     ]
    }
   ],
   "source": [
    "strategies = pd.Series()\n",
    "for band in bands:\n",
    "    print(\"{0}\".format(band), end=\" \")\n",
    "    strategies[band] = strategy.Strategy(symbol, capital, start, end, sma_period=200, percent_band=int(band)/10)\n",
    "    strategies[band].run()\n",
    "    _, strategies[band].tlog, strategies[band].dbal = strategies[band].get_logs()\n",
    "    strategies[band].stats = strategies[band].stats()"
   ]
  },
  {
   "cell_type": "markdown",
   "metadata": {},
   "source": [
    "Summarize results"
   ]
  },
  {
   "cell_type": "code",
   "execution_count": 6,
   "metadata": {
    "ExecuteTime": {
     "end_time": "2019-07-31T08:03:16.710971Z",
     "start_time": "2019-07-31T08:03:16.650490Z"
    },
    "scrolled": false
   },
   "outputs": [
    {
     "data": {
      "text/html": [
       "<div>\n",
       "<style scoped>\n",
       "    .dataframe tbody tr th:only-of-type {\n",
       "        vertical-align: middle;\n",
       "    }\n",
       "\n",
       "    .dataframe tbody tr th {\n",
       "        vertical-align: top;\n",
       "    }\n",
       "\n",
       "    .dataframe thead th {\n",
       "        text-align: right;\n",
       "    }\n",
       "</style>\n",
       "<table border=\"1\" class=\"dataframe\">\n",
       "  <thead>\n",
       "    <tr style=\"text-align: right;\">\n",
       "      <th></th>\n",
       "      <th>0</th>\n",
       "      <th>5</th>\n",
       "      <th>10</th>\n",
       "      <th>15</th>\n",
       "      <th>20</th>\n",
       "      <th>25</th>\n",
       "      <th>30</th>\n",
       "      <th>35</th>\n",
       "      <th>40</th>\n",
       "      <th>45</th>\n",
       "      <th>50</th>\n",
       "      <th>55</th>\n",
       "      <th>60</th>\n",
       "      <th>65</th>\n",
       "      <th>70</th>\n",
       "      <th>75</th>\n",
       "      <th>80</th>\n",
       "      <th>85</th>\n",
       "      <th>90</th>\n",
       "      <th>95</th>\n",
       "    </tr>\n",
       "  </thead>\n",
       "  <tbody>\n",
       "    <tr>\n",
       "      <th>annual_return_rate</th>\n",
       "      <td>7.22</td>\n",
       "      <td>7.10</td>\n",
       "      <td>7.16</td>\n",
       "      <td>7.10</td>\n",
       "      <td>6.95</td>\n",
       "      <td>7.34</td>\n",
       "      <td>7.43</td>\n",
       "      <td>7.49</td>\n",
       "      <td>7.18</td>\n",
       "      <td>7.31</td>\n",
       "      <td>7.22</td>\n",
       "      <td>6.71</td>\n",
       "      <td>6.31</td>\n",
       "      <td>6.18</td>\n",
       "      <td>5.70</td>\n",
       "      <td>5.68</td>\n",
       "      <td>5.54</td>\n",
       "      <td>5.84</td>\n",
       "      <td>6.14</td>\n",
       "      <td>6.04</td>\n",
       "    </tr>\n",
       "    <tr>\n",
       "      <th>max_closed_out_drawdown</th>\n",
       "      <td>-28.26</td>\n",
       "      <td>-24.16</td>\n",
       "      <td>-22.21</td>\n",
       "      <td>-22.47</td>\n",
       "      <td>-21.54</td>\n",
       "      <td>-25.38</td>\n",
       "      <td>-25.08</td>\n",
       "      <td>-21.35</td>\n",
       "      <td>-21.73</td>\n",
       "      <td>-21.73</td>\n",
       "      <td>-21.77</td>\n",
       "      <td>-36.89</td>\n",
       "      <td>-37.12</td>\n",
       "      <td>-37.70</td>\n",
       "      <td>-37.67</td>\n",
       "      <td>-34.27</td>\n",
       "      <td>-34.27</td>\n",
       "      <td>-34.73</td>\n",
       "      <td>-35.01</td>\n",
       "      <td>-35.54</td>\n",
       "    </tr>\n",
       "    <tr>\n",
       "      <th>drawdown_annualized_return</th>\n",
       "      <td>-3.91</td>\n",
       "      <td>-3.40</td>\n",
       "      <td>-3.10</td>\n",
       "      <td>-3.17</td>\n",
       "      <td>-3.10</td>\n",
       "      <td>-3.46</td>\n",
       "      <td>-3.38</td>\n",
       "      <td>-2.85</td>\n",
       "      <td>-3.03</td>\n",
       "      <td>-2.97</td>\n",
       "      <td>-3.01</td>\n",
       "      <td>-5.50</td>\n",
       "      <td>-5.88</td>\n",
       "      <td>-6.10</td>\n",
       "      <td>-6.60</td>\n",
       "      <td>-6.03</td>\n",
       "      <td>-6.19</td>\n",
       "      <td>-5.95</td>\n",
       "      <td>-5.70</td>\n",
       "      <td>-5.89</td>\n",
       "    </tr>\n",
       "    <tr>\n",
       "      <th>drawdown_recovery</th>\n",
       "      <td>-3.76</td>\n",
       "      <td>-1.98</td>\n",
       "      <td>-1.98</td>\n",
       "      <td>-3.76</td>\n",
       "      <td>-3.69</td>\n",
       "      <td>-3.69</td>\n",
       "      <td>-2.64</td>\n",
       "      <td>-0.99</td>\n",
       "      <td>-0.99</td>\n",
       "      <td>-0.99</td>\n",
       "      <td>-0.99</td>\n",
       "      <td>-0.99</td>\n",
       "      <td>-0.99</td>\n",
       "      <td>-1.23</td>\n",
       "      <td>-1.23</td>\n",
       "      <td>-1.52</td>\n",
       "      <td>-1.52</td>\n",
       "      <td>-1.52</td>\n",
       "      <td>-1.52</td>\n",
       "      <td>-1.52</td>\n",
       "    </tr>\n",
       "    <tr>\n",
       "      <th>best_month</th>\n",
       "      <td>13.42</td>\n",
       "      <td>14.93</td>\n",
       "      <td>14.92</td>\n",
       "      <td>14.92</td>\n",
       "      <td>14.93</td>\n",
       "      <td>14.94</td>\n",
       "      <td>14.92</td>\n",
       "      <td>14.94</td>\n",
       "      <td>14.55</td>\n",
       "      <td>14.55</td>\n",
       "      <td>14.55</td>\n",
       "      <td>14.52</td>\n",
       "      <td>14.55</td>\n",
       "      <td>14.51</td>\n",
       "      <td>14.49</td>\n",
       "      <td>14.52</td>\n",
       "      <td>14.49</td>\n",
       "      <td>14.54</td>\n",
       "      <td>14.55</td>\n",
       "      <td>14.55</td>\n",
       "    </tr>\n",
       "    <tr>\n",
       "      <th>worst_month</th>\n",
       "      <td>-11.96</td>\n",
       "      <td>-13.82</td>\n",
       "      <td>-13.83</td>\n",
       "      <td>-13.82</td>\n",
       "      <td>-13.82</td>\n",
       "      <td>-13.83</td>\n",
       "      <td>-13.83</td>\n",
       "      <td>-13.94</td>\n",
       "      <td>-13.94</td>\n",
       "      <td>-13.93</td>\n",
       "      <td>-13.94</td>\n",
       "      <td>-31.44</td>\n",
       "      <td>-31.44</td>\n",
       "      <td>-31.45</td>\n",
       "      <td>-31.42</td>\n",
       "      <td>-31.45</td>\n",
       "      <td>-31.45</td>\n",
       "      <td>-31.44</td>\n",
       "      <td>-31.47</td>\n",
       "      <td>-31.45</td>\n",
       "    </tr>\n",
       "    <tr>\n",
       "      <th>sharpe_ratio</th>\n",
       "      <td>0.74</td>\n",
       "      <td>0.73</td>\n",
       "      <td>0.73</td>\n",
       "      <td>0.72</td>\n",
       "      <td>0.71</td>\n",
       "      <td>0.74</td>\n",
       "      <td>0.75</td>\n",
       "      <td>0.75</td>\n",
       "      <td>0.72</td>\n",
       "      <td>0.73</td>\n",
       "      <td>0.71</td>\n",
       "      <td>0.65</td>\n",
       "      <td>0.61</td>\n",
       "      <td>0.60</td>\n",
       "      <td>0.56</td>\n",
       "      <td>0.56</td>\n",
       "      <td>0.54</td>\n",
       "      <td>0.56</td>\n",
       "      <td>0.58</td>\n",
       "      <td>0.57</td>\n",
       "    </tr>\n",
       "    <tr>\n",
       "      <th>sortino_ratio</th>\n",
       "      <td>0.84</td>\n",
       "      <td>0.82</td>\n",
       "      <td>0.83</td>\n",
       "      <td>0.82</td>\n",
       "      <td>0.81</td>\n",
       "      <td>0.84</td>\n",
       "      <td>0.85</td>\n",
       "      <td>0.85</td>\n",
       "      <td>0.82</td>\n",
       "      <td>0.83</td>\n",
       "      <td>0.83</td>\n",
       "      <td>0.71</td>\n",
       "      <td>0.67</td>\n",
       "      <td>0.66</td>\n",
       "      <td>0.61</td>\n",
       "      <td>0.61</td>\n",
       "      <td>0.59</td>\n",
       "      <td>0.62</td>\n",
       "      <td>0.65</td>\n",
       "      <td>0.65</td>\n",
       "    </tr>\n",
       "    <tr>\n",
       "      <th>monthly_std</th>\n",
       "      <td>2.88</td>\n",
       "      <td>2.92</td>\n",
       "      <td>2.92</td>\n",
       "      <td>2.92</td>\n",
       "      <td>2.93</td>\n",
       "      <td>2.92</td>\n",
       "      <td>2.93</td>\n",
       "      <td>2.95</td>\n",
       "      <td>2.94</td>\n",
       "      <td>2.97</td>\n",
       "      <td>3.00</td>\n",
       "      <td>3.14</td>\n",
       "      <td>3.16</td>\n",
       "      <td>3.16</td>\n",
       "      <td>3.20</td>\n",
       "      <td>3.19</td>\n",
       "      <td>3.22</td>\n",
       "      <td>3.25</td>\n",
       "      <td>3.29</td>\n",
       "      <td>3.34</td>\n",
       "    </tr>\n",
       "    <tr>\n",
       "      <th>pct_time_in_market</th>\n",
       "      <td>70.66</td>\n",
       "      <td>70.60</td>\n",
       "      <td>70.18</td>\n",
       "      <td>70.32</td>\n",
       "      <td>70.50</td>\n",
       "      <td>70.09</td>\n",
       "      <td>70.50</td>\n",
       "      <td>70.75</td>\n",
       "      <td>70.41</td>\n",
       "      <td>71.92</td>\n",
       "      <td>73.43</td>\n",
       "      <td>73.66</td>\n",
       "      <td>74.21</td>\n",
       "      <td>74.17</td>\n",
       "      <td>73.72</td>\n",
       "      <td>73.72</td>\n",
       "      <td>74.35</td>\n",
       "      <td>75.78</td>\n",
       "      <td>76.85</td>\n",
       "      <td>78.93</td>\n",
       "    </tr>\n",
       "    <tr>\n",
       "      <th>total_num_trades</th>\n",
       "      <td>205.00</td>\n",
       "      <td>117.00</td>\n",
       "      <td>84.00</td>\n",
       "      <td>63.00</td>\n",
       "      <td>54.00</td>\n",
       "      <td>40.00</td>\n",
       "      <td>35.00</td>\n",
       "      <td>30.00</td>\n",
       "      <td>30.00</td>\n",
       "      <td>27.00</td>\n",
       "      <td>25.00</td>\n",
       "      <td>24.00</td>\n",
       "      <td>24.00</td>\n",
       "      <td>23.00</td>\n",
       "      <td>23.00</td>\n",
       "      <td>21.00</td>\n",
       "      <td>20.00</td>\n",
       "      <td>17.00</td>\n",
       "      <td>15.00</td>\n",
       "      <td>14.00</td>\n",
       "    </tr>\n",
       "    <tr>\n",
       "      <th>pct_profitable_trades</th>\n",
       "      <td>29.27</td>\n",
       "      <td>44.44</td>\n",
       "      <td>51.19</td>\n",
       "      <td>50.79</td>\n",
       "      <td>51.85</td>\n",
       "      <td>65.00</td>\n",
       "      <td>71.43</td>\n",
       "      <td>83.33</td>\n",
       "      <td>80.00</td>\n",
       "      <td>85.19</td>\n",
       "      <td>88.00</td>\n",
       "      <td>91.67</td>\n",
       "      <td>87.50</td>\n",
       "      <td>86.96</td>\n",
       "      <td>82.61</td>\n",
       "      <td>85.71</td>\n",
       "      <td>85.00</td>\n",
       "      <td>94.12</td>\n",
       "      <td>100.00</td>\n",
       "      <td>100.00</td>\n",
       "    </tr>\n",
       "    <tr>\n",
       "      <th>avg_points</th>\n",
       "      <td>10.63</td>\n",
       "      <td>19.99</td>\n",
       "      <td>27.71</td>\n",
       "      <td>40.05</td>\n",
       "      <td>49.85</td>\n",
       "      <td>74.73</td>\n",
       "      <td>85.28</td>\n",
       "      <td>98.86</td>\n",
       "      <td>96.22</td>\n",
       "      <td>108.26</td>\n",
       "      <td>118.88</td>\n",
       "      <td>113.38</td>\n",
       "      <td>107.49</td>\n",
       "      <td>108.56</td>\n",
       "      <td>97.45</td>\n",
       "      <td>99.39</td>\n",
       "      <td>97.81</td>\n",
       "      <td>124.06</td>\n",
       "      <td>136.99</td>\n",
       "      <td>135.54</td>\n",
       "    </tr>\n",
       "  </tbody>\n",
       "</table>\n",
       "</div>"
      ],
      "text/plain": [
       "                                0      5     10     15     20     25     30  \\\n",
       "annual_return_rate           7.22   7.10   7.16   7.10   6.95   7.34   7.43   \n",
       "max_closed_out_drawdown    -28.26 -24.16 -22.21 -22.47 -21.54 -25.38 -25.08   \n",
       "drawdown_annualized_return  -3.91  -3.40  -3.10  -3.17  -3.10  -3.46  -3.38   \n",
       "drawdown_recovery           -3.76  -1.98  -1.98  -3.76  -3.69  -3.69  -2.64   \n",
       "best_month                  13.42  14.93  14.92  14.92  14.93  14.94  14.92   \n",
       "worst_month                -11.96 -13.82 -13.83 -13.82 -13.82 -13.83 -13.83   \n",
       "sharpe_ratio                 0.74   0.73   0.73   0.72   0.71   0.74   0.75   \n",
       "sortino_ratio                0.84   0.82   0.83   0.82   0.81   0.84   0.85   \n",
       "monthly_std                  2.88   2.92   2.92   2.92   2.93   2.92   2.93   \n",
       "pct_time_in_market          70.66  70.60  70.18  70.32  70.50  70.09  70.50   \n",
       "total_num_trades           205.00 117.00  84.00  63.00  54.00  40.00  35.00   \n",
       "pct_profitable_trades       29.27  44.44  51.19  50.79  51.85  65.00  71.43   \n",
       "avg_points                  10.63  19.99  27.71  40.05  49.85  74.73  85.28   \n",
       "\n",
       "                               35     40     45     50     55     60     65  \\\n",
       "annual_return_rate           7.49   7.18   7.31   7.22   6.71   6.31   6.18   \n",
       "max_closed_out_drawdown    -21.35 -21.73 -21.73 -21.77 -36.89 -37.12 -37.70   \n",
       "drawdown_annualized_return  -2.85  -3.03  -2.97  -3.01  -5.50  -5.88  -6.10   \n",
       "drawdown_recovery           -0.99  -0.99  -0.99  -0.99  -0.99  -0.99  -1.23   \n",
       "best_month                  14.94  14.55  14.55  14.55  14.52  14.55  14.51   \n",
       "worst_month                -13.94 -13.94 -13.93 -13.94 -31.44 -31.44 -31.45   \n",
       "sharpe_ratio                 0.75   0.72   0.73   0.71   0.65   0.61   0.60   \n",
       "sortino_ratio                0.85   0.82   0.83   0.83   0.71   0.67   0.66   \n",
       "monthly_std                  2.95   2.94   2.97   3.00   3.14   3.16   3.16   \n",
       "pct_time_in_market          70.75  70.41  71.92  73.43  73.66  74.21  74.17   \n",
       "total_num_trades            30.00  30.00  27.00  25.00  24.00  24.00  23.00   \n",
       "pct_profitable_trades       83.33  80.00  85.19  88.00  91.67  87.50  86.96   \n",
       "avg_points                  98.86  96.22 108.26 118.88 113.38 107.49 108.56   \n",
       "\n",
       "                               70     75     80     85     90     95  \n",
       "annual_return_rate           5.70   5.68   5.54   5.84   6.14   6.04  \n",
       "max_closed_out_drawdown    -37.67 -34.27 -34.27 -34.73 -35.01 -35.54  \n",
       "drawdown_annualized_return  -6.60  -6.03  -6.19  -5.95  -5.70  -5.89  \n",
       "drawdown_recovery           -1.23  -1.52  -1.52  -1.52  -1.52  -1.52  \n",
       "best_month                  14.49  14.52  14.49  14.54  14.55  14.55  \n",
       "worst_month                -31.42 -31.45 -31.45 -31.44 -31.47 -31.45  \n",
       "sharpe_ratio                 0.56   0.56   0.54   0.56   0.58   0.57  \n",
       "sortino_ratio                0.61   0.61   0.59   0.62   0.65   0.65  \n",
       "monthly_std                  3.20   3.19   3.22   3.25   3.29   3.34  \n",
       "pct_time_in_market          73.72  73.72  74.35  75.78  76.85  78.93  \n",
       "total_num_trades            23.00  21.00  20.00  17.00  15.00  14.00  \n",
       "pct_profitable_trades       82.61  85.71  85.00  94.12 100.00 100.00  \n",
       "avg_points                  97.45  99.39  97.81 124.06 136.99 135.54  "
      ]
     },
     "execution_count": 6,
     "metadata": {},
     "output_type": "execute_result"
    }
   ],
   "source": [
    "metrics = ('annual_return_rate',\n",
    "           'max_closed_out_drawdown',\n",
    "           'drawdown_annualized_return',\n",
    "           'drawdown_recovery',\n",
    "           'best_month',\n",
    "           'worst_month',\n",
    "           'sharpe_ratio',\n",
    "           'sortino_ratio',\n",
    "           'monthly_std',\n",
    "           'pct_time_in_market',\n",
    "           'total_num_trades',\n",
    "           'pct_profitable_trades',\n",
    "           'avg_points')\n",
    "\n",
    "df = strategy.summary(strategies, *metrics)\n",
    "df"
   ]
  },
  {
   "cell_type": "markdown",
   "metadata": {},
   "source": [
    "Bar graphs"
   ]
  },
  {
   "cell_type": "code",
   "execution_count": 7,
   "metadata": {
    "ExecuteTime": {
     "end_time": "2019-07-31T08:03:17.565240Z",
     "start_time": "2019-07-31T08:03:16.717360Z"
    }
   },
   "outputs": [
    {
     "data": {
      "image/png": "[encoded data removed]",
      "text/plain": [
       "<Figure size 720x504 with 1 Axes>"
      ]
     },
     "metadata": {
      "needs_background": "light"
     },
     "output_type": "display_data"
    },
    {
     "data": {
      "image/png": "[encoded data removed]",
      "text/plain": [
       "<Figure size 720x504 with 1 Axes>"
      ]
     },
     "metadata": {
      "needs_background": "light"
     },
     "output_type": "display_data"
    },
    {
     "data": {
      "image/png": "[encoded data removed]",
      "text/plain": [
       "<Figure size 720x504 with 1 Axes>"
      ]
     },
     "metadata": {
      "needs_background": "light"
     },
     "output_type": "display_data"
    }
   ],
   "source": [
    "strategy.plot_bar_graph(df, 'annual_return_rate')\n",
    "strategy.plot_bar_graph(df, 'sharpe_ratio')\n",
    "strategy.plot_bar_graph(df, 'max_closed_out_drawdown')"
   ]
  },
  {
   "cell_type": "markdown",
   "metadata": {},
   "source": [
    "Run Benchmark"
   ]
  },
  {
   "cell_type": "code",
   "execution_count": 8,
   "metadata": {
    "ExecuteTime": {
     "end_time": "2019-07-31T08:03:18.191244Z",
     "start_time": "2019-07-31T08:03:17.570159Z"
    }
   },
   "outputs": [
    {
     "name": "stdout",
     "output_type": "stream",
     "text": [
      "1950-10-18 00:00:00 BUY  499 ^GSPC @ 20.01\n",
      "2019-07-24 00:00:00 SELL 499 ^GSPC @ 3019.56\n"
     ]
    }
   ],
   "source": [
    "s = strategies[bands[0]]\n",
    "benchmark = pf.Benchmark(symbol, capital, s._start, s._end)\n",
    "benchmark.run()\n",
    "benchmark.tlog, benchmark.dbal = benchmark.get_logs()\n",
    "benchmark.stats = benchmark.stats()"
   ]
  },
  {
   "cell_type": "markdown",
   "metadata": {},
   "source": [
    "Equity curve"
   ]
  },
  {
   "cell_type": "code",
   "execution_count": 9,
   "metadata": {
    "ExecuteTime": {
     "end_time": "2019-07-31T08:03:18.490427Z",
     "start_time": "2019-07-31T08:03:18.201225Z"
    }
   },
   "outputs": [
    {
     "data": {
      "image/png": "[encoded data removed]",
      "text/plain": [
       "<Figure size 720x504 with 1 Axes>"
      ]
     },
     "metadata": {
      "needs_background": "light"
     },
     "output_type": "display_data"
    }
   ],
   "source": [
    "pf.plot_equity_curve(strategies['35'].dbal, benchmark=benchmark.dbal)"
   ]
  }
 ],
 "metadata": {
  "kernelspec": {
   "display_name": "Python 2",
   "language": "python",
   "name": "python2"
  },
  "language_info": {
   "codemirror_mode": {
    "name": "ipython",
    "version": 2
   },
   "file_extension": ".py",
   "mimetype": "text/x-python",
   "name": "python",
   "nbconvert_exporter": "python",
   "pygments_lexer": "ipython2",
   "version": "2.7.15+"
  },
  "latex_envs": {
   "LaTeX_envs_menu_present": true,
   "autoclose": false,
   "autocomplete": true,
   "bibliofile": "biblio.bib",
   "cite_by": "apalike",
   "current_citInitial": 1,
   "eqLabelWithNumbers": true,
   "eqNumInitial": 1,
   "hotkeys": {
    "equation": "Ctrl-E",
    "itemize": "Ctrl-I"
   },
   "labels_anchors": false,
   "latex_user_defs": false,
   "report_style_numbering": false,
   "user_envs_cfg": false
  }
 },
 "nbformat": 4,
 "nbformat_minor": 1
}
