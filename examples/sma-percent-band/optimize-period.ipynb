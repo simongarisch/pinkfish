{
 "cells": [
  {
   "cell_type": "markdown",
   "metadata": {},
   "source": [
    "# SMA Percent Band\n",
    "\n",
    "    1. The SPY closes above its upper band, buy\n",
    "    2. If the SPY closes below its lower band, sell your long position.\n",
    "    \n",
    "    (optimize period)"
   ]
  },
  {
   "cell_type": "code",
   "execution_count": 1,
   "metadata": {
    "ExecuteTime": {
     "end_time": "2019-07-31T07:54:03.458972Z",
     "start_time": "2019-07-31T07:54:02.896266Z"
    }
   },
   "outputs": [],
   "source": [
    "# use future imports for python 3.x forward compatibility\n",
    "from __future__ import print_function\n",
    "from __future__ import unicode_literals\n",
    "from __future__ import division\n",
    "from __future__ import absolute_import\n",
    "\n",
    "# other imports\n",
    "import pandas as pd\n",
    "import matplotlib.pyplot as plt\n",
    "import datetime\n",
    "from talib.abstract import *\n",
    "\n",
    "# project imports\n",
    "import pinkfish as pf\n",
    "import strategy\n",
    "\n",
    "# format price data\n",
    "pd.options.display.float_format = '{:0.2f}'.format\n",
    "\n",
    "%matplotlib inline"
   ]
  },
  {
   "cell_type": "code",
   "execution_count": 2,
   "metadata": {
    "ExecuteTime": {
     "end_time": "2019-07-31T07:54:03.476710Z",
     "start_time": "2019-07-31T07:54:03.470176Z"
    }
   },
   "outputs": [],
   "source": [
    "# set size of inline plots\n",
    "'''note: rcParams can't be in same cell as import matplotlib\n",
    "   or %matplotlib inline\n",
    "   \n",
    "   %matplotlib notebook: will lead to interactive plots embedded within\n",
    "   the notebook, you can zoom and resize the figure\n",
    "   \n",
    "   %matplotlib inline: only draw static images in the notebook\n",
    "'''\n",
    "plt.rcParams[\"figure.figsize\"] = (10, 7)"
   ]
  },
  {
   "cell_type": "markdown",
   "metadata": {},
   "source": [
    "Some global data"
   ]
  },
  {
   "cell_type": "code",
   "execution_count": 3,
   "metadata": {
    "ExecuteTime": {
     "end_time": "2019-07-31T07:54:03.491294Z",
     "start_time": "2019-07-31T07:54:03.480865Z"
    }
   },
   "outputs": [],
   "source": [
    "symbol = '^GSPC'\n",
    "#symbol = 'SPY'\n",
    "#symbol = 'DIA'\n",
    "#symbol = 'QQQ'\n",
    "#symbol = 'IWM'\n",
    "#symbol = 'TLT'\n",
    "#symbol = 'GLD'\n",
    "#symbol = 'AAPL'\n",
    "#symbol = 'BBRY'\n",
    "#symbol = 'GDX'\n",
    "capital = 10000\n",
    "start = datetime.datetime(1900, 1, 1)\n",
    "#start = datetime.datetime(1952, 1, 3)\n",
    "end = datetime.datetime.now()"
   ]
  },
  {
   "cell_type": "markdown",
   "metadata": {},
   "source": [
    "Define the periods"
   ]
  },
  {
   "cell_type": "code",
   "execution_count": 4,
   "metadata": {
    "ExecuteTime": {
     "end_time": "2019-07-31T07:54:03.509252Z",
     "start_time": "2019-07-31T07:54:03.495986Z"
    }
   },
   "outputs": [],
   "source": [
    "periods = range(50, 525, 25)\n",
    "periods = [str(period) for period in periods]"
   ]
  },
  {
   "cell_type": "markdown",
   "metadata": {},
   "source": [
    "Run Strategy"
   ]
  },
  {
   "cell_type": "code",
   "execution_count": 5,
   "metadata": {
    "ExecuteTime": {
     "end_time": "2019-07-31T07:54:16.708902Z",
     "start_time": "2019-07-31T07:54:03.513323Z"
    }
   },
   "outputs": [
    {
     "name": "stdout",
     "output_type": "stream",
     "text": [
      "50 75 100 125 150 175 200 225 250 275 300 325 350 375 400 425 450 475 500 "
     ]
    }
   ],
   "source": [
    "strategies = pd.Series()\n",
    "for period in periods:\n",
    "    print(\"{0}\".format(period), end=\" \")\n",
    "    strategies[period] = strategy.Strategy(symbol, capital, start, end, sma_period=int(period))\n",
    "    strategies[period].run()\n",
    "    _, strategies[period].tlog, strategies[period].dbal = strategies[period].get_logs()\n",
    "    strategies[period].stats = strategies[period].stats()"
   ]
  },
  {
   "cell_type": "markdown",
   "metadata": {},
   "source": [
    "Summarize results"
   ]
  },
  {
   "cell_type": "code",
   "execution_count": 6,
   "metadata": {
    "ExecuteTime": {
     "end_time": "2019-07-31T07:54:16.845634Z",
     "start_time": "2019-07-31T07:54:16.722157Z"
    },
    "scrolled": true
   },
   "outputs": [
    {
     "data": {
      "text/html": [
       "<div>\n",
       "<style scoped>\n",
       "    .dataframe tbody tr th:only-of-type {\n",
       "        vertical-align: middle;\n",
       "    }\n",
       "\n",
       "    .dataframe tbody tr th {\n",
       "        vertical-align: top;\n",
       "    }\n",
       "\n",
       "    .dataframe thead th {\n",
       "        text-align: right;\n",
       "    }\n",
       "</style>\n",
       "<table border=\"1\" class=\"dataframe\">\n",
       "  <thead>\n",
       "    <tr style=\"text-align: right;\">\n",
       "      <th></th>\n",
       "      <th>50</th>\n",
       "      <th>75</th>\n",
       "      <th>100</th>\n",
       "      <th>125</th>\n",
       "      <th>150</th>\n",
       "      <th>175</th>\n",
       "      <th>200</th>\n",
       "      <th>225</th>\n",
       "      <th>250</th>\n",
       "      <th>275</th>\n",
       "      <th>300</th>\n",
       "      <th>325</th>\n",
       "      <th>350</th>\n",
       "      <th>375</th>\n",
       "      <th>400</th>\n",
       "      <th>425</th>\n",
       "      <th>450</th>\n",
       "      <th>475</th>\n",
       "      <th>500</th>\n",
       "    </tr>\n",
       "  </thead>\n",
       "  <tbody>\n",
       "    <tr>\n",
       "      <th>start</th>\n",
       "      <td>1950-03-15</td>\n",
       "      <td>1950-04-20</td>\n",
       "      <td>1950-05-25</td>\n",
       "      <td>1950-06-30</td>\n",
       "      <td>1950-08-07</td>\n",
       "      <td>1950-09-12</td>\n",
       "      <td>1950-10-18</td>\n",
       "      <td>1950-11-24</td>\n",
       "      <td>1951-01-02</td>\n",
       "      <td>1951-02-06</td>\n",
       "      <td>1951-03-15</td>\n",
       "      <td>1951-04-20</td>\n",
       "      <td>1951-05-25</td>\n",
       "      <td>1951-07-02</td>\n",
       "      <td>1951-08-07</td>\n",
       "      <td>1951-09-12</td>\n",
       "      <td>1951-10-18</td>\n",
       "      <td>1951-11-27</td>\n",
       "      <td>1952-01-03</td>\n",
       "    </tr>\n",
       "    <tr>\n",
       "      <th>ending_balance</th>\n",
       "      <td>695297.64</td>\n",
       "      <td>752467.00</td>\n",
       "      <td>632316.35</td>\n",
       "      <td>865249.40</td>\n",
       "      <td>1001089.59</td>\n",
       "      <td>1321711.68</td>\n",
       "      <td>1209379.14</td>\n",
       "      <td>1495030.89</td>\n",
       "      <td>1316655.98</td>\n",
       "      <td>1061005.96</td>\n",
       "      <td>890085.25</td>\n",
       "      <td>989715.70</td>\n",
       "      <td>906624.05</td>\n",
       "      <td>1020706.80</td>\n",
       "      <td>844559.19</td>\n",
       "      <td>584869.94</td>\n",
       "      <td>474379.22</td>\n",
       "      <td>500500.46</td>\n",
       "      <td>414288.68</td>\n",
       "    </tr>\n",
       "    <tr>\n",
       "      <th>annual_return_rate</th>\n",
       "      <td>6.31</td>\n",
       "      <td>6.44</td>\n",
       "      <td>6.18</td>\n",
       "      <td>6.67</td>\n",
       "      <td>6.91</td>\n",
       "      <td>7.35</td>\n",
       "      <td>7.22</td>\n",
       "      <td>7.56</td>\n",
       "      <td>7.38</td>\n",
       "      <td>7.05</td>\n",
       "      <td>6.79</td>\n",
       "      <td>6.96</td>\n",
       "      <td>6.84</td>\n",
       "      <td>7.03</td>\n",
       "      <td>6.75</td>\n",
       "      <td>6.18</td>\n",
       "      <td>5.86</td>\n",
       "      <td>5.95</td>\n",
       "      <td>5.67</td>\n",
       "    </tr>\n",
       "    <tr>\n",
       "      <th>max_closed_out_drawdown</th>\n",
       "      <td>-39.52</td>\n",
       "      <td>-37.82</td>\n",
       "      <td>-50.60</td>\n",
       "      <td>-45.23</td>\n",
       "      <td>-38.18</td>\n",
       "      <td>-32.79</td>\n",
       "      <td>-28.26</td>\n",
       "      <td>-25.25</td>\n",
       "      <td>-21.64</td>\n",
       "      <td>-23.85</td>\n",
       "      <td>-35.43</td>\n",
       "      <td>-35.66</td>\n",
       "      <td>-36.46</td>\n",
       "      <td>-35.37</td>\n",
       "      <td>-36.47</td>\n",
       "      <td>-39.90</td>\n",
       "      <td>-43.89</td>\n",
       "      <td>-43.38</td>\n",
       "      <td>-42.93</td>\n",
       "    </tr>\n",
       "    <tr>\n",
       "      <th>drawdown_annualized_return</th>\n",
       "      <td>-6.27</td>\n",
       "      <td>-5.87</td>\n",
       "      <td>-8.19</td>\n",
       "      <td>-6.78</td>\n",
       "      <td>-5.53</td>\n",
       "      <td>-4.46</td>\n",
       "      <td>-3.91</td>\n",
       "      <td>-3.34</td>\n",
       "      <td>-2.93</td>\n",
       "      <td>-3.38</td>\n",
       "      <td>-5.22</td>\n",
       "      <td>-5.12</td>\n",
       "      <td>-5.33</td>\n",
       "      <td>-5.03</td>\n",
       "      <td>-5.41</td>\n",
       "      <td>-6.46</td>\n",
       "      <td>-7.49</td>\n",
       "      <td>-7.29</td>\n",
       "      <td>-7.57</td>\n",
       "    </tr>\n",
       "    <tr>\n",
       "      <th>drawdown_recovery</th>\n",
       "      <td>-9.88</td>\n",
       "      <td>-3.91</td>\n",
       "      <td>-3.93</td>\n",
       "      <td>-3.75</td>\n",
       "      <td>-3.75</td>\n",
       "      <td>-3.75</td>\n",
       "      <td>-3.76</td>\n",
       "      <td>-1.02</td>\n",
       "      <td>-0.30</td>\n",
       "      <td>-0.21</td>\n",
       "      <td>-1.24</td>\n",
       "      <td>-1.22</td>\n",
       "      <td>-1.27</td>\n",
       "      <td>-1.31</td>\n",
       "      <td>-1.36</td>\n",
       "      <td>-1.36</td>\n",
       "      <td>-1.36</td>\n",
       "      <td>-1.36</td>\n",
       "      <td>-1.36</td>\n",
       "    </tr>\n",
       "    <tr>\n",
       "      <th>best_month</th>\n",
       "      <td>15.18</td>\n",
       "      <td>15.17</td>\n",
       "      <td>15.18</td>\n",
       "      <td>14.93</td>\n",
       "      <td>14.92</td>\n",
       "      <td>14.92</td>\n",
       "      <td>13.42</td>\n",
       "      <td>13.41</td>\n",
       "      <td>13.40</td>\n",
       "      <td>13.40</td>\n",
       "      <td>13.40</td>\n",
       "      <td>14.53</td>\n",
       "      <td>14.54</td>\n",
       "      <td>14.55</td>\n",
       "      <td>15.87</td>\n",
       "      <td>15.87</td>\n",
       "      <td>18.16</td>\n",
       "      <td>18.15</td>\n",
       "      <td>18.16</td>\n",
       "    </tr>\n",
       "    <tr>\n",
       "      <th>worst_month</th>\n",
       "      <td>-15.40</td>\n",
       "      <td>-12.67</td>\n",
       "      <td>-12.69</td>\n",
       "      <td>-12.68</td>\n",
       "      <td>-12.11</td>\n",
       "      <td>-11.35</td>\n",
       "      <td>-11.96</td>\n",
       "      <td>-15.03</td>\n",
       "      <td>-14.22</td>\n",
       "      <td>-14.55</td>\n",
       "      <td>-31.46</td>\n",
       "      <td>-31.46</td>\n",
       "      <td>-31.45</td>\n",
       "      <td>-31.45</td>\n",
       "      <td>-31.45</td>\n",
       "      <td>-31.47</td>\n",
       "      <td>-31.44</td>\n",
       "      <td>-31.46</td>\n",
       "      <td>-31.42</td>\n",
       "    </tr>\n",
       "    <tr>\n",
       "      <th>sharpe_ratio</th>\n",
       "      <td>0.69</td>\n",
       "      <td>0.69</td>\n",
       "      <td>0.66</td>\n",
       "      <td>0.70</td>\n",
       "      <td>0.72</td>\n",
       "      <td>0.76</td>\n",
       "      <td>0.74</td>\n",
       "      <td>0.77</td>\n",
       "      <td>0.74</td>\n",
       "      <td>0.71</td>\n",
       "      <td>0.66</td>\n",
       "      <td>0.68</td>\n",
       "      <td>0.66</td>\n",
       "      <td>0.67</td>\n",
       "      <td>0.65</td>\n",
       "      <td>0.59</td>\n",
       "      <td>0.57</td>\n",
       "      <td>0.57</td>\n",
       "      <td>0.55</td>\n",
       "    </tr>\n",
       "    <tr>\n",
       "      <th>sortino_ratio</th>\n",
       "      <td>0.73</td>\n",
       "      <td>0.76</td>\n",
       "      <td>0.72</td>\n",
       "      <td>0.78</td>\n",
       "      <td>0.81</td>\n",
       "      <td>0.85</td>\n",
       "      <td>0.84</td>\n",
       "      <td>0.88</td>\n",
       "      <td>0.86</td>\n",
       "      <td>0.81</td>\n",
       "      <td>0.71</td>\n",
       "      <td>0.73</td>\n",
       "      <td>0.72</td>\n",
       "      <td>0.74</td>\n",
       "      <td>0.71</td>\n",
       "      <td>0.66</td>\n",
       "      <td>0.62</td>\n",
       "      <td>0.63</td>\n",
       "      <td>0.60</td>\n",
       "    </tr>\n",
       "    <tr>\n",
       "      <th>monthly_std</th>\n",
       "      <td>2.79</td>\n",
       "      <td>2.82</td>\n",
       "      <td>2.88</td>\n",
       "      <td>2.89</td>\n",
       "      <td>2.91</td>\n",
       "      <td>2.87</td>\n",
       "      <td>2.88</td>\n",
       "      <td>2.93</td>\n",
       "      <td>2.96</td>\n",
       "      <td>3.00</td>\n",
       "      <td>3.16</td>\n",
       "      <td>3.14</td>\n",
       "      <td>3.16</td>\n",
       "      <td>3.16</td>\n",
       "      <td>3.15</td>\n",
       "      <td>3.20</td>\n",
       "      <td>3.26</td>\n",
       "      <td>3.28</td>\n",
       "      <td>3.31</td>\n",
       "    </tr>\n",
       "    <tr>\n",
       "      <th>pct_time_in_market</th>\n",
       "      <td>63.81</td>\n",
       "      <td>65.77</td>\n",
       "      <td>66.89</td>\n",
       "      <td>68.01</td>\n",
       "      <td>68.88</td>\n",
       "      <td>69.65</td>\n",
       "      <td>70.66</td>\n",
       "      <td>71.62</td>\n",
       "      <td>72.31</td>\n",
       "      <td>72.85</td>\n",
       "      <td>73.46</td>\n",
       "      <td>73.94</td>\n",
       "      <td>74.37</td>\n",
       "      <td>74.96</td>\n",
       "      <td>75.54</td>\n",
       "      <td>76.02</td>\n",
       "      <td>76.57</td>\n",
       "      <td>77.04</td>\n",
       "      <td>77.56</td>\n",
       "    </tr>\n",
       "    <tr>\n",
       "      <th>total_num_trades</th>\n",
       "      <td>537</td>\n",
       "      <td>429</td>\n",
       "      <td>368</td>\n",
       "      <td>320</td>\n",
       "      <td>276</td>\n",
       "      <td>229</td>\n",
       "      <td>205</td>\n",
       "      <td>189</td>\n",
       "      <td>170</td>\n",
       "      <td>172</td>\n",
       "      <td>145</td>\n",
       "      <td>126</td>\n",
       "      <td>126</td>\n",
       "      <td>118</td>\n",
       "      <td>126</td>\n",
       "      <td>138</td>\n",
       "      <td>124</td>\n",
       "      <td>133</td>\n",
       "      <td>136</td>\n",
       "    </tr>\n",
       "    <tr>\n",
       "      <th>pct_profitable_trades</th>\n",
       "      <td>31.10</td>\n",
       "      <td>30.07</td>\n",
       "      <td>26.36</td>\n",
       "      <td>28.12</td>\n",
       "      <td>27.90</td>\n",
       "      <td>29.26</td>\n",
       "      <td>29.27</td>\n",
       "      <td>26.98</td>\n",
       "      <td>28.24</td>\n",
       "      <td>28.49</td>\n",
       "      <td>28.28</td>\n",
       "      <td>27.78</td>\n",
       "      <td>26.98</td>\n",
       "      <td>26.27</td>\n",
       "      <td>24.60</td>\n",
       "      <td>23.19</td>\n",
       "      <td>23.39</td>\n",
       "      <td>21.80</td>\n",
       "      <td>19.12</td>\n",
       "    </tr>\n",
       "    <tr>\n",
       "      <th>avg_points</th>\n",
       "      <td>2.14</td>\n",
       "      <td>3.86</td>\n",
       "      <td>3.99</td>\n",
       "      <td>5.05</td>\n",
       "      <td>5.30</td>\n",
       "      <td>8.04</td>\n",
       "      <td>10.63</td>\n",
       "      <td>13.00</td>\n",
       "      <td>14.68</td>\n",
       "      <td>13.50</td>\n",
       "      <td>16.49</td>\n",
       "      <td>21.47</td>\n",
       "      <td>19.89</td>\n",
       "      <td>23.82</td>\n",
       "      <td>22.78</td>\n",
       "      <td>19.52</td>\n",
       "      <td>21.06</td>\n",
       "      <td>19.17</td>\n",
       "      <td>18.48</td>\n",
       "    </tr>\n",
       "  </tbody>\n",
       "</table>\n",
       "</div>"
      ],
      "text/plain": [
       "                                    50          75         100         125  \\\n",
       "start                       1950-03-15  1950-04-20  1950-05-25  1950-06-30   \n",
       "ending_balance               695297.64   752467.00   632316.35   865249.40   \n",
       "annual_return_rate                6.31        6.44        6.18        6.67   \n",
       "max_closed_out_drawdown         -39.52      -37.82      -50.60      -45.23   \n",
       "drawdown_annualized_return       -6.27       -5.87       -8.19       -6.78   \n",
       "drawdown_recovery                -9.88       -3.91       -3.93       -3.75   \n",
       "best_month                       15.18       15.17       15.18       14.93   \n",
       "worst_month                     -15.40      -12.67      -12.69      -12.68   \n",
       "sharpe_ratio                      0.69        0.69        0.66        0.70   \n",
       "sortino_ratio                     0.73        0.76        0.72        0.78   \n",
       "monthly_std                       2.79        2.82        2.88        2.89   \n",
       "pct_time_in_market               63.81       65.77       66.89       68.01   \n",
       "total_num_trades                   537         429         368         320   \n",
       "pct_profitable_trades            31.10       30.07       26.36       28.12   \n",
       "avg_points                        2.14        3.86        3.99        5.05   \n",
       "\n",
       "                                   150         175         200         225  \\\n",
       "start                       1950-08-07  1950-09-12  1950-10-18  1950-11-24   \n",
       "ending_balance              1001089.59  1321711.68  1209379.14  1495030.89   \n",
       "annual_return_rate                6.91        7.35        7.22        7.56   \n",
       "max_closed_out_drawdown         -38.18      -32.79      -28.26      -25.25   \n",
       "drawdown_annualized_return       -5.53       -4.46       -3.91       -3.34   \n",
       "drawdown_recovery                -3.75       -3.75       -3.76       -1.02   \n",
       "best_month                       14.92       14.92       13.42       13.41   \n",
       "worst_month                     -12.11      -11.35      -11.96      -15.03   \n",
       "sharpe_ratio                      0.72        0.76        0.74        0.77   \n",
       "sortino_ratio                     0.81        0.85        0.84        0.88   \n",
       "monthly_std                       2.91        2.87        2.88        2.93   \n",
       "pct_time_in_market               68.88       69.65       70.66       71.62   \n",
       "total_num_trades                   276         229         205         189   \n",
       "pct_profitable_trades            27.90       29.26       29.27       26.98   \n",
       "avg_points                        5.30        8.04       10.63       13.00   \n",
       "\n",
       "                                   250         275         300         325  \\\n",
       "start                       1951-01-02  1951-02-06  1951-03-15  1951-04-20   \n",
       "ending_balance              1316655.98  1061005.96   890085.25   989715.70   \n",
       "annual_return_rate                7.38        7.05        6.79        6.96   \n",
       "max_closed_out_drawdown         -21.64      -23.85      -35.43      -35.66   \n",
       "drawdown_annualized_return       -2.93       -3.38       -5.22       -5.12   \n",
       "drawdown_recovery                -0.30       -0.21       -1.24       -1.22   \n",
       "best_month                       13.40       13.40       13.40       14.53   \n",
       "worst_month                     -14.22      -14.55      -31.46      -31.46   \n",
       "sharpe_ratio                      0.74        0.71        0.66        0.68   \n",
       "sortino_ratio                     0.86        0.81        0.71        0.73   \n",
       "monthly_std                       2.96        3.00        3.16        3.14   \n",
       "pct_time_in_market               72.31       72.85       73.46       73.94   \n",
       "total_num_trades                   170         172         145         126   \n",
       "pct_profitable_trades            28.24       28.49       28.28       27.78   \n",
       "avg_points                       14.68       13.50       16.49       21.47   \n",
       "\n",
       "                                   350         375         400         425  \\\n",
       "start                       1951-05-25  1951-07-02  1951-08-07  1951-09-12   \n",
       "ending_balance               906624.05  1020706.80   844559.19   584869.94   \n",
       "annual_return_rate                6.84        7.03        6.75        6.18   \n",
       "max_closed_out_drawdown         -36.46      -35.37      -36.47      -39.90   \n",
       "drawdown_annualized_return       -5.33       -5.03       -5.41       -6.46   \n",
       "drawdown_recovery                -1.27       -1.31       -1.36       -1.36   \n",
       "best_month                       14.54       14.55       15.87       15.87   \n",
       "worst_month                     -31.45      -31.45      -31.45      -31.47   \n",
       "sharpe_ratio                      0.66        0.67        0.65        0.59   \n",
       "sortino_ratio                     0.72        0.74        0.71        0.66   \n",
       "monthly_std                       3.16        3.16        3.15        3.20   \n",
       "pct_time_in_market               74.37       74.96       75.54       76.02   \n",
       "total_num_trades                   126         118         126         138   \n",
       "pct_profitable_trades            26.98       26.27       24.60       23.19   \n",
       "avg_points                       19.89       23.82       22.78       19.52   \n",
       "\n",
       "                                   450         475         500  \n",
       "start                       1951-10-18  1951-11-27  1952-01-03  \n",
       "ending_balance               474379.22   500500.46   414288.68  \n",
       "annual_return_rate                5.86        5.95        5.67  \n",
       "max_closed_out_drawdown         -43.89      -43.38      -42.93  \n",
       "drawdown_annualized_return       -7.49       -7.29       -7.57  \n",
       "drawdown_recovery                -1.36       -1.36       -1.36  \n",
       "best_month                       18.16       18.15       18.16  \n",
       "worst_month                     -31.44      -31.46      -31.42  \n",
       "sharpe_ratio                      0.57        0.57        0.55  \n",
       "sortino_ratio                     0.62        0.63        0.60  \n",
       "monthly_std                       3.26        3.28        3.31  \n",
       "pct_time_in_market               76.57       77.04       77.56  \n",
       "total_num_trades                   124         133         136  \n",
       "pct_profitable_trades            23.39       21.80       19.12  \n",
       "avg_points                       21.06       19.17       18.48  "
      ]
     },
     "execution_count": 6,
     "metadata": {},
     "output_type": "execute_result"
    }
   ],
   "source": [
    "metrics = ('start',\n",
    "           'ending_balance',\n",
    "           'annual_return_rate',\n",
    "           'max_closed_out_drawdown',\n",
    "           'drawdown_annualized_return',\n",
    "           'drawdown_recovery',\n",
    "           'best_month',\n",
    "           'worst_month',\n",
    "           'sharpe_ratio',\n",
    "           'sortino_ratio',\n",
    "           'monthly_std',\n",
    "           'pct_time_in_market',\n",
    "           'total_num_trades',\n",
    "           'pct_profitable_trades',\n",
    "           'avg_points')\n",
    "\n",
    "df = strategy.summary(strategies, *metrics)\n",
    "df"
   ]
  },
  {
   "cell_type": "markdown",
   "metadata": {},
   "source": [
    "Bar graphs"
   ]
  },
  {
   "cell_type": "code",
   "execution_count": 7,
   "metadata": {
    "ExecuteTime": {
     "end_time": "2019-07-31T07:54:18.494599Z",
     "start_time": "2019-07-31T07:54:16.850963Z"
    }
   },
   "outputs": [
    {
     "data": {
      "image/png": "[encoded data removed]",
      "text/plain": [
       "<Figure size 720x504 with 1 Axes>"
      ]
     },
     "metadata": {
      "needs_background": "light"
     },
     "output_type": "display_data"
    },
    {
     "data": {
      "image/png": "[encoded data removed]",
      "text/plain": [
       "<Figure size 720x504 with 1 Axes>"
      ]
     },
     "metadata": {
      "needs_background": "light"
     },
     "output_type": "display_data"
    },
    {
     "data": {
      "image/png": "[encoded data removed]",
      "text/plain": [
       "<Figure size 720x504 with 1 Axes>"
      ]
     },
     "metadata": {
      "needs_background": "light"
     },
     "output_type": "display_data"
    },
    {
     "data": {
      "image/png": "[encoded data removed]",
      "text/plain": [
       "<Figure size 720x504 with 1 Axes>"
      ]
     },
     "metadata": {
      "needs_background": "light"
     },
     "output_type": "display_data"
    }
   ],
   "source": [
    "strategy.plot_bar_graph(df, 'annual_return_rate')\n",
    "strategy.plot_bar_graph(df, 'ending_balance')\n",
    "strategy.plot_bar_graph(df, 'sharpe_ratio')\n",
    "strategy.plot_bar_graph(df, 'max_closed_out_drawdown')"
   ]
  },
  {
   "cell_type": "markdown",
   "metadata": {},
   "source": [
    "Run Benchmark"
   ]
  },
  {
   "cell_type": "code",
   "execution_count": 8,
   "metadata": {
    "ExecuteTime": {
     "end_time": "2019-07-31T07:54:19.288559Z",
     "start_time": "2019-07-31T07:54:18.498557Z"
    }
   },
   "outputs": [
    {
     "name": "stdout",
     "output_type": "stream",
     "text": [
      "1950-03-15 00:00:00 BUY  573 ^GSPC @ 17.45\n",
      "2019-07-24 00:00:00 SELL 573 ^GSPC @ 3019.56\n"
     ]
    }
   ],
   "source": [
    "s = strategies[periods[0]]\n",
    "benchmark = pf.Benchmark(symbol, capital, s._start, s._end)\n",
    "benchmark.run()\n",
    "benchmark.tlog, benchmark.dbal = benchmark.get_logs()\n",
    "benchmark.stats = benchmark.stats()"
   ]
  },
  {
   "cell_type": "markdown",
   "metadata": {},
   "source": [
    "Equity curve"
   ]
  },
  {
   "cell_type": "code",
   "execution_count": 9,
   "metadata": {
    "ExecuteTime": {
     "end_time": "2019-07-31T07:54:19.906172Z",
     "start_time": "2019-07-31T07:54:19.295581Z"
    }
   },
   "outputs": [
    {
     "data": {
      "image/png": "[encoded data removed]",
      "text/plain": [
       "<Figure size 720x504 with 1 Axes>"
      ]
     },
     "metadata": {
      "needs_background": "light"
     },
     "output_type": "display_data"
    }
   ],
   "source": [
    "pf.plot_equity_curve(strategies['225'].dbal, benchmark=benchmark.dbal)"
   ]
  }
 ],
 "metadata": {
  "kernelspec": {
   "display_name": "Python 2",
   "language": "python",
   "name": "python2"
  },
  "language_info": {
   "codemirror_mode": {
    "name": "ipython",
    "version": 2
   },
   "file_extension": ".py",
   "mimetype": "text/x-python",
   "name": "python",
   "nbconvert_exporter": "python",
   "pygments_lexer": "ipython2",
   "version": "2.7.15+"
  },
  "latex_envs": {
   "LaTeX_envs_menu_present": true,
   "autoclose": false,
   "autocomplete": true,
   "bibliofile": "biblio.bib",
   "cite_by": "apalike",
   "current_citInitial": 1,
   "eqLabelWithNumbers": true,
   "eqNumInitial": 1,
   "hotkeys": {
    "equation": "Ctrl-E",
    "itemize": "Ctrl-I"
   },
   "labels_anchors": false,
   "latex_user_defs": false,
   "report_style_numbering": false,
   "user_envs_cfg": false
  }
 },
 "nbformat": 4,
 "nbformat_minor": 2
}
