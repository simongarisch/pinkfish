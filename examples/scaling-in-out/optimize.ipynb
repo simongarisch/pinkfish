{
 "cells": [
  {
   "cell_type": "markdown",
   "metadata": {},
   "source": [
    "# Double 7's (Short Term Trading Strategies that Work)\n",
    "\n",
    "    1. The SPY is above its 200-day moving average\n",
    "    2. The SPY closes at a X-day low, buy some shares.\n",
    "       If it falls further, buy some more, etc...\n",
    "    3. If the SPY closes at a X-day high, sell your entire long position.\n",
    "    \n",
    "    (optimize for number of positions)"
   ]
  },
  {
   "cell_type": "code",
   "execution_count": 1,
   "metadata": {
    "ExecuteTime": {
     "end_time": "2019-07-31T07:49:57.388138Z",
     "start_time": "2019-07-31T07:49:56.654043Z"
    }
   },
   "outputs": [],
   "source": [
    "# use future imports for python 3.x forward compatibility\n",
    "from __future__ import print_function\n",
    "from __future__ import unicode_literals\n",
    "from __future__ import division\n",
    "from __future__ import absolute_import\n",
    "\n",
    "# other imports\n",
    "import pandas as pd\n",
    "import matplotlib.pyplot as plt\n",
    "import datetime\n",
    "from talib.abstract import *\n",
    "\n",
    "# project imports\n",
    "import pinkfish as pf\n",
    "import strategy\n",
    "\n",
    "# format price data\n",
    "pd.options.display.float_format = '{:0.2f}'.format\n",
    "\n",
    "%matplotlib inline"
   ]
  },
  {
   "cell_type": "code",
   "execution_count": 2,
   "metadata": {
    "ExecuteTime": {
     "end_time": "2019-07-31T07:49:57.406981Z",
     "start_time": "2019-07-31T07:49:57.398388Z"
    }
   },
   "outputs": [],
   "source": [
    "# set size of inline plots\n",
    "'''note: rcParams can't be in same cell as import matplotlib\n",
    "   or %matplotlib inline\n",
    "   \n",
    "   %matplotlib notebook: will lead to interactive plots embedded within\n",
    "   the notebook, you can zoom and resize the figure\n",
    "   \n",
    "   %matplotlib inline: only draw static images in the notebook\n",
    "'''\n",
    "plt.rcParams[\"figure.figsize\"] = (10, 7)"
   ]
  },
  {
   "cell_type": "markdown",
   "metadata": {},
   "source": [
    "Some global data"
   ]
  },
  {
   "cell_type": "code",
   "execution_count": 3,
   "metadata": {
    "ExecuteTime": {
     "end_time": "2019-07-31T07:49:57.421426Z",
     "start_time": "2019-07-31T07:49:57.414872Z"
    }
   },
   "outputs": [],
   "source": [
    "#symbol = '^GSPC'\n",
    "symbol = 'SPY'\n",
    "#symbol = 'DIA'\n",
    "#symbol = 'QQQ'\n",
    "#symbol = 'IWM'\n",
    "#symbol = 'TLT'\n",
    "#symbol = 'GLD'\n",
    "#symbol = 'AAPL'\n",
    "#symbol = 'BBRY'\n",
    "#symbol = 'GDX'\n",
    "capital = 10000\n",
    "start = datetime.datetime(1900, 1, 1)\n",
    "#end = datetime.datetime(2010, 12, 1)\n",
    "end = datetime.datetime.now()"
   ]
  },
  {
   "cell_type": "markdown",
   "metadata": {},
   "source": [
    "Define high low trade periods"
   ]
  },
  {
   "cell_type": "code",
   "execution_count": 4,
   "metadata": {
    "ExecuteTime": {
     "end_time": "2019-07-31T07:49:57.431228Z",
     "start_time": "2019-07-31T07:49:57.426256Z"
    }
   },
   "outputs": [],
   "source": [
    "period = 7"
   ]
  },
  {
   "cell_type": "markdown",
   "metadata": {},
   "source": [
    "Define max number of positions to scale into"
   ]
  },
  {
   "cell_type": "code",
   "execution_count": 5,
   "metadata": {
    "ExecuteTime": {
     "end_time": "2019-07-31T07:49:57.452227Z",
     "start_time": "2019-07-31T07:49:57.443488Z"
    }
   },
   "outputs": [],
   "source": [
    "pos = range(1, 10)\n",
    "pos = [str(p) for p in pos]"
   ]
  },
  {
   "cell_type": "markdown",
   "metadata": {},
   "source": [
    "Run Strategy"
   ]
  },
  {
   "cell_type": "code",
   "execution_count": 6,
   "metadata": {
    "ExecuteTime": {
     "end_time": "2019-07-31T07:50:04.006287Z",
     "start_time": "2019-07-31T07:49:57.456563Z"
    }
   },
   "outputs": [
    {
     "name": "stdout",
     "output_type": "stream",
     "text": [
      "1 2 3 4 5 6 7 8 9 "
     ]
    }
   ],
   "source": [
    "strategies = pd.Series()\n",
    "for p in pos:\n",
    "    print(\"{0}\".format(p), end=\" \")\n",
    "    strategies[p] = strategy.Strategy(symbol, capital, start, end, period=period, max_positions=int(p))\n",
    "    strategies[p].run()\n",
    "    strategies[p].tlog, strategies[p].dbal = strategies[p].get_logs()\n",
    "    strategies[p].stats = strategies[p].stats()"
   ]
  },
  {
   "cell_type": "markdown",
   "metadata": {},
   "source": [
    "Summarize results"
   ]
  },
  {
   "cell_type": "code",
   "execution_count": 7,
   "metadata": {
    "ExecuteTime": {
     "end_time": "2019-07-31T07:50:04.065366Z",
     "start_time": "2019-07-31T07:50:04.015658Z"
    },
    "scrolled": true
   },
   "outputs": [
    {
     "data": {
      "text/html": [
       "<div>\n",
       "<style scoped>\n",
       "    .dataframe tbody tr th:only-of-type {\n",
       "        vertical-align: middle;\n",
       "    }\n",
       "\n",
       "    .dataframe tbody tr th {\n",
       "        vertical-align: top;\n",
       "    }\n",
       "\n",
       "    .dataframe thead th {\n",
       "        text-align: right;\n",
       "    }\n",
       "</style>\n",
       "<table border=\"1\" class=\"dataframe\">\n",
       "  <thead>\n",
       "    <tr style=\"text-align: right;\">\n",
       "      <th></th>\n",
       "      <th>1</th>\n",
       "      <th>2</th>\n",
       "      <th>3</th>\n",
       "      <th>4</th>\n",
       "      <th>5</th>\n",
       "      <th>6</th>\n",
       "      <th>7</th>\n",
       "      <th>8</th>\n",
       "      <th>9</th>\n",
       "    </tr>\n",
       "  </thead>\n",
       "  <tbody>\n",
       "    <tr>\n",
       "      <th>annual_return_rate</th>\n",
       "      <td>7.57</td>\n",
       "      <td>6.90</td>\n",
       "      <td>6.14</td>\n",
       "      <td>5.84</td>\n",
       "      <td>5.45</td>\n",
       "      <td>4.82</td>\n",
       "      <td>4.25</td>\n",
       "      <td>3.73</td>\n",
       "      <td>3.34</td>\n",
       "    </tr>\n",
       "    <tr>\n",
       "      <th>max_closed_out_drawdown</th>\n",
       "      <td>-14.63</td>\n",
       "      <td>-14.23</td>\n",
       "      <td>-13.62</td>\n",
       "      <td>-14.35</td>\n",
       "      <td>-14.09</td>\n",
       "      <td>-14.11</td>\n",
       "      <td>-13.98</td>\n",
       "      <td>-13.94</td>\n",
       "      <td>-13.52</td>\n",
       "    </tr>\n",
       "    <tr>\n",
       "      <th>drawdown_annualized_return</th>\n",
       "      <td>-1.93</td>\n",
       "      <td>-2.06</td>\n",
       "      <td>-2.22</td>\n",
       "      <td>-2.46</td>\n",
       "      <td>-2.58</td>\n",
       "      <td>-2.93</td>\n",
       "      <td>-3.29</td>\n",
       "      <td>-3.74</td>\n",
       "      <td>-4.05</td>\n",
       "    </tr>\n",
       "    <tr>\n",
       "      <th>drawdown_recovery</th>\n",
       "      <td>-1.84</td>\n",
       "      <td>-1.66</td>\n",
       "      <td>-0.05</td>\n",
       "      <td>-0.05</td>\n",
       "      <td>-0.05</td>\n",
       "      <td>-0.18</td>\n",
       "      <td>-0.18</td>\n",
       "      <td>-0.18</td>\n",
       "      <td>-0.18</td>\n",
       "    </tr>\n",
       "    <tr>\n",
       "      <th>best_month</th>\n",
       "      <td>12.88</td>\n",
       "      <td>10.33</td>\n",
       "      <td>9.61</td>\n",
       "      <td>9.70</td>\n",
       "      <td>7.72</td>\n",
       "      <td>7.64</td>\n",
       "      <td>8.47</td>\n",
       "      <td>7.98</td>\n",
       "      <td>8.15</td>\n",
       "    </tr>\n",
       "    <tr>\n",
       "      <th>worst_month</th>\n",
       "      <td>-13.54</td>\n",
       "      <td>-12.72</td>\n",
       "      <td>-12.02</td>\n",
       "      <td>-12.56</td>\n",
       "      <td>-12.60</td>\n",
       "      <td>-11.73</td>\n",
       "      <td>-11.90</td>\n",
       "      <td>-12.13</td>\n",
       "      <td>-12.24</td>\n",
       "    </tr>\n",
       "    <tr>\n",
       "      <th>sharpe_ratio</th>\n",
       "      <td>0.79</td>\n",
       "      <td>0.77</td>\n",
       "      <td>0.73</td>\n",
       "      <td>0.74</td>\n",
       "      <td>0.74</td>\n",
       "      <td>0.72</td>\n",
       "      <td>0.68</td>\n",
       "      <td>0.64</td>\n",
       "      <td>0.61</td>\n",
       "    </tr>\n",
       "    <tr>\n",
       "      <th>sortino_ratio</th>\n",
       "      <td>0.59</td>\n",
       "      <td>0.59</td>\n",
       "      <td>0.56</td>\n",
       "      <td>0.58</td>\n",
       "      <td>0.58</td>\n",
       "      <td>0.56</td>\n",
       "      <td>0.52</td>\n",
       "      <td>0.48</td>\n",
       "      <td>0.45</td>\n",
       "    </tr>\n",
       "    <tr>\n",
       "      <th>monthly_std</th>\n",
       "      <td>2.08</td>\n",
       "      <td>1.91</td>\n",
       "      <td>1.75</td>\n",
       "      <td>1.65</td>\n",
       "      <td>1.55</td>\n",
       "      <td>1.42</td>\n",
       "      <td>1.33</td>\n",
       "      <td>1.23</td>\n",
       "      <td>1.16</td>\n",
       "    </tr>\n",
       "    <tr>\n",
       "      <th>pct_time_in_market</th>\n",
       "      <td>29.85</td>\n",
       "      <td>35.88</td>\n",
       "      <td>39.74</td>\n",
       "      <td>42.51</td>\n",
       "      <td>44.02</td>\n",
       "      <td>44.82</td>\n",
       "      <td>45.33</td>\n",
       "      <td>45.74</td>\n",
       "      <td>45.95</td>\n",
       "    </tr>\n",
       "    <tr>\n",
       "      <th>total_num_trades</th>\n",
       "      <td>259.00</td>\n",
       "      <td>413.00</td>\n",
       "      <td>508.00</td>\n",
       "      <td>573.00</td>\n",
       "      <td>617.00</td>\n",
       "      <td>640.00</td>\n",
       "      <td>653.00</td>\n",
       "      <td>660.00</td>\n",
       "      <td>665.00</td>\n",
       "    </tr>\n",
       "    <tr>\n",
       "      <th>pct_profitable_trades</th>\n",
       "      <td>78.76</td>\n",
       "      <td>77.48</td>\n",
       "      <td>76.97</td>\n",
       "      <td>77.31</td>\n",
       "      <td>77.63</td>\n",
       "      <td>77.81</td>\n",
       "      <td>77.64</td>\n",
       "      <td>77.58</td>\n",
       "      <td>77.44</td>\n",
       "    </tr>\n",
       "    <tr>\n",
       "      <th>avg_points</th>\n",
       "      <td>0.93</td>\n",
       "      <td>1.06</td>\n",
       "      <td>1.16</td>\n",
       "      <td>1.32</td>\n",
       "      <td>1.47</td>\n",
       "      <td>1.54</td>\n",
       "      <td>1.56</td>\n",
       "      <td>1.58</td>\n",
       "      <td>1.59</td>\n",
       "    </tr>\n",
       "    <tr>\n",
       "      <th>pct_profitable_trades</th>\n",
       "      <td>78.76</td>\n",
       "      <td>77.48</td>\n",
       "      <td>76.97</td>\n",
       "      <td>77.31</td>\n",
       "      <td>77.63</td>\n",
       "      <td>77.81</td>\n",
       "      <td>77.64</td>\n",
       "      <td>77.58</td>\n",
       "      <td>77.44</td>\n",
       "    </tr>\n",
       "  </tbody>\n",
       "</table>\n",
       "</div>"
      ],
      "text/plain": [
       "                                1      2      3      4      5      6      7  \\\n",
       "annual_return_rate           7.57   6.90   6.14   5.84   5.45   4.82   4.25   \n",
       "max_closed_out_drawdown    -14.63 -14.23 -13.62 -14.35 -14.09 -14.11 -13.98   \n",
       "drawdown_annualized_return  -1.93  -2.06  -2.22  -2.46  -2.58  -2.93  -3.29   \n",
       "drawdown_recovery           -1.84  -1.66  -0.05  -0.05  -0.05  -0.18  -0.18   \n",
       "best_month                  12.88  10.33   9.61   9.70   7.72   7.64   8.47   \n",
       "worst_month                -13.54 -12.72 -12.02 -12.56 -12.60 -11.73 -11.90   \n",
       "sharpe_ratio                 0.79   0.77   0.73   0.74   0.74   0.72   0.68   \n",
       "sortino_ratio                0.59   0.59   0.56   0.58   0.58   0.56   0.52   \n",
       "monthly_std                  2.08   1.91   1.75   1.65   1.55   1.42   1.33   \n",
       "pct_time_in_market          29.85  35.88  39.74  42.51  44.02  44.82  45.33   \n",
       "total_num_trades           259.00 413.00 508.00 573.00 617.00 640.00 653.00   \n",
       "pct_profitable_trades       78.76  77.48  76.97  77.31  77.63  77.81  77.64   \n",
       "avg_points                   0.93   1.06   1.16   1.32   1.47   1.54   1.56   \n",
       "pct_profitable_trades       78.76  77.48  76.97  77.31  77.63  77.81  77.64   \n",
       "\n",
       "                                8      9  \n",
       "annual_return_rate           3.73   3.34  \n",
       "max_closed_out_drawdown    -13.94 -13.52  \n",
       "drawdown_annualized_return  -3.74  -4.05  \n",
       "drawdown_recovery           -0.18  -0.18  \n",
       "best_month                   7.98   8.15  \n",
       "worst_month                -12.13 -12.24  \n",
       "sharpe_ratio                 0.64   0.61  \n",
       "sortino_ratio                0.48   0.45  \n",
       "monthly_std                  1.23   1.16  \n",
       "pct_time_in_market          45.74  45.95  \n",
       "total_num_trades           660.00 665.00  \n",
       "pct_profitable_trades       77.58  77.44  \n",
       "avg_points                   1.58   1.59  \n",
       "pct_profitable_trades       77.58  77.44  "
      ]
     },
     "execution_count": 7,
     "metadata": {},
     "output_type": "execute_result"
    }
   ],
   "source": [
    "metrics = ('annual_return_rate',\n",
    "           'max_closed_out_drawdown',\n",
    "           'drawdown_annualized_return',\n",
    "           'drawdown_recovery',\n",
    "           'best_month',\n",
    "           'worst_month',\n",
    "           'sharpe_ratio',\n",
    "           'sortino_ratio',\n",
    "           'monthly_std',\n",
    "           'pct_time_in_market',\n",
    "           'total_num_trades',\n",
    "           'pct_profitable_trades',\n",
    "           'avg_points',\n",
    "           'pct_profitable_trades')\n",
    "\n",
    "df = strategy.summary(strategies, *metrics)\n",
    "df"
   ]
  },
  {
   "cell_type": "markdown",
   "metadata": {},
   "source": [
    "Bar graphs"
   ]
  },
  {
   "cell_type": "code",
   "execution_count": 8,
   "metadata": {
    "ExecuteTime": {
     "end_time": "2019-07-31T07:50:04.818021Z",
     "start_time": "2019-07-31T07:50:04.069788Z"
    }
   },
   "outputs": [
    {
     "data": {
      "image/png": "[encoded data removed]",
      "text/plain": [
       "<Figure size 720x504 with 1 Axes>"
      ]
     },
     "metadata": {
      "needs_background": "light"
     },
     "output_type": "display_data"
    },
    {
     "data": {
      "image/png": "[encoded data removed]",
      "text/plain": [
       "<Figure size 720x504 with 1 Axes>"
      ]
     },
     "metadata": {
      "needs_background": "light"
     },
     "output_type": "display_data"
    },
    {
     "data": {
      "image/png": "[encoded data removed]",
      "text/plain": [
       "<Figure size 720x504 with 1 Axes>"
      ]
     },
     "metadata": {
      "needs_background": "light"
     },
     "output_type": "display_data"
    }
   ],
   "source": [
    "strategy.plot_bar_graph(df, 'annual_return_rate')\n",
    "strategy.plot_bar_graph(df, 'sharpe_ratio')\n",
    "strategy.plot_bar_graph(df, 'max_closed_out_drawdown')"
   ]
  },
  {
   "cell_type": "markdown",
   "metadata": {},
   "source": [
    "Run Benchmark"
   ]
  },
  {
   "cell_type": "code",
   "execution_count": 9,
   "metadata": {
    "ExecuteTime": {
     "end_time": "2019-07-31T07:50:05.468018Z",
     "start_time": "2019-07-31T07:50:04.825348Z"
    }
   },
   "outputs": [
    {
     "name": "stdout",
     "output_type": "stream",
     "text": [
      "1993-11-11 00:00:00 BUY  215 SPY @ 46.38\n",
      "2019-07-26 00:00:00 SELL 215 SPY @ 302.01\n"
     ]
    }
   ],
   "source": [
    "s = strategies[pos[0]]\n",
    "benchmark = pf.Benchmark(symbol, capital, s._start, s._end)\n",
    "benchmark.run()\n",
    "benchmark.tlog, benchmark.dbal = benchmark.get_logs()\n",
    "benchmark.stats = benchmark.stats()"
   ]
  },
  {
   "cell_type": "markdown",
   "metadata": {},
   "source": [
    "Equity curve"
   ]
  },
  {
   "cell_type": "code",
   "execution_count": 10,
   "metadata": {
    "ExecuteTime": {
     "end_time": "2019-07-31T07:50:05.825429Z",
     "start_time": "2019-07-31T07:50:05.476975Z"
    }
   },
   "outputs": [
    {
     "data": {
      "image/png": "[encoded data removed]",
      "text/plain": [
       "<Figure size 720x504 with 1 Axes>"
      ]
     },
     "metadata": {
      "needs_background": "light"
     },
     "output_type": "display_data"
    }
   ],
   "source": [
    "pf.plot_equity_curve(strategies['4'].dbal, benchmark=benchmark.dbal)"
   ]
  }
 ],
 "metadata": {
  "kernelspec": {
   "display_name": "Python 2",
   "language": "python",
   "name": "python2"
  },
  "language_info": {
   "codemirror_mode": {
    "name": "ipython",
    "version": 2
   },
   "file_extension": ".py",
   "mimetype": "text/x-python",
   "name": "python",
   "nbconvert_exporter": "python",
   "pygments_lexer": "ipython2",
   "version": "2.7.15+"
  },
  "latex_envs": {
   "LaTeX_envs_menu_present": true,
   "autoclose": false,
   "autocomplete": true,
   "bibliofile": "biblio.bib",
   "cite_by": "apalike",
   "current_citInitial": 1,
   "eqLabelWithNumbers": true,
   "eqNumInitial": 1,
   "hotkeys": {
    "equation": "Ctrl-E",
    "itemize": "Ctrl-I"
   },
   "labels_anchors": false,
   "latex_user_defs": false,
   "report_style_numbering": false,
   "user_envs_cfg": false
  }
 },
 "nbformat": 4,
 "nbformat_minor": 1
}
