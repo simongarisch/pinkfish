{
 "cells": [
  {
   "cell_type": "markdown",
   "metadata": {},
   "source": [
    "# Golden Cross / Death Cross S&P 500 index (^GSPC)\n",
    "\n",
    "    1. sma50>sma200, buy\n",
    "    2. sma50<sma200, sell your long position."
   ]
  },
  {
   "cell_type": "code",
   "execution_count": 1,
   "metadata": {
    "ExecuteTime": {
     "end_time": "2019-07-31T07:43:00.259917Z",
     "start_time": "2019-07-31T07:42:59.395399Z"
    }
   },
   "outputs": [],
   "source": [
    "# use future imports for python 3.x forward compatibility\n",
    "from __future__ import print_function\n",
    "from __future__ import unicode_literals\n",
    "from __future__ import division\n",
    "from __future__ import absolute_import\n",
    "\n",
    "# other imports\n",
    "import pandas as pd\n",
    "import matplotlib.pyplot as plt\n",
    "import datetime\n",
    "from talib.abstract import *\n",
    "\n",
    "# project imports\n",
    "import pinkfish as pf\n",
    "\n",
    "# format price data\n",
    "pd.options.display.float_format = '{:0.2f}'.format\n",
    "\n",
    "%matplotlib inline"
   ]
  },
  {
   "cell_type": "code",
   "execution_count": 2,
   "metadata": {
    "ExecuteTime": {
     "end_time": "2019-07-31T07:43:00.278029Z",
     "start_time": "2019-07-31T07:43:00.270825Z"
    }
   },
   "outputs": [],
   "source": [
    "# set size of inline plots\n",
    "'''note: rcParams can't be in same cell as import matplotlib\n",
    "   or %matplotlib inline\n",
    "   \n",
    "   %matplotlib notebook: will lead to interactive plots embedded within\n",
    "   the notebook, you can zoom and resize the figure\n",
    "   \n",
    "   %matplotlib inline: only draw static images in the notebook\n",
    "'''\n",
    "plt.rcParams[\"figure.figsize\"] = (10, 7)"
   ]
  },
  {
   "cell_type": "markdown",
   "metadata": {},
   "source": [
    "Some global data"
   ]
  },
  {
   "cell_type": "code",
   "execution_count": 3,
   "metadata": {
    "ExecuteTime": {
     "end_time": "2019-07-31T07:43:00.293183Z",
     "start_time": "2019-07-31T07:43:00.282228Z"
    }
   },
   "outputs": [],
   "source": [
    "symbol = '^GSPC'\n",
    "#symbol = 'SPY'\n",
    "#symbol = 'DIA'\n",
    "#symbol = 'QQQ'\n",
    "#symbol = 'IWM'\n",
    "#symbol = 'TLT'\n",
    "#symbol = 'GLD'\n",
    "#symbol = 'AAPL'\n",
    "#symbol = 'BBRY'\n",
    "capital = 10000\n",
    "start = datetime.datetime(1900, 1, 1)\n",
    "#start = datetime.datetime(2000, 1, 1)\n",
    "#end = datetime.datetime(2010, 12, 1)\n",
    "end = datetime.datetime.now()"
   ]
  },
  {
   "cell_type": "markdown",
   "metadata": {},
   "source": [
    "Include dividends? (If yes, set to True)"
   ]
  },
  {
   "cell_type": "code",
   "execution_count": 4,
   "metadata": {
    "ExecuteTime": {
     "end_time": "2019-07-31T07:43:00.303512Z",
     "start_time": "2019-07-31T07:43:00.297047Z"
    }
   },
   "outputs": [],
   "source": [
    "use_adj = True"
   ]
  },
  {
   "cell_type": "markdown",
   "metadata": {},
   "source": [
    "Fetch symbol data from internet"
   ]
  },
  {
   "cell_type": "code",
   "execution_count": 5,
   "metadata": {
    "ExecuteTime": {
     "end_time": "2019-07-31T07:43:00.439398Z",
     "start_time": "2019-07-31T07:43:00.312260Z"
    }
   },
   "outputs": [
    {
     "data": {
      "text/html": [
       "<div>\n",
       "<style scoped>\n",
       "    .dataframe tbody tr th:only-of-type {\n",
       "        vertical-align: middle;\n",
       "    }\n",
       "\n",
       "    .dataframe tbody tr th {\n",
       "        vertical-align: top;\n",
       "    }\n",
       "\n",
       "    .dataframe thead th {\n",
       "        text-align: right;\n",
       "    }\n",
       "</style>\n",
       "<table border=\"1\" class=\"dataframe\">\n",
       "  <thead>\n",
       "    <tr style=\"text-align: right;\">\n",
       "      <th></th>\n",
       "      <th>high</th>\n",
       "      <th>low</th>\n",
       "      <th>open</th>\n",
       "      <th>close</th>\n",
       "      <th>volume</th>\n",
       "      <th>adj_close</th>\n",
       "    </tr>\n",
       "    <tr>\n",
       "      <th>date</th>\n",
       "      <th></th>\n",
       "      <th></th>\n",
       "      <th></th>\n",
       "      <th></th>\n",
       "      <th></th>\n",
       "      <th></th>\n",
       "    </tr>\n",
       "  </thead>\n",
       "  <tbody>\n",
       "    <tr>\n",
       "      <th>1950-01-03</th>\n",
       "      <td>16.66</td>\n",
       "      <td>16.66</td>\n",
       "      <td>16.66</td>\n",
       "      <td>16.66</td>\n",
       "      <td>1260000</td>\n",
       "      <td>16.66</td>\n",
       "    </tr>\n",
       "    <tr>\n",
       "      <th>1950-01-04</th>\n",
       "      <td>16.85</td>\n",
       "      <td>16.85</td>\n",
       "      <td>16.85</td>\n",
       "      <td>16.85</td>\n",
       "      <td>1890000</td>\n",
       "      <td>16.85</td>\n",
       "    </tr>\n",
       "    <tr>\n",
       "      <th>1950-01-05</th>\n",
       "      <td>16.93</td>\n",
       "      <td>16.93</td>\n",
       "      <td>16.93</td>\n",
       "      <td>16.93</td>\n",
       "      <td>2550000</td>\n",
       "      <td>16.93</td>\n",
       "    </tr>\n",
       "    <tr>\n",
       "      <th>1950-01-06</th>\n",
       "      <td>16.98</td>\n",
       "      <td>16.98</td>\n",
       "      <td>16.98</td>\n",
       "      <td>16.98</td>\n",
       "      <td>2010000</td>\n",
       "      <td>16.98</td>\n",
       "    </tr>\n",
       "    <tr>\n",
       "      <th>1950-01-09</th>\n",
       "      <td>17.08</td>\n",
       "      <td>17.08</td>\n",
       "      <td>17.08</td>\n",
       "      <td>17.08</td>\n",
       "      <td>2520000</td>\n",
       "      <td>17.08</td>\n",
       "    </tr>\n",
       "  </tbody>\n",
       "</table>\n",
       "</div>"
      ],
      "text/plain": [
       "            high   low  open  close   volume  adj_close\n",
       "date                                                   \n",
       "1950-01-03 16.66 16.66 16.66  16.66  1260000      16.66\n",
       "1950-01-04 16.85 16.85 16.85  16.85  1890000      16.85\n",
       "1950-01-05 16.93 16.93 16.93  16.93  2550000      16.93\n",
       "1950-01-06 16.98 16.98 16.98  16.98  2010000      16.98\n",
       "1950-01-09 17.08 17.08 17.08  17.08  2520000      17.08"
      ]
     },
     "execution_count": 5,
     "metadata": {},
     "output_type": "execute_result"
    }
   ],
   "source": [
    "ts = pf.fetch_timeseries(symbol)\n",
    "ts.head()"
   ]
  },
  {
   "cell_type": "markdown",
   "metadata": {},
   "source": [
    "Select timeseries between start and end. Back adjust prices relative to adj_close for dividends and splits."
   ]
  },
  {
   "cell_type": "code",
   "execution_count": 6,
   "metadata": {
    "ExecuteTime": {
     "end_time": "2019-07-31T07:43:00.479393Z",
     "start_time": "2019-07-31T07:43:00.442642Z"
    }
   },
   "outputs": [
    {
     "data": {
      "text/html": [
       "<div>\n",
       "<style scoped>\n",
       "    .dataframe tbody tr th:only-of-type {\n",
       "        vertical-align: middle;\n",
       "    }\n",
       "\n",
       "    .dataframe tbody tr th {\n",
       "        vertical-align: top;\n",
       "    }\n",
       "\n",
       "    .dataframe thead th {\n",
       "        text-align: right;\n",
       "    }\n",
       "</style>\n",
       "<table border=\"1\" class=\"dataframe\">\n",
       "  <thead>\n",
       "    <tr style=\"text-align: right;\">\n",
       "      <th></th>\n",
       "      <th>high</th>\n",
       "      <th>low</th>\n",
       "      <th>open</th>\n",
       "      <th>close</th>\n",
       "      <th>volume</th>\n",
       "      <th>adj_close</th>\n",
       "    </tr>\n",
       "    <tr>\n",
       "      <th>date</th>\n",
       "      <th></th>\n",
       "      <th></th>\n",
       "      <th></th>\n",
       "      <th></th>\n",
       "      <th></th>\n",
       "      <th></th>\n",
       "    </tr>\n",
       "  </thead>\n",
       "  <tbody>\n",
       "    <tr>\n",
       "      <th>1950-01-03</th>\n",
       "      <td>16.66</td>\n",
       "      <td>16.66</td>\n",
       "      <td>16.66</td>\n",
       "      <td>16.66</td>\n",
       "      <td>1260000</td>\n",
       "      <td>16.66</td>\n",
       "    </tr>\n",
       "    <tr>\n",
       "      <th>1950-01-04</th>\n",
       "      <td>16.85</td>\n",
       "      <td>16.85</td>\n",
       "      <td>16.85</td>\n",
       "      <td>16.85</td>\n",
       "      <td>1890000</td>\n",
       "      <td>16.85</td>\n",
       "    </tr>\n",
       "    <tr>\n",
       "      <th>1950-01-05</th>\n",
       "      <td>16.93</td>\n",
       "      <td>16.93</td>\n",
       "      <td>16.93</td>\n",
       "      <td>16.93</td>\n",
       "      <td>2550000</td>\n",
       "      <td>16.93</td>\n",
       "    </tr>\n",
       "    <tr>\n",
       "      <th>1950-01-06</th>\n",
       "      <td>16.98</td>\n",
       "      <td>16.98</td>\n",
       "      <td>16.98</td>\n",
       "      <td>16.98</td>\n",
       "      <td>2010000</td>\n",
       "      <td>16.98</td>\n",
       "    </tr>\n",
       "    <tr>\n",
       "      <th>1950-01-09</th>\n",
       "      <td>17.08</td>\n",
       "      <td>17.08</td>\n",
       "      <td>17.08</td>\n",
       "      <td>17.08</td>\n",
       "      <td>2520000</td>\n",
       "      <td>17.08</td>\n",
       "    </tr>\n",
       "  </tbody>\n",
       "</table>\n",
       "</div>"
      ],
      "text/plain": [
       "            high   low  open  close   volume  adj_close\n",
       "date                                                   \n",
       "1950-01-03 16.66 16.66 16.66  16.66  1260000      16.66\n",
       "1950-01-04 16.85 16.85 16.85  16.85  1890000      16.85\n",
       "1950-01-05 16.93 16.93 16.93  16.93  2550000      16.93\n",
       "1950-01-06 16.98 16.98 16.98  16.98  2010000      16.98\n",
       "1950-01-09 17.08 17.08 17.08  17.08  2520000      17.08"
      ]
     },
     "execution_count": 6,
     "metadata": {},
     "output_type": "execute_result"
    }
   ],
   "source": [
    "ts = pf.select_tradeperiod(ts, start, end, use_adj)\n",
    "ts.head()"
   ]
  },
  {
   "cell_type": "markdown",
   "metadata": {},
   "source": [
    "Add technical indicator: 50 day ma and 200 day ma"
   ]
  },
  {
   "cell_type": "code",
   "execution_count": 7,
   "metadata": {
    "ExecuteTime": {
     "end_time": "2019-07-31T07:43:00.616427Z",
     "start_time": "2019-07-31T07:43:00.490215Z"
    }
   },
   "outputs": [
    {
     "data": {
      "text/html": [
       "<div>\n",
       "<style scoped>\n",
       "    .dataframe tbody tr th:only-of-type {\n",
       "        vertical-align: middle;\n",
       "    }\n",
       "\n",
       "    .dataframe tbody tr th {\n",
       "        vertical-align: top;\n",
       "    }\n",
       "\n",
       "    .dataframe thead th {\n",
       "        text-align: right;\n",
       "    }\n",
       "</style>\n",
       "<table border=\"1\" class=\"dataframe\">\n",
       "  <thead>\n",
       "    <tr style=\"text-align: right;\">\n",
       "      <th></th>\n",
       "      <th>high</th>\n",
       "      <th>low</th>\n",
       "      <th>open</th>\n",
       "      <th>close</th>\n",
       "      <th>volume</th>\n",
       "      <th>adj_close</th>\n",
       "      <th>sma50</th>\n",
       "      <th>sma200</th>\n",
       "    </tr>\n",
       "    <tr>\n",
       "      <th>date</th>\n",
       "      <th></th>\n",
       "      <th></th>\n",
       "      <th></th>\n",
       "      <th></th>\n",
       "      <th></th>\n",
       "      <th></th>\n",
       "      <th></th>\n",
       "      <th></th>\n",
       "    </tr>\n",
       "  </thead>\n",
       "  <tbody>\n",
       "    <tr>\n",
       "      <th>2019-07-18</th>\n",
       "      <td>2998.28</td>\n",
       "      <td>2973.09</td>\n",
       "      <td>2978.87</td>\n",
       "      <td>2995.11</td>\n",
       "      <td>3296580000</td>\n",
       "      <td>2995.11</td>\n",
       "      <td>2897.74</td>\n",
       "      <td>2782.42</td>\n",
       "    </tr>\n",
       "    <tr>\n",
       "      <th>2019-07-19</th>\n",
       "      <td>3006.02</td>\n",
       "      <td>2975.86</td>\n",
       "      <td>3004.26</td>\n",
       "      <td>2976.61</td>\n",
       "      <td>3260360000</td>\n",
       "      <td>2976.61</td>\n",
       "      <td>2899.69</td>\n",
       "      <td>2782.68</td>\n",
       "    </tr>\n",
       "    <tr>\n",
       "      <th>2019-07-22</th>\n",
       "      <td>2990.71</td>\n",
       "      <td>2976.65</td>\n",
       "      <td>2981.93</td>\n",
       "      <td>2985.03</td>\n",
       "      <td>3003720000</td>\n",
       "      <td>2985.03</td>\n",
       "      <td>2901.97</td>\n",
       "      <td>2782.99</td>\n",
       "    </tr>\n",
       "    <tr>\n",
       "      <th>2019-07-23</th>\n",
       "      <td>3005.90</td>\n",
       "      <td>2988.56</td>\n",
       "      <td>2994.74</td>\n",
       "      <td>3005.47</td>\n",
       "      <td>3313660000</td>\n",
       "      <td>3005.47</td>\n",
       "      <td>2904.46</td>\n",
       "      <td>2783.39</td>\n",
       "    </tr>\n",
       "    <tr>\n",
       "      <th>2019-07-24</th>\n",
       "      <td>3019.59</td>\n",
       "      <td>2996.82</td>\n",
       "      <td>2994.74</td>\n",
       "      <td>3019.56</td>\n",
       "      <td>1925226952</td>\n",
       "      <td>3019.56</td>\n",
       "      <td>2908.61</td>\n",
       "      <td>2783.98</td>\n",
       "    </tr>\n",
       "  </tbody>\n",
       "</table>\n",
       "</div>"
      ],
      "text/plain": [
       "              high     low    open   close      volume  adj_close   sma50  \\\n",
       "date                                                                        \n",
       "2019-07-18 2998.28 2973.09 2978.87 2995.11  3296580000    2995.11 2897.74   \n",
       "2019-07-19 3006.02 2975.86 3004.26 2976.61  3260360000    2976.61 2899.69   \n",
       "2019-07-22 2990.71 2976.65 2981.93 2985.03  3003720000    2985.03 2901.97   \n",
       "2019-07-23 3005.90 2988.56 2994.74 3005.47  3313660000    3005.47 2904.46   \n",
       "2019-07-24 3019.59 2996.82 2994.74 3019.56  1925226952    3019.56 2908.61   \n",
       "\n",
       "            sma200  \n",
       "date                \n",
       "2019-07-18 2782.42  \n",
       "2019-07-19 2782.68  \n",
       "2019-07-22 2782.99  \n",
       "2019-07-23 2783.39  \n",
       "2019-07-24 2783.98  "
      ]
     },
     "execution_count": 7,
     "metadata": {},
     "output_type": "execute_result"
    }
   ],
   "source": [
    "sma50 = SMA(ts, timeperiod=50)\n",
    "ts['sma50'] = sma50\n",
    "\n",
    "sma200 = SMA(ts, timeperiod=200)\n",
    "ts['sma200'] = sma200\n",
    "\n",
    "ts.tail()"
   ]
  },
  {
   "cell_type": "markdown",
   "metadata": {},
   "source": [
    "Plot closing price along with moving averages"
   ]
  },
  {
   "cell_type": "code",
   "execution_count": 8,
   "metadata": {
    "ExecuteTime": {
     "end_time": "2019-07-31T07:43:01.086355Z",
     "start_time": "2019-07-31T07:43:00.625644Z"
    }
   },
   "outputs": [
    {
     "data": {
      "text/plain": [
       "<matplotlib.legend.Legend at 0x7efc038d6910>"
      ]
     },
     "execution_count": 8,
     "metadata": {},
     "output_type": "execute_result"
    },
    {
     "data": {
      "image/png": "[encoded data removed]",
      "text/plain": [
       "<Figure size 720x504 with 1 Axes>"
      ]
     },
     "metadata": {
      "needs_background": "light"
     },
     "output_type": "display_data"
    }
   ],
   "source": [
    "fig = plt.figure()\n",
    "axes = fig.add_subplot(111,  ylabel='Price in $')\n",
    "\n",
    "ts['close'].plot(ax=axes, label='close', color='k')\n",
    "ts['sma50'].plot(ax=axes, label='sma50', color='r')\n",
    "ts['sma200'].plot(ax=axes, label='sma200', color='b')\n",
    "plt.legend(loc='best')"
   ]
  },
  {
   "cell_type": "markdown",
   "metadata": {},
   "source": [
    "Create Trade Log (tlog); Create Daily Balance (dbal)"
   ]
  },
  {
   "cell_type": "code",
   "execution_count": 9,
   "metadata": {
    "ExecuteTime": {
     "end_time": "2019-07-31T07:43:01.101369Z",
     "start_time": "2019-07-31T07:43:01.093409Z"
    }
   },
   "outputs": [],
   "source": [
    "tlog = pf.TradeLog()\n",
    "dbal = pf.DailyBal()"
   ]
  },
  {
   "cell_type": "markdown",
   "metadata": {},
   "source": [
    "Algo: Buy when 50 day ma crosses above 200 day ma.  Sell when 50 day ma crosses below 200 day ma. "
   ]
  },
  {
   "cell_type": "code",
   "execution_count": 10,
   "metadata": {
    "ExecuteTime": {
     "end_time": "2019-07-31T07:43:01.518717Z",
     "start_time": "2019-07-31T07:43:01.105466Z"
    },
    "scrolled": false
   },
   "outputs": [
    {
     "name": "stdout",
     "output_type": "stream",
     "text": [
      "1953-12-21 00:00:00 BUY  400 ^GSPC @ 24.95\n",
      "1956-10-26 00:00:00 SELL 400 ^GSPC @ 46.27\n",
      "1957-06-03 00:00:00 BUY  391 ^GSPC @ 47.37\n",
      "1957-09-26 00:00:00 SELL 391 ^GSPC @ 42.57\n",
      "1958-05-08 00:00:00 BUY  378 ^GSPC @ 43.99\n",
      "1959-10-30 00:00:00 SELL 378 ^GSPC @ 57.52\n",
      "1959-12-30 00:00:00 BUY  364 ^GSPC @ 59.77\n",
      "1960-02-15 00:00:00 SELL 364 ^GSPC @ 55.17\n",
      "1961-01-04 00:00:00 BUY  344 ^GSPC @ 58.36\n",
      "1962-05-07 00:00:00 SELL 344 ^GSPC @ 66.02\n",
      "1963-01-03 00:00:00 BUY  356 ^GSPC @ 63.72\n",
      "1965-07-22 00:00:00 SELL 356 ^GSPC @ 83.85\n",
      "1965-09-17 00:00:00 BUY  331 ^GSPC @ 90.05\n",
      "1966-04-28 00:00:00 SELL 331 ^GSPC @ 91.13\n",
      "1967-02-03 00:00:00 BUY  346 ^GSPC @ 87.36\n",
      "1968-02-27 00:00:00 SELL 346 ^GSPC @ 90.53\n",
      "1968-05-17 00:00:00 BUY  323 ^GSPC @ 96.90\n",
      "1969-03-13 00:00:00 SELL 323 ^GSPC @ 98.39\n",
      "1969-05-27 00:00:00 BUY  307 ^GSPC @ 103.57\n",
      "1969-06-23 00:00:00 SELL 307 ^GSPC @ 96.23\n",
      "1970-10-22 00:00:00 BUY  354 ^GSPC @ 83.38\n",
      "1971-09-24 00:00:00 SELL 354 ^GSPC @ 98.15\n",
      "1972-01-26 00:00:00 BUY  339 ^GSPC @ 102.50\n",
      "1973-04-18 00:00:00 SELL 339 ^GSPC @ 111.54\n",
      "1975-03-06 00:00:00 BUY  452 ^GSPC @ 83.69\n",
      "1976-12-01 00:00:00 SELL 452 ^GSPC @ 102.49\n",
      "1977-01-04 00:00:00 BUY  438 ^GSPC @ 105.70\n",
      "1977-03-03 00:00:00 SELL 438 ^GSPC @ 100.88\n",
      "1978-05-22 00:00:00 BUY  446 ^GSPC @ 99.09\n",
      "1978-12-13 00:00:00 SELL 446 ^GSPC @ 96.06\n",
      "1979-03-21 00:00:00 BUY  423 ^GSPC @ 101.25\n",
      "1980-04-22 00:00:00 SELL 423 ^GSPC @ 103.43\n",
      "1980-06-17 00:00:00 BUY  377 ^GSPC @ 116.03\n",
      "1981-07-02 00:00:00 SELL 377 ^GSPC @ 128.64\n",
      "1982-09-28 00:00:00 BUY  394 ^GSPC @ 123.24\n",
      "1984-02-03 00:00:00 SELL 394 ^GSPC @ 160.91\n",
      "1984-09-12 00:00:00 BUY  385 ^GSPC @ 164.68\n",
      "1986-11-18 00:00:00 SELL 385 ^GSPC @ 236.78\n",
      "1986-11-25 00:00:00 BUY  367 ^GSPC @ 248.17\n",
      "1987-11-05 00:00:00 SELL 367 ^GSPC @ 254.48\n",
      "1988-06-28 00:00:00 BUY  343 ^GSPC @ 272.31\n",
      "1990-02-26 00:00:00 SELL 343 ^GSPC @ 328.67\n",
      "1990-05-25 00:00:00 BUY  318 ^GSPC @ 354.58\n",
      "1990-09-07 00:00:00 SELL 318 ^GSPC @ 323.40\n",
      "1991-02-15 00:00:00 BUY  278 ^GSPC @ 369.06\n",
      "1994-04-19 00:00:00 SELL 278 ^GSPC @ 442.54\n",
      "1994-09-15 00:00:00 BUY  259 ^GSPC @ 474.81\n",
      "1998-09-29 00:00:00 SELL 259 ^GSPC @ 1049.02\n",
      "1998-12-08 00:00:00 BUY  230 ^GSPC @ 1181.38\n",
      "1999-11-04 00:00:00 SELL 230 ^GSPC @ 1362.64\n",
      "1999-11-11 00:00:00 BUY  227 ^GSPC @ 1381.46\n",
      "2000-10-30 00:00:00 SELL 227 ^GSPC @ 1398.66\n",
      "2003-05-14 00:00:00 BUY  338 ^GSPC @ 939.28\n",
      "2004-08-18 00:00:00 SELL 338 ^GSPC @ 1095.17\n",
      "2004-11-05 00:00:00 BUY  317 ^GSPC @ 1166.17\n",
      "2006-07-19 00:00:00 SELL 317 ^GSPC @ 1259.81\n",
      "2006-09-12 00:00:00 BUY  304 ^GSPC @ 1313.00\n",
      "2007-12-21 00:00:00 SELL 304 ^GSPC @ 1484.46\n",
      "2009-06-23 00:00:00 BUY  505 ^GSPC @ 895.10\n",
      "2010-07-02 00:00:00 SELL 505 ^GSPC @ 1022.58\n",
      "2010-10-22 00:00:00 BUY  436 ^GSPC @ 1183.08\n",
      "2011-08-12 00:00:00 SELL 436 ^GSPC @ 1178.81\n",
      "2012-01-31 00:00:00 BUY  392 ^GSPC @ 1312.41\n",
      "2015-08-28 00:00:00 SELL 392 ^GSPC @ 1988.87\n",
      "2015-12-21 00:00:00 BUY  385 ^GSPC @ 2021.15\n",
      "2016-01-11 00:00:00 SELL 385 ^GSPC @ 1923.67\n",
      "2016-04-25 00:00:00 BUY  355 ^GSPC @ 2087.79\n",
      "2018-12-07 00:00:00 SELL 355 ^GSPC @ 2633.08\n",
      "2019-04-01 00:00:00 BUY  326 ^GSPC @ 2867.19\n",
      "2019-07-24 00:00:00 SELL 326 ^GSPC @ 3019.56\n",
      "0.338968992233\n"
     ]
    }
   ],
   "source": [
    "tlog.cash = capital\n",
    "start_flag = True\n",
    "end_flag = False\n",
    "\n",
    "import time\n",
    "t0 = time.time()\n",
    "\n",
    "\"\"\"\n",
    "# This is the slowest (2.42 s)\n",
    "for i in range(len(ts.index)):\n",
    "\n",
    "    date = ts.index[i]\n",
    "    high = ts['high'][i]\n",
    "    low = ts['low'][i]\n",
    "    close = ts['close'][i]\n",
    "    sma50 = ts['sma50'][i]\n",
    "    sma200 = ts['sma200'][i]\n",
    "\n",
    "# This is still slow (2.53 s)\n",
    "for i, (index, row) in enumerate(ts.iterrows()):\n",
    "\n",
    "    date = index\n",
    "    high = row['high']\n",
    "    low = row['low']\n",
    "    close = row['close']\n",
    "    sma50 = row['sma50']\n",
    "    sma200 = row['sma200']\n",
    "\n",
    "\n",
    "# using .at[] is fast (832 ms)\n",
    "for i, index in enumerate(ts.index):\n",
    "\n",
    "    date = index\n",
    "    high = ts.at[index, 'high']\n",
    "    low = ts.at[index, 'low']\n",
    "    close = ts.at[index, 'close']\n",
    "    sma50 = ts.at[index, 'sma50']\n",
    "    sma200 = ts.at[index, 'sma200']\n",
    "\n",
    "# using itertuples is fastest for looping (378 ms)\n",
    "for i, row in enumerate(ts.itertuples()):\n",
    "\n",
    "    date = row.Index.to_pydatetime()\n",
    "    high = row.high\n",
    "    low = row.low\n",
    "    close = row.close\n",
    "    sma50 = row.sma50\n",
    "    sma200 = row.sma200\n",
    "\"\"\"\n",
    "\n",
    "for i, row in enumerate(ts.itertuples()):\n",
    "\n",
    "    date = row.Index.to_pydatetime()\n",
    "    high = row.high\n",
    "    low = row.low\n",
    "    close = row.close\n",
    "    sma50 = row.sma50\n",
    "    sma200 = row.sma200\n",
    "\n",
    "    end_flag = True if (i == len(ts) - 1) else False\n",
    "    trade_state = None\n",
    "        \n",
    "    if pd.isnull(sma200) or date < start:\n",
    "        continue\n",
    "    elif start_flag:\n",
    "        start_flag = False\n",
    "        # set start and end\n",
    "        start = date\n",
    "        end = ts.index[-1]\n",
    "\n",
    "    # buy\n",
    "    if (tlog.num_open_trades() == 0\n",
    "        and sma50 > sma200 and ts['sma50'][i-1] <= ts['sma200'][i-1] \n",
    "        and not end_flag):\n",
    "\n",
    "        # enter buy in trade log\n",
    "        shares = tlog.enter_trade(date, close)\n",
    "        trade_state = pf.TradeState.OPEN \n",
    "        print(\"{0} BUY  {1} {2} @ {3:.2f}\".format(date, shares, symbol, close))   \n",
    "\n",
    "    # sell\n",
    "    elif ((tlog.num_open_trades() > 0\n",
    "           and sma50 < sma200 and ts['sma50'][i-1] >= ts['sma200'][i-1])\n",
    "           or end_flag):\n",
    "\n",
    "        # enter sell in trade log\n",
    "        shares = tlog.exit_trade(date, close)\n",
    "        trade_state = pf.TradeState.CLOSE\n",
    "        print(\"{0} SELL {1} {2} @ {3:.2f}\".format(date, shares, symbol, close))\n",
    "\n",
    "    # hold\n",
    "    else:\n",
    "        trade_state = pf.TradeState.HOLD\n",
    "    \n",
    "    # record daily balance\n",
    "    dbal.append(date, high, low, close, tlog.shares, tlog.cash, trade_state)    \n",
    "\n",
    "t1 = time.time()\n",
    "total = t1-t0\n",
    "print(total)\n",
    "        "
   ]
  },
  {
   "cell_type": "markdown",
   "metadata": {},
   "source": [
    "Retrieve log DataFrames"
   ]
  },
  {
   "cell_type": "code",
   "execution_count": 11,
   "metadata": {
    "ExecuteTime": {
     "end_time": "2019-07-31T07:43:01.539783Z",
     "start_time": "2019-07-31T07:43:01.525486Z"
    }
   },
   "outputs": [],
   "source": [
    "rlog = tlog.get_log_raw()\n",
    "tlog = tlog.get_log()"
   ]
  },
  {
   "cell_type": "code",
   "execution_count": 12,
   "metadata": {
    "ExecuteTime": {
     "end_time": "2019-07-31T07:43:01.575630Z",
     "start_time": "2019-07-31T07:43:01.544930Z"
    }
   },
   "outputs": [
    {
     "data": {
      "text/html": [
       "<div>\n",
       "<style scoped>\n",
       "    .dataframe tbody tr th:only-of-type {\n",
       "        vertical-align: middle;\n",
       "    }\n",
       "\n",
       "    .dataframe tbody tr th {\n",
       "        vertical-align: top;\n",
       "    }\n",
       "\n",
       "    .dataframe thead th {\n",
       "        text-align: right;\n",
       "    }\n",
       "</style>\n",
       "<table border=\"1\" class=\"dataframe\">\n",
       "  <thead>\n",
       "    <tr style=\"text-align: right;\">\n",
       "      <th></th>\n",
       "      <th>date</th>\n",
       "      <th>price</th>\n",
       "      <th>shares</th>\n",
       "      <th>entry_exit</th>\n",
       "    </tr>\n",
       "  </thead>\n",
       "  <tbody>\n",
       "    <tr>\n",
       "      <th>65</th>\n",
       "      <td>2016-01-11</td>\n",
       "      <td>1923.67</td>\n",
       "      <td>385</td>\n",
       "      <td>exit</td>\n",
       "    </tr>\n",
       "    <tr>\n",
       "      <th>66</th>\n",
       "      <td>2016-04-25</td>\n",
       "      <td>2087.79</td>\n",
       "      <td>355</td>\n",
       "      <td>entry</td>\n",
       "    </tr>\n",
       "    <tr>\n",
       "      <th>67</th>\n",
       "      <td>2018-12-07</td>\n",
       "      <td>2633.08</td>\n",
       "      <td>355</td>\n",
       "      <td>exit</td>\n",
       "    </tr>\n",
       "    <tr>\n",
       "      <th>68</th>\n",
       "      <td>2019-04-01</td>\n",
       "      <td>2867.19</td>\n",
       "      <td>326</td>\n",
       "      <td>entry</td>\n",
       "    </tr>\n",
       "    <tr>\n",
       "      <th>69</th>\n",
       "      <td>2019-07-24</td>\n",
       "      <td>3019.56</td>\n",
       "      <td>326</td>\n",
       "      <td>exit</td>\n",
       "    </tr>\n",
       "  </tbody>\n",
       "</table>\n",
       "</div>"
      ],
      "text/plain": [
       "         date   price  shares entry_exit\n",
       "65 2016-01-11 1923.67     385       exit\n",
       "66 2016-04-25 2087.79     355      entry\n",
       "67 2018-12-07 2633.08     355       exit\n",
       "68 2019-04-01 2867.19     326      entry\n",
       "69 2019-07-24 3019.56     326       exit"
      ]
     },
     "execution_count": 12,
     "metadata": {},
     "output_type": "execute_result"
    }
   ],
   "source": [
    "rlog.tail()"
   ]
  },
  {
   "cell_type": "code",
   "execution_count": 13,
   "metadata": {
    "ExecuteTime": {
     "end_time": "2019-07-31T07:43:01.628330Z",
     "start_time": "2019-07-31T07:43:01.582763Z"
    }
   },
   "outputs": [
    {
     "data": {
      "text/html": [
       "<div>\n",
       "<style scoped>\n",
       "    .dataframe tbody tr th:only-of-type {\n",
       "        vertical-align: middle;\n",
       "    }\n",
       "\n",
       "    .dataframe tbody tr th {\n",
       "        vertical-align: top;\n",
       "    }\n",
       "\n",
       "    .dataframe thead th {\n",
       "        text-align: right;\n",
       "    }\n",
       "</style>\n",
       "<table border=\"1\" class=\"dataframe\">\n",
       "  <thead>\n",
       "    <tr style=\"text-align: right;\">\n",
       "      <th></th>\n",
       "      <th>entry_date</th>\n",
       "      <th>entry_price</th>\n",
       "      <th>exit_date</th>\n",
       "      <th>exit_price</th>\n",
       "      <th>pl_points</th>\n",
       "      <th>pl_cash</th>\n",
       "      <th>qty</th>\n",
       "      <th>cumul_total</th>\n",
       "    </tr>\n",
       "  </thead>\n",
       "  <tbody>\n",
       "    <tr>\n",
       "      <th>25</th>\n",
       "      <td>1999-11-11</td>\n",
       "      <td>1381.46</td>\n",
       "      <td>2000-10-30</td>\n",
       "      <td>1398.66</td>\n",
       "      <td>17.20</td>\n",
       "      <td>3904.42</td>\n",
       "      <td>227</td>\n",
       "      <td>307653.51</td>\n",
       "    </tr>\n",
       "    <tr>\n",
       "      <th>26</th>\n",
       "      <td>2003-05-14</td>\n",
       "      <td>939.28</td>\n",
       "      <td>2004-08-18</td>\n",
       "      <td>1095.17</td>\n",
       "      <td>155.89</td>\n",
       "      <td>52690.82</td>\n",
       "      <td>338</td>\n",
       "      <td>360344.34</td>\n",
       "    </tr>\n",
       "    <tr>\n",
       "      <th>27</th>\n",
       "      <td>2004-11-05</td>\n",
       "      <td>1166.17</td>\n",
       "      <td>2006-07-19</td>\n",
       "      <td>1259.81</td>\n",
       "      <td>93.64</td>\n",
       "      <td>29683.88</td>\n",
       "      <td>317</td>\n",
       "      <td>390028.22</td>\n",
       "    </tr>\n",
       "    <tr>\n",
       "      <th>28</th>\n",
       "      <td>2006-09-12</td>\n",
       "      <td>1313.00</td>\n",
       "      <td>2007-12-21</td>\n",
       "      <td>1484.46</td>\n",
       "      <td>171.46</td>\n",
       "      <td>52123.83</td>\n",
       "      <td>304</td>\n",
       "      <td>442152.05</td>\n",
       "    </tr>\n",
       "    <tr>\n",
       "      <th>29</th>\n",
       "      <td>2009-06-23</td>\n",
       "      <td>895.10</td>\n",
       "      <td>2010-07-02</td>\n",
       "      <td>1022.58</td>\n",
       "      <td>127.48</td>\n",
       "      <td>64377.42</td>\n",
       "      <td>505</td>\n",
       "      <td>506529.47</td>\n",
       "    </tr>\n",
       "    <tr>\n",
       "      <th>30</th>\n",
       "      <td>2010-10-22</td>\n",
       "      <td>1183.08</td>\n",
       "      <td>2011-08-12</td>\n",
       "      <td>1178.81</td>\n",
       "      <td>-4.27</td>\n",
       "      <td>-1861.68</td>\n",
       "      <td>436</td>\n",
       "      <td>504667.80</td>\n",
       "    </tr>\n",
       "    <tr>\n",
       "      <th>31</th>\n",
       "      <td>2012-01-31</td>\n",
       "      <td>1312.41</td>\n",
       "      <td>2015-08-28</td>\n",
       "      <td>1988.87</td>\n",
       "      <td>676.46</td>\n",
       "      <td>265172.30</td>\n",
       "      <td>392</td>\n",
       "      <td>769840.10</td>\n",
       "    </tr>\n",
       "    <tr>\n",
       "      <th>32</th>\n",
       "      <td>2015-12-21</td>\n",
       "      <td>2021.15</td>\n",
       "      <td>2016-01-11</td>\n",
       "      <td>1923.67</td>\n",
       "      <td>-97.48</td>\n",
       "      <td>-37529.79</td>\n",
       "      <td>385</td>\n",
       "      <td>732310.31</td>\n",
       "    </tr>\n",
       "    <tr>\n",
       "      <th>33</th>\n",
       "      <td>2016-04-25</td>\n",
       "      <td>2087.79</td>\n",
       "      <td>2018-12-07</td>\n",
       "      <td>2633.08</td>\n",
       "      <td>545.29</td>\n",
       "      <td>193577.96</td>\n",
       "      <td>355</td>\n",
       "      <td>925888.27</td>\n",
       "    </tr>\n",
       "    <tr>\n",
       "      <th>34</th>\n",
       "      <td>2019-04-01</td>\n",
       "      <td>2867.19</td>\n",
       "      <td>2019-07-24</td>\n",
       "      <td>3019.56</td>\n",
       "      <td>152.37</td>\n",
       "      <td>49672.66</td>\n",
       "      <td>326</td>\n",
       "      <td>975560.93</td>\n",
       "    </tr>\n",
       "  </tbody>\n",
       "</table>\n",
       "</div>"
      ],
      "text/plain": [
       "   entry_date  entry_price  exit_date  exit_price  pl_points   pl_cash  qty  \\\n",
       "25 1999-11-11      1381.46 2000-10-30     1398.66      17.20   3904.42  227   \n",
       "26 2003-05-14       939.28 2004-08-18     1095.17     155.89  52690.82  338   \n",
       "27 2004-11-05      1166.17 2006-07-19     1259.81      93.64  29683.88  317   \n",
       "28 2006-09-12      1313.00 2007-12-21     1484.46     171.46  52123.83  304   \n",
       "29 2009-06-23       895.10 2010-07-02     1022.58     127.48  64377.42  505   \n",
       "30 2010-10-22      1183.08 2011-08-12     1178.81      -4.27  -1861.68  436   \n",
       "31 2012-01-31      1312.41 2015-08-28     1988.87     676.46 265172.30  392   \n",
       "32 2015-12-21      2021.15 2016-01-11     1923.67     -97.48 -37529.79  385   \n",
       "33 2016-04-25      2087.79 2018-12-07     2633.08     545.29 193577.96  355   \n",
       "34 2019-04-01      2867.19 2019-07-24     3019.56     152.37  49672.66  326   \n",
       "\n",
       "    cumul_total  \n",
       "25    307653.51  \n",
       "26    360344.34  \n",
       "27    390028.22  \n",
       "28    442152.05  \n",
       "29    506529.47  \n",
       "30    504667.80  \n",
       "31    769840.10  \n",
       "32    732310.31  \n",
       "33    925888.27  \n",
       "34    975560.93  "
      ]
     },
     "execution_count": 13,
     "metadata": {},
     "output_type": "execute_result"
    }
   ],
   "source": [
    "tlog.tail(10)"
   ]
  },
  {
   "cell_type": "code",
   "execution_count": 14,
   "metadata": {
    "ExecuteTime": {
     "end_time": "2019-07-31T07:43:01.703395Z",
     "start_time": "2019-07-31T07:43:01.632917Z"
    }
   },
   "outputs": [
    {
     "data": {
      "text/html": [
       "<div>\n",
       "<style scoped>\n",
       "    .dataframe tbody tr th:only-of-type {\n",
       "        vertical-align: middle;\n",
       "    }\n",
       "\n",
       "    .dataframe tbody tr th {\n",
       "        vertical-align: top;\n",
       "    }\n",
       "\n",
       "    .dataframe thead th {\n",
       "        text-align: right;\n",
       "    }\n",
       "</style>\n",
       "<table border=\"1\" class=\"dataframe\">\n",
       "  <thead>\n",
       "    <tr style=\"text-align: right;\">\n",
       "      <th></th>\n",
       "      <th>high</th>\n",
       "      <th>low</th>\n",
       "      <th>close</th>\n",
       "      <th>shares</th>\n",
       "      <th>cash</th>\n",
       "      <th>state</th>\n",
       "    </tr>\n",
       "    <tr>\n",
       "      <th>date</th>\n",
       "      <th></th>\n",
       "      <th></th>\n",
       "      <th></th>\n",
       "      <th></th>\n",
       "      <th></th>\n",
       "      <th></th>\n",
       "    </tr>\n",
       "  </thead>\n",
       "  <tbody>\n",
       "    <tr>\n",
       "      <th>2019-07-18</th>\n",
       "      <td>978623.64</td>\n",
       "      <td>970411.72</td>\n",
       "      <td>977590.25</td>\n",
       "      <td>326</td>\n",
       "      <td>1184.35</td>\n",
       "      <td>1</td>\n",
       "    </tr>\n",
       "    <tr>\n",
       "      <th>2019-07-19</th>\n",
       "      <td>981146.88</td>\n",
       "      <td>971314.75</td>\n",
       "      <td>971559.25</td>\n",
       "      <td>326</td>\n",
       "      <td>1184.35</td>\n",
       "      <td>1</td>\n",
       "    </tr>\n",
       "    <tr>\n",
       "      <th>2019-07-22</th>\n",
       "      <td>976155.80</td>\n",
       "      <td>971572.22</td>\n",
       "      <td>974304.14</td>\n",
       "      <td>326</td>\n",
       "      <td>1184.35</td>\n",
       "      <td>1</td>\n",
       "    </tr>\n",
       "    <tr>\n",
       "      <th>2019-07-23</th>\n",
       "      <td>981107.72</td>\n",
       "      <td>975454.93</td>\n",
       "      <td>980967.56</td>\n",
       "      <td>326</td>\n",
       "      <td>1184.35</td>\n",
       "      <td>1</td>\n",
       "    </tr>\n",
       "    <tr>\n",
       "      <th>2019-07-24</th>\n",
       "      <td>985560.93</td>\n",
       "      <td>985560.93</td>\n",
       "      <td>985560.93</td>\n",
       "      <td>0</td>\n",
       "      <td>985560.93</td>\n",
       "      <td>2</td>\n",
       "    </tr>\n",
       "  </tbody>\n",
       "</table>\n",
       "</div>"
      ],
      "text/plain": [
       "                high       low     close  shares      cash  state\n",
       "date                                                             \n",
       "2019-07-18 978623.64 970411.72 977590.25     326   1184.35      1\n",
       "2019-07-19 981146.88 971314.75 971559.25     326   1184.35      1\n",
       "2019-07-22 976155.80 971572.22 974304.14     326   1184.35      1\n",
       "2019-07-23 981107.72 975454.93 980967.56     326   1184.35      1\n",
       "2019-07-24 985560.93 985560.93 985560.93       0 985560.93      2"
      ]
     },
     "execution_count": 14,
     "metadata": {},
     "output_type": "execute_result"
    }
   ],
   "source": [
    "dbal = dbal.get_log()\n",
    "dbal.tail()"
   ]
  },
  {
   "cell_type": "markdown",
   "metadata": {},
   "source": [
    "Generate strategy stats - display all available stats"
   ]
  },
  {
   "cell_type": "code",
   "execution_count": 15,
   "metadata": {
    "ExecuteTime": {
     "end_time": "2019-07-31T07:43:02.233358Z",
     "start_time": "2019-07-31T07:43:01.711481Z"
    }
   },
   "outputs": [
    {
     "name": "stdout",
     "output_type": "stream",
     "text": [
      "start                                                  1950-10-18\n",
      "end                                                    2019-07-24\n",
      "beginning_balance                                           10000\n",
      "ending_balance                                          985560.93\n",
      "total_net_profit                                        975560.93\n",
      "gross_profit                                           1034134.76\n",
      "gross_loss                                              -58573.82\n",
      "profit_factor                                               17.66\n",
      "return_on_initial_capital                                 9755.61\n",
      "annual_return_rate                                           6.90\n",
      "trading_period                           68 years 9 months 6 days\n",
      "pct_time_in_market                                          67.10\n",
      "total_num_trades                                               35\n",
      "num_winning_trades                                             27\n",
      "num_losing_trades                                               8\n",
      "num_even_trades                                                 0\n",
      "pct_profitable_trades                                       77.14\n",
      "avg_profit_per_trade                                     27873.17\n",
      "avg_profit_per_winning_trade                             38301.29\n",
      "avg_loss_per_losing_trade                                -7321.73\n",
      "ratio_avg_profit_win_loss                                    5.23\n",
      "largest_profit_winning_trade                            265172.30\n",
      "largest_loss_losing_trade                               -37529.79\n",
      "num_winning_points                                        3066.96\n",
      "num_losing_points                                         -157.52\n",
      "total_net_points                                          2909.44\n",
      "avg_points                                                  83.13\n",
      "largest_points_winning_trade                               676.46\n",
      "largest_points_losing_trade                                -97.48\n",
      "avg_pct_gain_per_trade                                      16.36\n",
      "largest_pct_winning_trade                                  120.93\n",
      "largest_pct_losing_trade                                   -10.13\n",
      "max_consecutive_winning_trades                                  8\n",
      "max_consecutive_losing_trades                                   2\n",
      "avg_bars_winning_trades                                    408.63\n",
      "avg_bars_losing_trades                                      76.38\n",
      "max_closed_out_drawdown                                    -33.21\n",
      "max_closed_out_drawdown_start_date                     1987-08-25\n",
      "max_closed_out_drawdown_end_date                       1987-10-19\n",
      "max_closed_out_drawdown_recovery_date                  1993-02-03\n",
      "drawdown_recovery                                           -0.15\n",
      "drawdown_annualized_return                                  -4.81\n",
      "max_intra_day_drawdown                                     -35.91\n",
      "avg_yearly_closed_out_drawdown                              -8.28\n",
      "max_yearly_closed_out_drawdown                             -33.21\n",
      "avg_monthly_closed_out_drawdown                             -2.12\n",
      "max_monthly_closed_out_drawdown                            -31.44\n",
      "avg_weekly_closed_out_drawdown                              -0.81\n",
      "max_weekly_closed_out_drawdown                             -28.49\n",
      "avg_yearly_closed_out_runup                                 15.50\n",
      "max_yearly_closed_out_runup                                 52.10\n",
      "avg_monthly_closed_out_runup                                 2.65\n",
      "max_monthly_closed_out_runup                                15.61\n",
      "avg_weekly_closed_out_runup                                  0.95\n",
      "max_weekly_closed_out_runup                                 14.90\n",
      "pct_profitable_years                                        65.69\n",
      "best_year                                                   50.34\n",
      "worst_year                                                 -28.64\n",
      "avg_year                                                     7.61\n",
      "annual_std                                                  11.80\n",
      "pct_profitable_months                                       44.35\n",
      "best_month                                                  14.94\n",
      "worst_month                                                -29.53\n",
      "avg_month                                                    0.57\n",
      "monthly_std                                                  2.94\n",
      "pct_profitable_weeks                                        39.18\n",
      "best_week                                                   12.32\n",
      "worst_week                                                 -27.30\n",
      "avg_week                                                     0.14\n",
      "weekly_std                                                   1.53\n",
      "sharpe_ratio                                                 0.67\n",
      "sortino_ratio                                                0.69\n",
      "dtype: object\n"
     ]
    }
   ],
   "source": [
    "stats = pf.stats(ts, tlog, dbal, start, end, capital)\n",
    "pf.print_full(stats)"
   ]
  },
  {
   "cell_type": "markdown",
   "metadata": {},
   "source": [
    "Run Benchmark"
   ]
  },
  {
   "cell_type": "code",
   "execution_count": 16,
   "metadata": {
    "ExecuteTime": {
     "end_time": "2019-07-31T07:43:02.514967Z",
     "start_time": "2019-07-31T07:43:02.242185Z"
    }
   },
   "outputs": [
    {
     "name": "stdout",
     "output_type": "stream",
     "text": [
      "1950-10-18 00:00:00 BUY  499 ^GSPC @ 20.01\n",
      "2019-07-24 00:00:00 SELL 499 ^GSPC @ 3019.56\n"
     ]
    }
   ],
   "source": [
    "benchmark = pf.Benchmark(symbol, capital, start, end, use_adj)\n",
    "benchmark.run()"
   ]
  },
  {
   "cell_type": "markdown",
   "metadata": {},
   "source": [
    "Retrieve benchmark logs"
   ]
  },
  {
   "cell_type": "code",
   "execution_count": 17,
   "metadata": {
    "ExecuteTime": {
     "end_time": "2019-07-31T07:43:02.566268Z",
     "start_time": "2019-07-31T07:43:02.524837Z"
    }
   },
   "outputs": [],
   "source": [
    "benchmark.tlog, benchmark.dbal = benchmark.get_logs()"
   ]
  },
  {
   "cell_type": "markdown",
   "metadata": {},
   "source": [
    "Generate benchmark stats"
   ]
  },
  {
   "cell_type": "code",
   "execution_count": 18,
   "metadata": {
    "ExecuteTime": {
     "end_time": "2019-07-31T07:43:02.907239Z",
     "start_time": "2019-07-31T07:43:02.570389Z"
    },
    "scrolled": false
   },
   "outputs": [
    {
     "name": "stdout",
     "output_type": "stream",
     "text": [
      "start                                                  1950-10-18\n",
      "end                                                    2019-07-24\n",
      "beginning_balance                                           10000\n",
      "ending_balance                                         1506775.48\n",
      "total_net_profit                                       1496775.48\n",
      "gross_profit                                           1496775.48\n",
      "gross_loss                                                   0.00\n",
      "profit_factor                                                1000\n",
      "return_on_initial_capital                                14967.75\n",
      "annual_return_rate                                           7.57\n",
      "trading_period                           68 years 9 months 6 days\n",
      "pct_time_in_market                                         100.00\n",
      "total_num_trades                                                1\n",
      "num_winning_trades                                              1\n",
      "num_losing_trades                                               0\n",
      "num_even_trades                                                 0\n",
      "pct_profitable_trades                                      100.00\n",
      "avg_profit_per_trade                                   1496775.48\n",
      "avg_profit_per_winning_trade                           1496775.48\n",
      "avg_loss_per_losing_trade                                       0\n",
      "ratio_avg_profit_win_loss                                    1000\n",
      "largest_profit_winning_trade                           1496775.48\n",
      "largest_loss_losing_trade                                       0\n",
      "num_winning_points                                        2999.55\n",
      "num_losing_points                                               0\n",
      "total_net_points                                          2999.55\n",
      "avg_points                                                2999.55\n",
      "largest_points_winning_trade                              2999.55\n",
      "largest_points_losing_trade                                     0\n",
      "avg_pct_gain_per_trade                                   14990.25\n",
      "largest_pct_winning_trade                                14990.25\n",
      "largest_pct_losing_trade                                        0\n",
      "max_consecutive_winning_trades                                  1\n",
      "max_consecutive_losing_trades                                   0\n",
      "avg_bars_winning_trades                                  17303.00\n",
      "avg_bars_losing_trades                                          0\n",
      "max_closed_out_drawdown                                    -56.77\n",
      "max_closed_out_drawdown_start_date                     2007-10-09\n",
      "max_closed_out_drawdown_end_date                       2009-03-09\n",
      "max_closed_out_drawdown_recovery_date                  2013-03-28\n",
      "drawdown_recovery                                           -1.42\n",
      "drawdown_annualized_return                                  -7.50\n",
      "max_intra_day_drawdown                                     -57.69\n",
      "avg_yearly_closed_out_drawdown                             -13.22\n",
      "max_yearly_closed_out_drawdown                             -52.58\n",
      "avg_monthly_closed_out_drawdown                             -3.57\n",
      "max_monthly_closed_out_drawdown                            -31.47\n",
      "avg_weekly_closed_out_drawdown                              -1.38\n",
      "max_weekly_closed_out_drawdown                             -28.51\n",
      "avg_yearly_closed_out_runup                                 22.79\n",
      "max_yearly_closed_out_runup                                 70.02\n",
      "avg_monthly_closed_out_runup                                 4.27\n",
      "max_monthly_closed_out_runup                                24.53\n",
      "avg_weekly_closed_out_runup                                  1.56\n",
      "max_weekly_closed_out_runup                                 19.11\n",
      "pct_profitable_years                                        73.46\n",
      "best_year                                                   68.57\n",
      "worst_year                                                 -48.82\n",
      "avg_year                                                     8.67\n",
      "annual_std                                                  15.81\n",
      "pct_profitable_months                                       60.89\n",
      "best_month                                                  23.49\n",
      "worst_month                                                -29.55\n",
      "avg_month                                                    0.67\n",
      "monthly_std                                                  4.13\n",
      "pct_profitable_weeks                                        56.37\n",
      "best_week                                                   19.11\n",
      "worst_week                                                 -27.33\n",
      "avg_week                                                     0.17\n",
      "weekly_std                                                   2.13\n",
      "sharpe_ratio                                                 0.56\n",
      "sortino_ratio                                                0.72\n",
      "dtype: object\n"
     ]
    }
   ],
   "source": [
    "benchmark.stats = benchmark.stats()\n",
    "pf.print_full(benchmark.stats)"
   ]
  },
  {
   "cell_type": "markdown",
   "metadata": {},
   "source": [
    "Plot Equity Curves: Strategy vs Benchmark"
   ]
  },
  {
   "cell_type": "code",
   "execution_count": 19,
   "metadata": {
    "ExecuteTime": {
     "end_time": "2019-07-31T07:43:03.258170Z",
     "start_time": "2019-07-31T07:43:02.913642Z"
    }
   },
   "outputs": [
    {
     "data": {
      "image/png": "[encoded data removed]",
      "text/plain": [
       "<Figure size 720x504 with 1 Axes>"
      ]
     },
     "metadata": {
      "needs_background": "light"
     },
     "output_type": "display_data"
    }
   ],
   "source": [
    "pf.plot_equity_curve(dbal, benchmark=benchmark.dbal)"
   ]
  },
  {
   "cell_type": "markdown",
   "metadata": {},
   "source": [
    "Plot Trades"
   ]
  },
  {
   "cell_type": "code",
   "execution_count": 20,
   "metadata": {
    "ExecuteTime": {
     "end_time": "2019-07-31T07:43:03.574207Z",
     "start_time": "2019-07-31T07:43:03.262952Z"
    }
   },
   "outputs": [
    {
     "data": {
      "image/png": "[encoded data removed]",
      "text/plain": [
       "<Figure size 720x504 with 1 Axes>"
      ]
     },
     "metadata": {
      "needs_background": "light"
     },
     "output_type": "display_data"
    }
   ],
   "source": [
    "pf.plot_trades(dbal, benchmark=benchmark.dbal)"
   ]
  },
  {
   "cell_type": "markdown",
   "metadata": {},
   "source": [
    "Bar Graph: Strategy vs Benchmark"
   ]
  },
  {
   "cell_type": "code",
   "execution_count": 21,
   "metadata": {
    "ExecuteTime": {
     "end_time": "2019-07-31T07:43:04.024441Z",
     "start_time": "2019-07-31T07:43:03.579024Z"
    },
    "scrolled": false
   },
   "outputs": [
    {
     "data": {
      "text/html": [
       "<div>\n",
       "<style scoped>\n",
       "    .dataframe tbody tr th:only-of-type {\n",
       "        vertical-align: middle;\n",
       "    }\n",
       "\n",
       "    .dataframe tbody tr th {\n",
       "        vertical-align: top;\n",
       "    }\n",
       "\n",
       "    .dataframe thead th {\n",
       "        text-align: right;\n",
       "    }\n",
       "</style>\n",
       "<table border=\"1\" class=\"dataframe\">\n",
       "  <thead>\n",
       "    <tr style=\"text-align: right;\">\n",
       "      <th></th>\n",
       "      <th>strategy</th>\n",
       "      <th>benchmark</th>\n",
       "    </tr>\n",
       "  </thead>\n",
       "  <tbody>\n",
       "    <tr>\n",
       "      <th>annual_return_rate</th>\n",
       "      <td>6.90</td>\n",
       "      <td>7.57</td>\n",
       "    </tr>\n",
       "    <tr>\n",
       "      <th>max_closed_out_drawdown</th>\n",
       "      <td>-33.21</td>\n",
       "      <td>-56.77</td>\n",
       "    </tr>\n",
       "    <tr>\n",
       "      <th>drawdown_annualized_return</th>\n",
       "      <td>-4.81</td>\n",
       "      <td>-7.50</td>\n",
       "    </tr>\n",
       "    <tr>\n",
       "      <th>drawdown_recovery</th>\n",
       "      <td>-0.15</td>\n",
       "      <td>-1.42</td>\n",
       "    </tr>\n",
       "    <tr>\n",
       "      <th>best_month</th>\n",
       "      <td>14.94</td>\n",
       "      <td>23.49</td>\n",
       "    </tr>\n",
       "    <tr>\n",
       "      <th>worst_month</th>\n",
       "      <td>-29.53</td>\n",
       "      <td>-29.55</td>\n",
       "    </tr>\n",
       "    <tr>\n",
       "      <th>sharpe_ratio</th>\n",
       "      <td>0.67</td>\n",
       "      <td>0.56</td>\n",
       "    </tr>\n",
       "    <tr>\n",
       "      <th>sortino_ratio</th>\n",
       "      <td>0.69</td>\n",
       "      <td>0.72</td>\n",
       "    </tr>\n",
       "    <tr>\n",
       "      <th>monthly_std</th>\n",
       "      <td>2.94</td>\n",
       "      <td>4.13</td>\n",
       "    </tr>\n",
       "  </tbody>\n",
       "</table>\n",
       "</div>"
      ],
      "text/plain": [
       "                            strategy  benchmark\n",
       "annual_return_rate              6.90       7.57\n",
       "max_closed_out_drawdown       -33.21     -56.77\n",
       "drawdown_annualized_return     -4.81      -7.50\n",
       "drawdown_recovery              -0.15      -1.42\n",
       "best_month                     14.94      23.49\n",
       "worst_month                   -29.53     -29.55\n",
       "sharpe_ratio                    0.67       0.56\n",
       "sortino_ratio                   0.69       0.72\n",
       "monthly_std                     2.94       4.13"
      ]
     },
     "execution_count": 21,
     "metadata": {},
     "output_type": "execute_result"
    },
    {
     "data": {
      "image/png": "[encoded data removed]",
      "text/plain": [
       "<Figure size 720x504 with 1 Axes>"
      ]
     },
     "metadata": {
      "needs_background": "light"
     },
     "output_type": "display_data"
    }
   ],
   "source": [
    "metrics = ('annual_return_rate',\n",
    "           'max_closed_out_drawdown',\n",
    "           'drawdown_annualized_return',\n",
    "           'drawdown_recovery',\n",
    "           'best_month',\n",
    "           'worst_month',\n",
    "           'sharpe_ratio',\n",
    "           'sortino_ratio',\n",
    "           'monthly_std')\n",
    "df = pf.plot_bar_graph(stats, benchmark.stats, *metrics)\n",
    "df"
   ]
  }
 ],
 "metadata": {
  "kernelspec": {
   "display_name": "Python 2",
   "language": "python",
   "name": "python2"
  },
  "language_info": {
   "codemirror_mode": {
    "name": "ipython",
    "version": 2
   },
   "file_extension": ".py",
   "mimetype": "text/x-python",
   "name": "python",
   "nbconvert_exporter": "python",
   "pygments_lexer": "ipython2",
   "version": "2.7.15+"
  },
  "latex_envs": {
   "LaTeX_envs_menu_present": true,
   "autoclose": false,
   "autocomplete": true,
   "bibliofile": "biblio.bib",
   "cite_by": "apalike",
   "current_citInitial": 1,
   "eqLabelWithNumbers": true,
   "eqNumInitial": 1,
   "hotkeys": {
    "equation": "Ctrl-E",
    "itemize": "Ctrl-I"
   },
   "labels_anchors": false,
   "latex_user_defs": false,
   "report_style_numbering": false,
   "user_envs_cfg": false
  }
 },
 "nbformat": 4,
 "nbformat_minor": 1
}
