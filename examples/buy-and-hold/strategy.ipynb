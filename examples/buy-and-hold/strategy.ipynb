{
 "cells": [
  {
   "cell_type": "markdown",
   "metadata": {},
   "source": [
    "# buy-and-hold\n",
    "\n",
    "buy, then never ever sell, until the end date :)"
   ]
  },
  {
   "cell_type": "code",
   "execution_count": 1,
   "metadata": {
    "ExecuteTime": {
     "end_time": "2019-07-31T07:26:31.523728Z",
     "start_time": "2019-07-31T07:26:30.486345Z"
    }
   },
   "outputs": [],
   "source": [
    "# use future imports for python 3.x forward compatibility\n",
    "from __future__ import print_function\n",
    "from __future__ import unicode_literals\n",
    "from __future__ import division\n",
    "from __future__ import absolute_import\n",
    "\n",
    "# other imports\n",
    "import pandas as pd\n",
    "import matplotlib.pyplot as plt\n",
    "import datetime\n",
    "from talib.abstract import *\n",
    "\n",
    "# project imports\n",
    "import pinkfish as pf\n",
    "\n",
    "# format price data\n",
    "pd.options.display.float_format = '{:0.2f}'.format\n",
    "\n",
    "%matplotlib inline"
   ]
  },
  {
   "cell_type": "code",
   "execution_count": 2,
   "metadata": {
    "ExecuteTime": {
     "end_time": "2019-07-31T07:26:31.540074Z",
     "start_time": "2019-07-31T07:26:31.533570Z"
    }
   },
   "outputs": [],
   "source": [
    "# set size of inline plots\n",
    "'''note: rcParams can't be in same cell as import matplotlib\n",
    "   or %matplotlib inline\n",
    "   \n",
    "   %matplotlib notebook: will lead to interactive plots embedded within\n",
    "   the notebook, you can zoom and resize the figure\n",
    "   \n",
    "   %matplotlib inline: only draw static images in the notebook\n",
    "'''\n",
    "plt.rcParams[\"figure.figsize\"] = (10, 7)"
   ]
  },
  {
   "cell_type": "markdown",
   "metadata": {},
   "source": [
    "Some global data"
   ]
  },
  {
   "cell_type": "code",
   "execution_count": 3,
   "metadata": {
    "ExecuteTime": {
     "end_time": "2019-07-31T07:26:31.552607Z",
     "start_time": "2019-07-31T07:26:31.546744Z"
    }
   },
   "outputs": [],
   "source": [
    "symbol = '^GSPC'\n",
    "#symbol = 'SPY'\n",
    "capital = 10000\n",
    "start = datetime.datetime(1900, 1, 1)\n",
    "end = datetime.datetime.now()"
   ]
  },
  {
   "cell_type": "markdown",
   "metadata": {},
   "source": [
    "Define Strategy Class"
   ]
  },
  {
   "cell_type": "code",
   "execution_count": 4,
   "metadata": {
    "ExecuteTime": {
     "end_time": "2019-07-31T07:26:31.632324Z",
     "start_time": "2019-07-31T07:26:31.557644Z"
    }
   },
   "outputs": [],
   "source": [
    "class Strategy(object):\n",
    "\n",
    "    def __init__(self, symbol, capital, start, end,\n",
    "                 slippage_per_trade=0, commissions_per_trade=0):\n",
    "        self._symbol = symbol\n",
    "        self._capital = capital\n",
    "        self._start = start\n",
    "        self._end = end\n",
    "        self._slippage_per_trade = slippage_per_trade\n",
    "        self._commissions_per_trade = commissions_per_trade\n",
    "\n",
    "    def _algo(self):\n",
    "        self._tlog.cash = self._capital\n",
    "        start_flag = True\n",
    "        end_flag = False\n",
    "\n",
    "        for i, row in enumerate(self._ts.itertuples()):\n",
    "\n",
    "            date = row.Index.to_pydatetime()\n",
    "            high = row.high\n",
    "            low = row.low\n",
    "            close = row.close\n",
    "            end_flag = True if (i == len(self._ts) - 1) else False\n",
    "            trade_state = None\n",
    "\n",
    "            if date < self._start:\n",
    "                continue\n",
    "            elif start_flag:\n",
    "                start_flag = False\n",
    "                # set start and end\n",
    "                self._start = date\n",
    "                self._end = self._ts.index[-1]\n",
    "\n",
    "            # buy\n",
    "            if self._tlog.num_open_trades() == 0:\n",
    "\n",
    "                # enter buy in trade log\n",
    "                shares = self._tlog.enter_trade(date, close)\n",
    "                trade_state = pf.TradeState.OPEN\n",
    "                print(\"{0} BUY  {1} {2} @ {3:.2f}\".format(\n",
    "                      date, shares, self._symbol, close))\n",
    "\n",
    "            # sell\n",
    "            elif end_flag:\n",
    "\n",
    "                # enter sell in trade log\n",
    "                shares = self._tlog.exit_trade(date, close)\n",
    "                trade_state = pf.TradeState.CLOSE\n",
    "                print(\"{0} SELL {1} {2} @ {3:.2f}\".format(\n",
    "                      date, shares, self._symbol, close))\n",
    "\n",
    "            # hold\n",
    "            else:\n",
    "                trade_state = pf.TradeState.HOLD\n",
    "\n",
    "            # record daily balance\n",
    "            self._dbal.append(date, high, low, close,\n",
    "                              self._tlog.shares, self._tlog.cash,\n",
    "                              trade_state)\n",
    "\n",
    "    def run(self):\n",
    "        self._ts = pf.fetch_timeseries(self._symbol)\n",
    "        self._ts = pf.select_tradeperiod(self._ts, self._start, self._end,\n",
    "                                         use_adj=True, pad=False)\n",
    "        self._tlog = pf.TradeLog()\n",
    "        self._dbal = pf.DailyBal()\n",
    "\n",
    "        self._algo()\n",
    "\n",
    "    def get_logs(self):\n",
    "        \"\"\" return DataFrames \"\"\"\n",
    "        tlog = self._tlog.get_log()\n",
    "        dbal = self._dbal.get_log()\n",
    "        return tlog, dbal\n",
    "\n",
    "    def stats(self):\n",
    "        tlog, dbal = self.get_logs()\n",
    "\n",
    "        stats = pf.stats(self._ts, tlog, dbal,\n",
    "                         self._start, self._end, self._capital)\n",
    "        return stats"
   ]
  },
  {
   "cell_type": "markdown",
   "metadata": {},
   "source": [
    "Run Strategy"
   ]
  },
  {
   "cell_type": "code",
   "execution_count": 5,
   "metadata": {
    "ExecuteTime": {
     "end_time": "2019-07-31T07:26:31.885420Z",
     "start_time": "2019-07-31T07:26:31.643404Z"
    },
    "scrolled": true
   },
   "outputs": [
    {
     "name": "stdout",
     "output_type": "stream",
     "text": [
      "1950-01-03 00:00:00 BUY  600 ^GSPC @ 16.66\n",
      "2019-07-24 00:00:00 SELL 600 ^GSPC @ 3019.56\n"
     ]
    }
   ],
   "source": [
    "s = Strategy(symbol, capital, start, end)\n",
    "s.run()"
   ]
  },
  {
   "cell_type": "markdown",
   "metadata": {},
   "source": [
    "Retrieve log DataFrames"
   ]
  },
  {
   "cell_type": "code",
   "execution_count": 6,
   "metadata": {
    "ExecuteTime": {
     "end_time": "2019-07-31T07:26:32.273350Z",
     "start_time": "2019-07-31T07:26:31.893153Z"
    }
   },
   "outputs": [],
   "source": [
    "s.tlog, s.dbal = s.get_logs()\n",
    "s.stats = s.stats()"
   ]
  },
  {
   "cell_type": "code",
   "execution_count": 7,
   "metadata": {
    "ExecuteTime": {
     "end_time": "2019-07-31T07:26:32.311830Z",
     "start_time": "2019-07-31T07:26:32.281923Z"
    }
   },
   "outputs": [
    {
     "data": {
      "text/html": [
       "<div>\n",
       "<style scoped>\n",
       "    .dataframe tbody tr th:only-of-type {\n",
       "        vertical-align: middle;\n",
       "    }\n",
       "\n",
       "    .dataframe tbody tr th {\n",
       "        vertical-align: top;\n",
       "    }\n",
       "\n",
       "    .dataframe thead th {\n",
       "        text-align: right;\n",
       "    }\n",
       "</style>\n",
       "<table border=\"1\" class=\"dataframe\">\n",
       "  <thead>\n",
       "    <tr style=\"text-align: right;\">\n",
       "      <th></th>\n",
       "      <th>entry_date</th>\n",
       "      <th>entry_price</th>\n",
       "      <th>exit_date</th>\n",
       "      <th>exit_price</th>\n",
       "      <th>pl_points</th>\n",
       "      <th>pl_cash</th>\n",
       "      <th>qty</th>\n",
       "      <th>cumul_total</th>\n",
       "    </tr>\n",
       "  </thead>\n",
       "  <tbody>\n",
       "    <tr>\n",
       "      <th>0</th>\n",
       "      <td>1950-01-03</td>\n",
       "      <td>16.66</td>\n",
       "      <td>2019-07-24</td>\n",
       "      <td>3019.56</td>\n",
       "      <td>3002.90</td>\n",
       "      <td>1801740.04</td>\n",
       "      <td>600</td>\n",
       "      <td>1801740.04</td>\n",
       "    </tr>\n",
       "  </tbody>\n",
       "</table>\n",
       "</div>"
      ],
      "text/plain": [
       "  entry_date  entry_price  exit_date  exit_price  pl_points    pl_cash  qty  \\\n",
       "0 1950-01-03        16.66 2019-07-24     3019.56    3002.90 1801740.04  600   \n",
       "\n",
       "   cumul_total  \n",
       "0   1801740.04  "
      ]
     },
     "execution_count": 7,
     "metadata": {},
     "output_type": "execute_result"
    }
   ],
   "source": [
    "s.tlog.tail()"
   ]
  },
  {
   "cell_type": "code",
   "execution_count": 8,
   "metadata": {
    "ExecuteTime": {
     "end_time": "2019-07-31T07:26:32.341827Z",
     "start_time": "2019-07-31T07:26:32.315779Z"
    }
   },
   "outputs": [
    {
     "data": {
      "text/html": [
       "<div>\n",
       "<style scoped>\n",
       "    .dataframe tbody tr th:only-of-type {\n",
       "        vertical-align: middle;\n",
       "    }\n",
       "\n",
       "    .dataframe tbody tr th {\n",
       "        vertical-align: top;\n",
       "    }\n",
       "\n",
       "    .dataframe thead th {\n",
       "        text-align: right;\n",
       "    }\n",
       "</style>\n",
       "<table border=\"1\" class=\"dataframe\">\n",
       "  <thead>\n",
       "    <tr style=\"text-align: right;\">\n",
       "      <th></th>\n",
       "      <th>high</th>\n",
       "      <th>low</th>\n",
       "      <th>close</th>\n",
       "      <th>shares</th>\n",
       "      <th>cash</th>\n",
       "      <th>state</th>\n",
       "    </tr>\n",
       "    <tr>\n",
       "      <th>date</th>\n",
       "      <th></th>\n",
       "      <th></th>\n",
       "      <th></th>\n",
       "      <th></th>\n",
       "      <th></th>\n",
       "      <th></th>\n",
       "    </tr>\n",
       "  </thead>\n",
       "  <tbody>\n",
       "    <tr>\n",
       "      <th>2019-07-18</th>\n",
       "      <td>1798972.02</td>\n",
       "      <td>1783858.05</td>\n",
       "      <td>1797070.06</td>\n",
       "      <td>600</td>\n",
       "      <td>4.00</td>\n",
       "      <td>1</td>\n",
       "    </tr>\n",
       "    <tr>\n",
       "      <th>2019-07-19</th>\n",
       "      <td>1803616.01</td>\n",
       "      <td>1785520.06</td>\n",
       "      <td>1785970.06</td>\n",
       "      <td>600</td>\n",
       "      <td>4.00</td>\n",
       "      <td>1</td>\n",
       "    </tr>\n",
       "    <tr>\n",
       "      <th>2019-07-22</th>\n",
       "      <td>1794429.98</td>\n",
       "      <td>1785993.94</td>\n",
       "      <td>1791022.02</td>\n",
       "      <td>600</td>\n",
       "      <td>4.00</td>\n",
       "      <td>1</td>\n",
       "    </tr>\n",
       "    <tr>\n",
       "      <th>2019-07-23</th>\n",
       "      <td>1803543.94</td>\n",
       "      <td>1793140.04</td>\n",
       "      <td>1803285.98</td>\n",
       "      <td>600</td>\n",
       "      <td>4.00</td>\n",
       "      <td>1</td>\n",
       "    </tr>\n",
       "    <tr>\n",
       "      <th>2019-07-24</th>\n",
       "      <td>1811740.04</td>\n",
       "      <td>1811740.04</td>\n",
       "      <td>1811740.04</td>\n",
       "      <td>0</td>\n",
       "      <td>1811740.04</td>\n",
       "      <td>2</td>\n",
       "    </tr>\n",
       "  </tbody>\n",
       "</table>\n",
       "</div>"
      ],
      "text/plain": [
       "                 high        low      close  shares       cash  state\n",
       "date                                                                 \n",
       "2019-07-18 1798972.02 1783858.05 1797070.06     600       4.00      1\n",
       "2019-07-19 1803616.01 1785520.06 1785970.06     600       4.00      1\n",
       "2019-07-22 1794429.98 1785993.94 1791022.02     600       4.00      1\n",
       "2019-07-23 1803543.94 1793140.04 1803285.98     600       4.00      1\n",
       "2019-07-24 1811740.04 1811740.04 1811740.04       0 1811740.04      2"
      ]
     },
     "execution_count": 8,
     "metadata": {},
     "output_type": "execute_result"
    }
   ],
   "source": [
    "s.dbal.tail()"
   ]
  },
  {
   "cell_type": "code",
   "execution_count": 9,
   "metadata": {
    "ExecuteTime": {
     "end_time": "2019-07-31T07:26:32.379777Z",
     "start_time": "2019-07-31T07:26:32.352289Z"
    }
   },
   "outputs": [
    {
     "name": "stdout",
     "output_type": "stream",
     "text": [
      "start                                                   1950-01-03\n",
      "end                                                     2019-07-24\n",
      "beginning_balance                                            10000\n",
      "ending_balance                                          1811740.04\n",
      "total_net_profit                                        1801740.04\n",
      "gross_profit                                            1801740.04\n",
      "gross_loss                                                    0.00\n",
      "profit_factor                                                 1000\n",
      "return_on_initial_capital                                 18017.40\n",
      "annual_return_rate                                            7.76\n",
      "trading_period                           69 years 6 months 21 days\n",
      "pct_time_in_market                                          100.00\n",
      "total_num_trades                                                 1\n",
      "num_winning_trades                                               1\n",
      "num_losing_trades                                                0\n",
      "num_even_trades                                                  0\n",
      "pct_profitable_trades                                       100.00\n",
      "avg_profit_per_trade                                    1801740.04\n",
      "avg_profit_per_winning_trade                            1801740.04\n",
      "avg_loss_per_losing_trade                                        0\n",
      "ratio_avg_profit_win_loss                                     1000\n",
      "largest_profit_winning_trade                            1801740.04\n",
      "largest_loss_losing_trade                                        0\n",
      "num_winning_points                                         3002.90\n",
      "num_losing_points                                                0\n",
      "total_net_points                                           3002.90\n",
      "avg_points                                                 3002.90\n",
      "largest_points_winning_trade                               3002.90\n",
      "largest_points_losing_trade                                      0\n",
      "avg_pct_gain_per_trade                                    18024.61\n",
      "largest_pct_winning_trade                                 18024.61\n",
      "largest_pct_losing_trade                                         0\n",
      "max_consecutive_winning_trades                                   1\n",
      "max_consecutive_losing_trades                                    0\n",
      "avg_bars_winning_trades                                   17502.00\n",
      "avg_bars_losing_trades                                           0\n",
      "max_closed_out_drawdown                                     -56.78\n",
      "max_closed_out_drawdown_start_date                      2007-10-09\n",
      "max_closed_out_drawdown_end_date                        2009-03-09\n",
      "max_closed_out_drawdown_recovery_date                   2013-03-28\n",
      "drawdown_recovery                                            -1.42\n",
      "drawdown_annualized_return                                   -7.31\n",
      "max_intra_day_drawdown                                      -57.69\n",
      "avg_yearly_closed_out_drawdown                              -13.22\n",
      "max_yearly_closed_out_drawdown                              -52.58\n",
      "avg_monthly_closed_out_drawdown                              -3.56\n",
      "max_monthly_closed_out_drawdown                             -31.47\n",
      "avg_weekly_closed_out_drawdown                               -1.38\n",
      "max_weekly_closed_out_drawdown                              -28.51\n",
      "avg_yearly_closed_out_runup                                  22.86\n",
      "max_yearly_closed_out_runup                                  70.02\n",
      "avg_monthly_closed_out_runup                                  4.27\n",
      "max_monthly_closed_out_runup                                 24.53\n",
      "avg_weekly_closed_out_runup                                   1.56\n",
      "max_weekly_closed_out_runup                                  19.11\n",
      "pct_profitable_years                                         73.76\n",
      "best_year                                                    68.57\n",
      "worst_year                                                  -48.82\n",
      "avg_year                                                      8.84\n",
      "annual_std                                                   15.81\n",
      "pct_profitable_months                                        61.12\n",
      "best_month                                                   23.49\n",
      "worst_month                                                 -29.56\n",
      "avg_month                                                     0.68\n",
      "monthly_std                                                   4.14\n",
      "pct_profitable_weeks                                         56.47\n",
      "best_week                                                    19.11\n",
      "worst_week                                                  -27.33\n",
      "avg_week                                                      0.17\n",
      "weekly_std                                                    2.13\n",
      "sharpe_ratio                                                  0.57\n",
      "sortino_ratio                                                 0.73\n",
      "dtype: object\n"
     ]
    }
   ],
   "source": [
    "pf.print_full(s.stats)"
   ]
  },
  {
   "cell_type": "markdown",
   "metadata": {},
   "source": [
    "Summary"
   ]
  },
  {
   "cell_type": "code",
   "execution_count": 10,
   "metadata": {
    "ExecuteTime": {
     "end_time": "2019-07-31T07:26:32.417750Z",
     "start_time": "2019-07-31T07:26:32.389056Z"
    }
   },
   "outputs": [
    {
     "data": {
      "text/html": [
       "<div>\n",
       "<style scoped>\n",
       "    .dataframe tbody tr th:only-of-type {\n",
       "        vertical-align: middle;\n",
       "    }\n",
       "\n",
       "    .dataframe tbody tr th {\n",
       "        vertical-align: top;\n",
       "    }\n",
       "\n",
       "    .dataframe thead th {\n",
       "        text-align: right;\n",
       "    }\n",
       "</style>\n",
       "<table border=\"1\" class=\"dataframe\">\n",
       "  <thead>\n",
       "    <tr style=\"text-align: right;\">\n",
       "      <th></th>\n",
       "      <th>strategy</th>\n",
       "    </tr>\n",
       "  </thead>\n",
       "  <tbody>\n",
       "    <tr>\n",
       "      <th>annual_return_rate</th>\n",
       "      <td>7.76</td>\n",
       "    </tr>\n",
       "    <tr>\n",
       "      <th>max_closed_out_drawdown</th>\n",
       "      <td>-56.78</td>\n",
       "    </tr>\n",
       "    <tr>\n",
       "      <th>drawdown_annualized_return</th>\n",
       "      <td>-7.31</td>\n",
       "    </tr>\n",
       "    <tr>\n",
       "      <th>drawdown_recovery</th>\n",
       "      <td>-1.42</td>\n",
       "    </tr>\n",
       "    <tr>\n",
       "      <th>best_month</th>\n",
       "      <td>23.49</td>\n",
       "    </tr>\n",
       "    <tr>\n",
       "      <th>worst_month</th>\n",
       "      <td>-29.56</td>\n",
       "    </tr>\n",
       "    <tr>\n",
       "      <th>sharpe_ratio</th>\n",
       "      <td>0.57</td>\n",
       "    </tr>\n",
       "    <tr>\n",
       "      <th>sortino_ratio</th>\n",
       "      <td>0.73</td>\n",
       "    </tr>\n",
       "    <tr>\n",
       "      <th>monthly_std</th>\n",
       "      <td>4.14</td>\n",
       "    </tr>\n",
       "  </tbody>\n",
       "</table>\n",
       "</div>"
      ],
      "text/plain": [
       "                            strategy\n",
       "annual_return_rate              7.76\n",
       "max_closed_out_drawdown       -56.78\n",
       "drawdown_annualized_return     -7.31\n",
       "drawdown_recovery              -1.42\n",
       "best_month                     23.49\n",
       "worst_month                   -29.56\n",
       "sharpe_ratio                    0.57\n",
       "sortino_ratio                   0.73\n",
       "monthly_std                     4.14"
      ]
     },
     "execution_count": 10,
     "metadata": {},
     "output_type": "execute_result"
    }
   ],
   "source": [
    "metrics = ('annual_return_rate',\n",
    "           'max_closed_out_drawdown',\n",
    "           'drawdown_annualized_return',\n",
    "           'drawdown_recovery',\n",
    "           'best_month',\n",
    "           'worst_month',\n",
    "           'sharpe_ratio',\n",
    "           'sortino_ratio',\n",
    "           'monthly_std')\n",
    "\n",
    "pf.summary(s.stats, *metrics)"
   ]
  }
 ],
 "metadata": {
  "kernelspec": {
   "display_name": "Python 2",
   "language": "python",
   "name": "python2"
  },
  "language_info": {
   "codemirror_mode": {
    "name": "ipython",
    "version": 2
   },
   "file_extension": ".py",
   "mimetype": "text/x-python",
   "name": "python",
   "nbconvert_exporter": "python",
   "pygments_lexer": "ipython2",
   "version": "2.7.15+"
  },
  "latex_envs": {
   "LaTeX_envs_menu_present": true,
   "autoclose": false,
   "autocomplete": true,
   "bibliofile": "biblio.bib",
   "cite_by": "apalike",
   "current_citInitial": 1,
   "eqLabelWithNumbers": true,
   "eqNumInitial": 1,
   "hotkeys": {
    "equation": "Ctrl-E",
    "itemize": "Ctrl-I"
   },
   "labels_anchors": false,
   "latex_user_defs": false,
   "report_style_numbering": false,
   "user_envs_cfg": false
  }
 },
 "nbformat": 4,
 "nbformat_minor": 1
}
