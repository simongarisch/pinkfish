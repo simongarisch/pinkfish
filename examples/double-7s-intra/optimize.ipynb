{
 "cells": [
  {
   "cell_type": "markdown",
   "metadata": {},
   "source": [
    "# Double 7's Intra (Short Term Trading Strategies that Work)\n",
    "\n",
    "    1. The SPY is above its 200-day moving average\n",
    "    2. The SPY makes an intraday X-day low, buy.\n",
    "    3. If the SPY makes an intraday X-day high, sell your long position.\n",
    "    \n",
    "    (optimize the number of days)"
   ]
  },
  {
   "cell_type": "code",
   "execution_count": 1,
   "metadata": {
    "ExecuteTime": {
     "end_time": "2019-07-31T07:34:38.589486Z",
     "start_time": "2019-07-31T07:34:38.035687Z"
    }
   },
   "outputs": [],
   "source": [
    "# use future imports for python 3.x forward compatibility\n",
    "from __future__ import print_function\n",
    "from __future__ import unicode_literals\n",
    "from __future__ import division\n",
    "from __future__ import absolute_import\n",
    "\n",
    "# other imports\n",
    "import pandas as pd\n",
    "import matplotlib.pyplot as plt\n",
    "import datetime\n",
    "from talib.abstract import *\n",
    "\n",
    "# project imports\n",
    "import pinkfish as pf\n",
    "import strategy\n",
    "\n",
    "# format price data\n",
    "pd.options.display.float_format = '{:0.2f}'.format\n",
    "\n",
    "%matplotlib inline"
   ]
  },
  {
   "cell_type": "code",
   "execution_count": 2,
   "metadata": {
    "ExecuteTime": {
     "end_time": "2019-07-31T07:34:38.605395Z",
     "start_time": "2019-07-31T07:34:38.599203Z"
    }
   },
   "outputs": [],
   "source": [
    "# set size of inline plots\n",
    "'''note: rcParams can't be in same cell as import matplotlib\n",
    "   or %matplotlib inline\n",
    "   \n",
    "   %matplotlib notebook: will lead to interactive plots embedded within\n",
    "   the notebook, you can zoom and resize the figure\n",
    "   \n",
    "   %matplotlib inline: only draw static images in the notebook\n",
    "'''\n",
    "plt.rcParams[\"figure.figsize\"] = (10, 7)"
   ]
  },
  {
   "cell_type": "markdown",
   "metadata": {},
   "source": [
    "Some global data"
   ]
  },
  {
   "cell_type": "code",
   "execution_count": 3,
   "metadata": {
    "ExecuteTime": {
     "end_time": "2019-07-31T07:34:38.619327Z",
     "start_time": "2019-07-31T07:34:38.609384Z"
    }
   },
   "outputs": [],
   "source": [
    "#symbol = '^GSPC'\n",
    "symbol = 'SPY'\n",
    "#symbol = 'DIA'\n",
    "#symbol = 'QQQ'\n",
    "#symbol = 'IWM'\n",
    "#symbol = 'TLT'\n",
    "#symbol = 'GLD'\n",
    "#symbol = 'AAPL'\n",
    "#symbol = 'BBRY'\n",
    "#symbol = 'GDX'\n",
    "capital = 10000\n",
    "start = datetime.datetime(1900, 1, 1)\n",
    "end = datetime.datetime.now()\n",
    "use_adj = False"
   ]
  },
  {
   "cell_type": "markdown",
   "metadata": {},
   "source": [
    "Define high low trade periods"
   ]
  },
  {
   "cell_type": "code",
   "execution_count": 4,
   "metadata": {
    "ExecuteTime": {
     "end_time": "2019-07-31T07:34:38.629565Z",
     "start_time": "2019-07-31T07:34:38.624396Z"
    }
   },
   "outputs": [],
   "source": [
    "periods = range(3, 16)\n",
    "periods = [str(period) for period in periods]"
   ]
  },
  {
   "cell_type": "markdown",
   "metadata": {},
   "source": [
    "Run Strategy"
   ]
  },
  {
   "cell_type": "code",
   "execution_count": 5,
   "metadata": {
    "ExecuteTime": {
     "end_time": "2019-07-31T07:34:53.635014Z",
     "start_time": "2019-07-31T07:34:38.633527Z"
    }
   },
   "outputs": [
    {
     "name": "stdout",
     "output_type": "stream",
     "text": [
      "3 4 5 6 7 8 9 10 11 12 13 14 15 "
     ]
    }
   ],
   "source": [
    "strategies = pd.Series()\n",
    "for period in periods:\n",
    "    print(\"{0}\".format(period), end=\" \")\n",
    "    strategies[period] = strategy.Strategy(symbol, capital, start, end, use_adj, int(period))\n",
    "    strategies[period].run()\n",
    "    strategies[period].tlog, strategies[period].dbal = strategies[period].get_logs()\n",
    "    strategies[period].stats = strategies[period].stats()"
   ]
  },
  {
   "cell_type": "markdown",
   "metadata": {},
   "source": [
    "Summarize results"
   ]
  },
  {
   "cell_type": "code",
   "execution_count": 6,
   "metadata": {
    "ExecuteTime": {
     "end_time": "2019-07-31T07:34:53.703568Z",
     "start_time": "2019-07-31T07:34:53.646109Z"
    },
    "scrolled": false
   },
   "outputs": [
    {
     "data": {
      "text/html": [
       "<div>\n",
       "<style scoped>\n",
       "    .dataframe tbody tr th:only-of-type {\n",
       "        vertical-align: middle;\n",
       "    }\n",
       "\n",
       "    .dataframe tbody tr th {\n",
       "        vertical-align: top;\n",
       "    }\n",
       "\n",
       "    .dataframe thead th {\n",
       "        text-align: right;\n",
       "    }\n",
       "</style>\n",
       "<table border=\"1\" class=\"dataframe\">\n",
       "  <thead>\n",
       "    <tr style=\"text-align: right;\">\n",
       "      <th></th>\n",
       "      <th>3</th>\n",
       "      <th>4</th>\n",
       "      <th>5</th>\n",
       "      <th>6</th>\n",
       "      <th>7</th>\n",
       "      <th>8</th>\n",
       "      <th>9</th>\n",
       "      <th>10</th>\n",
       "      <th>11</th>\n",
       "      <th>12</th>\n",
       "      <th>13</th>\n",
       "      <th>14</th>\n",
       "      <th>15</th>\n",
       "    </tr>\n",
       "  </thead>\n",
       "  <tbody>\n",
       "    <tr>\n",
       "      <th>annual_return_rate</th>\n",
       "      <td>5.81</td>\n",
       "      <td>5.49</td>\n",
       "      <td>8.02</td>\n",
       "      <td>7.43</td>\n",
       "      <td>8.43</td>\n",
       "      <td>8.04</td>\n",
       "      <td>7.12</td>\n",
       "      <td>7.06</td>\n",
       "      <td>7.16</td>\n",
       "      <td>6.92</td>\n",
       "      <td>6.96</td>\n",
       "      <td>6.46</td>\n",
       "      <td>6.45</td>\n",
       "    </tr>\n",
       "    <tr>\n",
       "      <th>max_closed_out_drawdown</th>\n",
       "      <td>-24.02</td>\n",
       "      <td>-21.59</td>\n",
       "      <td>-17.75</td>\n",
       "      <td>-19.47</td>\n",
       "      <td>-15.99</td>\n",
       "      <td>-15.65</td>\n",
       "      <td>-18.59</td>\n",
       "      <td>-17.82</td>\n",
       "      <td>-19.19</td>\n",
       "      <td>-17.35</td>\n",
       "      <td>-17.13</td>\n",
       "      <td>-18.31</td>\n",
       "      <td>-17.88</td>\n",
       "    </tr>\n",
       "    <tr>\n",
       "      <th>drawdown_annualized_return</th>\n",
       "      <td>-4.13</td>\n",
       "      <td>-3.93</td>\n",
       "      <td>-2.21</td>\n",
       "      <td>-2.62</td>\n",
       "      <td>-1.90</td>\n",
       "      <td>-1.95</td>\n",
       "      <td>-2.61</td>\n",
       "      <td>-2.52</td>\n",
       "      <td>-2.68</td>\n",
       "      <td>-2.51</td>\n",
       "      <td>-2.46</td>\n",
       "      <td>-2.83</td>\n",
       "      <td>-2.77</td>\n",
       "    </tr>\n",
       "    <tr>\n",
       "      <th>drawdown_recovery</th>\n",
       "      <td>-0.91</td>\n",
       "      <td>-0.97</td>\n",
       "      <td>-0.80</td>\n",
       "      <td>-1.28</td>\n",
       "      <td>-0.65</td>\n",
       "      <td>-0.43</td>\n",
       "      <td>-0.25</td>\n",
       "      <td>-0.25</td>\n",
       "      <td>-1.55</td>\n",
       "      <td>-0.24</td>\n",
       "      <td>-1.62</td>\n",
       "      <td>-1.62</td>\n",
       "      <td>-1.62</td>\n",
       "    </tr>\n",
       "    <tr>\n",
       "      <th>best_month</th>\n",
       "      <td>11.44</td>\n",
       "      <td>10.40</td>\n",
       "      <td>10.55</td>\n",
       "      <td>11.12</td>\n",
       "      <td>12.15</td>\n",
       "      <td>12.26</td>\n",
       "      <td>13.40</td>\n",
       "      <td>13.70</td>\n",
       "      <td>14.09</td>\n",
       "      <td>14.32</td>\n",
       "      <td>14.31</td>\n",
       "      <td>10.69</td>\n",
       "      <td>10.69</td>\n",
       "    </tr>\n",
       "    <tr>\n",
       "      <th>worst_month</th>\n",
       "      <td>-15.52</td>\n",
       "      <td>-14.96</td>\n",
       "      <td>-14.37</td>\n",
       "      <td>-14.39</td>\n",
       "      <td>-13.43</td>\n",
       "      <td>-14.18</td>\n",
       "      <td>-16.29</td>\n",
       "      <td>-16.29</td>\n",
       "      <td>-16.28</td>\n",
       "      <td>-16.30</td>\n",
       "      <td>-16.29</td>\n",
       "      <td>-14.43</td>\n",
       "      <td>-14.45</td>\n",
       "    </tr>\n",
       "    <tr>\n",
       "      <th>sharpe_ratio</th>\n",
       "      <td>0.56</td>\n",
       "      <td>0.54</td>\n",
       "      <td>0.75</td>\n",
       "      <td>0.70</td>\n",
       "      <td>0.78</td>\n",
       "      <td>0.74</td>\n",
       "      <td>0.67</td>\n",
       "      <td>0.66</td>\n",
       "      <td>0.67</td>\n",
       "      <td>0.65</td>\n",
       "      <td>0.66</td>\n",
       "      <td>0.62</td>\n",
       "      <td>0.63</td>\n",
       "    </tr>\n",
       "    <tr>\n",
       "      <th>sortino_ratio</th>\n",
       "      <td>0.52</td>\n",
       "      <td>0.50</td>\n",
       "      <td>0.69</td>\n",
       "      <td>0.63</td>\n",
       "      <td>0.70</td>\n",
       "      <td>0.66</td>\n",
       "      <td>0.59</td>\n",
       "      <td>0.58</td>\n",
       "      <td>0.59</td>\n",
       "      <td>0.57</td>\n",
       "      <td>0.56</td>\n",
       "      <td>0.52</td>\n",
       "      <td>0.51</td>\n",
       "    </tr>\n",
       "    <tr>\n",
       "      <th>monthly_std</th>\n",
       "      <td>2.62</td>\n",
       "      <td>2.47</td>\n",
       "      <td>2.45</td>\n",
       "      <td>2.41</td>\n",
       "      <td>2.41</td>\n",
       "      <td>2.41</td>\n",
       "      <td>2.51</td>\n",
       "      <td>2.55</td>\n",
       "      <td>2.55</td>\n",
       "      <td>2.57</td>\n",
       "      <td>2.50</td>\n",
       "      <td>2.42</td>\n",
       "      <td>2.44</td>\n",
       "    </tr>\n",
       "    <tr>\n",
       "      <th>pct_time_in_market</th>\n",
       "      <td>47.71</td>\n",
       "      <td>45.93</td>\n",
       "      <td>44.68</td>\n",
       "      <td>43.64</td>\n",
       "      <td>42.87</td>\n",
       "      <td>42.36</td>\n",
       "      <td>41.89</td>\n",
       "      <td>41.46</td>\n",
       "      <td>41.00</td>\n",
       "      <td>40.41</td>\n",
       "      <td>38.60</td>\n",
       "      <td>37.46</td>\n",
       "      <td>36.35</td>\n",
       "    </tr>\n",
       "    <tr>\n",
       "      <th>total_num_trades</th>\n",
       "      <td>822.00</td>\n",
       "      <td>623.00</td>\n",
       "      <td>534.00</td>\n",
       "      <td>433.00</td>\n",
       "      <td>374.00</td>\n",
       "      <td>316.00</td>\n",
       "      <td>270.00</td>\n",
       "      <td>243.00</td>\n",
       "      <td>222.00</td>\n",
       "      <td>204.00</td>\n",
       "      <td>183.00</td>\n",
       "      <td>166.00</td>\n",
       "      <td>154.00</td>\n",
       "    </tr>\n",
       "    <tr>\n",
       "      <th>pct_profitable_trades</th>\n",
       "      <td>73.48</td>\n",
       "      <td>74.48</td>\n",
       "      <td>77.72</td>\n",
       "      <td>76.91</td>\n",
       "      <td>78.61</td>\n",
       "      <td>78.80</td>\n",
       "      <td>79.26</td>\n",
       "      <td>77.78</td>\n",
       "      <td>76.58</td>\n",
       "      <td>75.98</td>\n",
       "      <td>77.05</td>\n",
       "      <td>75.30</td>\n",
       "      <td>75.32</td>\n",
       "    </tr>\n",
       "    <tr>\n",
       "      <th>avg_points</th>\n",
       "      <td>0.19</td>\n",
       "      <td>0.25</td>\n",
       "      <td>0.48</td>\n",
       "      <td>0.52</td>\n",
       "      <td>0.68</td>\n",
       "      <td>0.78</td>\n",
       "      <td>0.83</td>\n",
       "      <td>0.89</td>\n",
       "      <td>1.02</td>\n",
       "      <td>1.08</td>\n",
       "      <td>1.24</td>\n",
       "      <td>1.29</td>\n",
       "      <td>1.39</td>\n",
       "    </tr>\n",
       "  </tbody>\n",
       "</table>\n",
       "</div>"
      ],
      "text/plain": [
       "                                3      4      5      6      7      8      9  \\\n",
       "annual_return_rate           5.81   5.49   8.02   7.43   8.43   8.04   7.12   \n",
       "max_closed_out_drawdown    -24.02 -21.59 -17.75 -19.47 -15.99 -15.65 -18.59   \n",
       "drawdown_annualized_return  -4.13  -3.93  -2.21  -2.62  -1.90  -1.95  -2.61   \n",
       "drawdown_recovery           -0.91  -0.97  -0.80  -1.28  -0.65  -0.43  -0.25   \n",
       "best_month                  11.44  10.40  10.55  11.12  12.15  12.26  13.40   \n",
       "worst_month                -15.52 -14.96 -14.37 -14.39 -13.43 -14.18 -16.29   \n",
       "sharpe_ratio                 0.56   0.54   0.75   0.70   0.78   0.74   0.67   \n",
       "sortino_ratio                0.52   0.50   0.69   0.63   0.70   0.66   0.59   \n",
       "monthly_std                  2.62   2.47   2.45   2.41   2.41   2.41   2.51   \n",
       "pct_time_in_market          47.71  45.93  44.68  43.64  42.87  42.36  41.89   \n",
       "total_num_trades           822.00 623.00 534.00 433.00 374.00 316.00 270.00   \n",
       "pct_profitable_trades       73.48  74.48  77.72  76.91  78.61  78.80  79.26   \n",
       "avg_points                   0.19   0.25   0.48   0.52   0.68   0.78   0.83   \n",
       "\n",
       "                               10     11     12     13     14     15  \n",
       "annual_return_rate           7.06   7.16   6.92   6.96   6.46   6.45  \n",
       "max_closed_out_drawdown    -17.82 -19.19 -17.35 -17.13 -18.31 -17.88  \n",
       "drawdown_annualized_return  -2.52  -2.68  -2.51  -2.46  -2.83  -2.77  \n",
       "drawdown_recovery           -0.25  -1.55  -0.24  -1.62  -1.62  -1.62  \n",
       "best_month                  13.70  14.09  14.32  14.31  10.69  10.69  \n",
       "worst_month                -16.29 -16.28 -16.30 -16.29 -14.43 -14.45  \n",
       "sharpe_ratio                 0.66   0.67   0.65   0.66   0.62   0.63  \n",
       "sortino_ratio                0.58   0.59   0.57   0.56   0.52   0.51  \n",
       "monthly_std                  2.55   2.55   2.57   2.50   2.42   2.44  \n",
       "pct_time_in_market          41.46  41.00  40.41  38.60  37.46  36.35  \n",
       "total_num_trades           243.00 222.00 204.00 183.00 166.00 154.00  \n",
       "pct_profitable_trades       77.78  76.58  75.98  77.05  75.30  75.32  \n",
       "avg_points                   0.89   1.02   1.08   1.24   1.29   1.39  "
      ]
     },
     "execution_count": 6,
     "metadata": {},
     "output_type": "execute_result"
    }
   ],
   "source": [
    "metrics = ('annual_return_rate',\n",
    "           'max_closed_out_drawdown',\n",
    "           'drawdown_annualized_return',\n",
    "           'drawdown_recovery',\n",
    "           'best_month',\n",
    "           'worst_month',\n",
    "           'sharpe_ratio',\n",
    "           'sortino_ratio',\n",
    "           'monthly_std',\n",
    "           'pct_time_in_market',\n",
    "           'total_num_trades',\n",
    "           'pct_profitable_trades',\n",
    "           'avg_points')\n",
    "\n",
    "df = strategy.summary(strategies, *metrics)\n",
    "df"
   ]
  },
  {
   "cell_type": "markdown",
   "metadata": {},
   "source": [
    "Bar graphs"
   ]
  },
  {
   "cell_type": "code",
   "execution_count": 7,
   "metadata": {
    "ExecuteTime": {
     "end_time": "2019-07-31T07:34:54.505548Z",
     "start_time": "2019-07-31T07:34:53.707346Z"
    }
   },
   "outputs": [
    {
     "data": {
      "image/png": "[encoded data removed]",
      "text/plain": [
       "<Figure size 720x504 with 1 Axes>"
      ]
     },
     "metadata": {
      "needs_background": "light"
     },
     "output_type": "display_data"
    },
    {
     "data": {
      "image/png": "[encoded data removed]",
      "text/plain": [
       "<Figure size 720x504 with 1 Axes>"
      ]
     },
     "metadata": {
      "needs_background": "light"
     },
     "output_type": "display_data"
    },
    {
     "data": {
      "image/png": "[encoded data removed]",
      "text/plain": [
       "<Figure size 720x504 with 1 Axes>"
      ]
     },
     "metadata": {
      "needs_background": "light"
     },
     "output_type": "display_data"
    }
   ],
   "source": [
    "strategy.plot_bar_graph(df, 'annual_return_rate')\n",
    "strategy.plot_bar_graph(df, 'sharpe_ratio')\n",
    "strategy.plot_bar_graph(df, 'max_closed_out_drawdown')"
   ]
  },
  {
   "cell_type": "markdown",
   "metadata": {},
   "source": [
    "Run Benchmark"
   ]
  },
  {
   "cell_type": "code",
   "execution_count": 8,
   "metadata": {
    "ExecuteTime": {
     "end_time": "2019-07-31T07:34:54.824888Z",
     "start_time": "2019-07-31T07:34:54.508295Z"
    }
   },
   "outputs": [
    {
     "name": "stdout",
     "output_type": "stream",
     "text": [
      "1993-11-12 00:00:00 BUY  214 SPY @ 46.59\n",
      "2019-07-26 00:00:00 SELL 214 SPY @ 302.01\n"
     ]
    }
   ],
   "source": [
    "s = strategies[periods[0]]\n",
    "benchmark = pf.Benchmark(symbol, capital, s._start, s._end, s._use_adj)\n",
    "benchmark.run()\n",
    "benchmark.tlog, benchmark.dbal = benchmark.get_logs()\n",
    "benchmark.stats = benchmark.stats()"
   ]
  },
  {
   "cell_type": "markdown",
   "metadata": {},
   "source": [
    "Equity curve"
   ]
  },
  {
   "cell_type": "code",
   "execution_count": 9,
   "metadata": {
    "ExecuteTime": {
     "end_time": "2019-07-31T07:34:55.131358Z",
     "start_time": "2019-07-31T07:34:54.835569Z"
    }
   },
   "outputs": [
    {
     "data": {
      "image/png": "[encoded data removed]",
      "text/plain": [
       "<Figure size 720x504 with 1 Axes>"
      ]
     },
     "metadata": {
      "needs_background": "light"
     },
     "output_type": "display_data"
    }
   ],
   "source": [
    "pf.plot_equity_curve(strategies['7'].dbal, benchmark=benchmark.dbal)"
   ]
  }
 ],
 "metadata": {
  "kernelspec": {
   "display_name": "Python 2",
   "language": "python",
   "name": "python2"
  },
  "language_info": {
   "codemirror_mode": {
    "name": "ipython",
    "version": 2
   },
   "file_extension": ".py",
   "mimetype": "text/x-python",
   "name": "python",
   "nbconvert_exporter": "python",
   "pygments_lexer": "ipython2",
   "version": "2.7.15+"
  },
  "latex_envs": {
   "LaTeX_envs_menu_present": true,
   "autoclose": false,
   "autocomplete": true,
   "bibliofile": "biblio.bib",
   "cite_by": "apalike",
   "current_citInitial": 1,
   "eqLabelWithNumbers": true,
   "eqNumInitial": 1,
   "hotkeys": {
    "equation": "Ctrl-E",
    "itemize": "Ctrl-I"
   },
   "labels_anchors": false,
   "latex_user_defs": false,
   "report_style_numbering": false,
   "user_envs_cfg": false
  }
 },
 "nbformat": 4,
 "nbformat_minor": 1
}
