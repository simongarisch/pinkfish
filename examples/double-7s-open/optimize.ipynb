{
 "cells": [
  {
   "cell_type": "markdown",
   "metadata": {},
   "source": [
    "# Double 7's (Short Term Trading Strategies that Work)\n",
    "\n",
    "    1. The SPY is above its 200-day moving average\n",
    "    2. The SPY closes at a X-day low, buy.\n",
    "    3. If the SPY closes at a X-day high, sell your long position.\n",
    "    \n",
    "    (optimize for number of days)"
   ]
  },
  {
   "cell_type": "code",
   "execution_count": 1,
   "metadata": {
    "ExecuteTime": {
     "end_time": "2019-07-31T07:38:10.197222Z",
     "start_time": "2019-07-31T07:38:09.616914Z"
    }
   },
   "outputs": [],
   "source": [
    "# use future imports for python 3.x forward compatibility\n",
    "from __future__ import print_function\n",
    "from __future__ import unicode_literals\n",
    "from __future__ import division\n",
    "from __future__ import absolute_import\n",
    "\n",
    "# other imports\n",
    "import pandas as pd\n",
    "import matplotlib.pyplot as plt\n",
    "import datetime\n",
    "from talib.abstract import *\n",
    "\n",
    "# project imports\n",
    "import pinkfish as pf\n",
    "import strategy\n",
    "\n",
    "# format price data\n",
    "pd.options.display.float_format = '{:0.2f}'.format\n",
    "\n",
    "%matplotlib inline"
   ]
  },
  {
   "cell_type": "code",
   "execution_count": 2,
   "metadata": {
    "ExecuteTime": {
     "end_time": "2019-07-31T07:38:10.215155Z",
     "start_time": "2019-07-31T07:38:10.207524Z"
    }
   },
   "outputs": [],
   "source": [
    "# set size of inline plots\n",
    "'''note: rcParams can't be in same cell as import matplotlib\n",
    "   or %matplotlib inline\n",
    "   \n",
    "   %matplotlib notebook: will lead to interactive plots embedded within\n",
    "   the notebook, you can zoom and resize the figure\n",
    "   \n",
    "   %matplotlib inline: only draw static images in the notebook\n",
    "'''\n",
    "plt.rcParams[\"figure.figsize\"] = (10, 7)"
   ]
  },
  {
   "cell_type": "markdown",
   "metadata": {},
   "source": [
    "Some global data"
   ]
  },
  {
   "cell_type": "code",
   "execution_count": 3,
   "metadata": {
    "ExecuteTime": {
     "end_time": "2019-07-31T07:38:10.228045Z",
     "start_time": "2019-07-31T07:38:10.220382Z"
    }
   },
   "outputs": [],
   "source": [
    "#symbol = '^GSPC'\n",
    "#symbol = 'SPY'\n",
    "#symbol = 'DIA'\n",
    "#symbol = 'QQQ'\n",
    "#symbol = 'IWM'\n",
    "#symbol = 'TLT'\n",
    "#symbol = 'GLD'\n",
    "#symbol = 'AAPL'\n",
    "#symbol = 'BBRY'\n",
    "symbol = 'GDX'\n",
    "capital = 10000\n",
    "start = datetime.datetime(1900, 1, 1)\n",
    "#end = datetime.datetime(2005, 12, 1)\n",
    "end = datetime.datetime.now()"
   ]
  },
  {
   "cell_type": "markdown",
   "metadata": {},
   "source": [
    "Define high low trade periods"
   ]
  },
  {
   "cell_type": "code",
   "execution_count": 4,
   "metadata": {
    "ExecuteTime": {
     "end_time": "2019-07-31T07:38:10.237926Z",
     "start_time": "2019-07-31T07:38:10.232046Z"
    }
   },
   "outputs": [],
   "source": [
    "periods = range(2, 16)\n",
    "periods = [str(period) for period in periods]"
   ]
  },
  {
   "cell_type": "markdown",
   "metadata": {},
   "source": [
    "Run Strategy"
   ]
  },
  {
   "cell_type": "code",
   "execution_count": 5,
   "metadata": {
    "ExecuteTime": {
     "end_time": "2019-07-31T07:38:15.017966Z",
     "start_time": "2019-07-31T07:38:10.247156Z"
    }
   },
   "outputs": [
    {
     "name": "stdout",
     "output_type": "stream",
     "text": [
      "2 3 4 5 6 7 8 9 10 11 12 13 14 15 "
     ]
    }
   ],
   "source": [
    "strategies = pd.Series()\n",
    "for period in periods:\n",
    "    print(\"{0}\".format(period), end=\" \")\n",
    "    strategies[period] = strategy.Strategy(symbol, capital, start, end, int(period))\n",
    "    strategies[period].run()\n",
    "    strategies[period].tlog, strategies[period].dbal = strategies[period].get_logs()\n",
    "    strategies[period].stats = strategies[period].stats()"
   ]
  },
  {
   "cell_type": "markdown",
   "metadata": {},
   "source": [
    "Summarize results"
   ]
  },
  {
   "cell_type": "code",
   "execution_count": 6,
   "metadata": {
    "ExecuteTime": {
     "end_time": "2019-07-31T07:38:15.081981Z",
     "start_time": "2019-07-31T07:38:15.027308Z"
    },
    "scrolled": true
   },
   "outputs": [
    {
     "data": {
      "text/html": [
       "<div>\n",
       "<style scoped>\n",
       "    .dataframe tbody tr th:only-of-type {\n",
       "        vertical-align: middle;\n",
       "    }\n",
       "\n",
       "    .dataframe tbody tr th {\n",
       "        vertical-align: top;\n",
       "    }\n",
       "\n",
       "    .dataframe thead th {\n",
       "        text-align: right;\n",
       "    }\n",
       "</style>\n",
       "<table border=\"1\" class=\"dataframe\">\n",
       "  <thead>\n",
       "    <tr style=\"text-align: right;\">\n",
       "      <th></th>\n",
       "      <th>2</th>\n",
       "      <th>3</th>\n",
       "      <th>4</th>\n",
       "      <th>5</th>\n",
       "      <th>6</th>\n",
       "      <th>7</th>\n",
       "      <th>8</th>\n",
       "      <th>9</th>\n",
       "      <th>10</th>\n",
       "      <th>11</th>\n",
       "      <th>12</th>\n",
       "      <th>13</th>\n",
       "      <th>14</th>\n",
       "      <th>15</th>\n",
       "    </tr>\n",
       "  </thead>\n",
       "  <tbody>\n",
       "    <tr>\n",
       "      <th>annual_return_rate</th>\n",
       "      <td>5.02</td>\n",
       "      <td>4.52</td>\n",
       "      <td>8.53</td>\n",
       "      <td>6.84</td>\n",
       "      <td>4.29</td>\n",
       "      <td>7.83</td>\n",
       "      <td>8.35</td>\n",
       "      <td>5.51</td>\n",
       "      <td>1.89</td>\n",
       "      <td>-0.36</td>\n",
       "      <td>0.64</td>\n",
       "      <td>0.91</td>\n",
       "      <td>-0.49</td>\n",
       "      <td>1.82</td>\n",
       "    </tr>\n",
       "    <tr>\n",
       "      <th>max_closed_out_drawdown</th>\n",
       "      <td>-30.62</td>\n",
       "      <td>-42.61</td>\n",
       "      <td>-24.94</td>\n",
       "      <td>-24.76</td>\n",
       "      <td>-28.23</td>\n",
       "      <td>-19.82</td>\n",
       "      <td>-33.01</td>\n",
       "      <td>-48.53</td>\n",
       "      <td>-50.44</td>\n",
       "      <td>-49.66</td>\n",
       "      <td>-50.17</td>\n",
       "      <td>-46.48</td>\n",
       "      <td>-60.50</td>\n",
       "      <td>-58.98</td>\n",
       "    </tr>\n",
       "    <tr>\n",
       "      <th>drawdown_annualized_return</th>\n",
       "      <td>-6.10</td>\n",
       "      <td>-9.42</td>\n",
       "      <td>-2.92</td>\n",
       "      <td>-3.62</td>\n",
       "      <td>-6.58</td>\n",
       "      <td>-2.53</td>\n",
       "      <td>-3.95</td>\n",
       "      <td>-8.80</td>\n",
       "      <td>-26.69</td>\n",
       "      <td>139.88</td>\n",
       "      <td>-78.93</td>\n",
       "      <td>-51.11</td>\n",
       "      <td>123.65</td>\n",
       "      <td>-32.46</td>\n",
       "    </tr>\n",
       "    <tr>\n",
       "      <th>drawdown_recovery</th>\n",
       "      <td>-0.50</td>\n",
       "      <td>-2.89</td>\n",
       "      <td>-0.57</td>\n",
       "      <td>-0.90</td>\n",
       "      <td>-1.28</td>\n",
       "      <td>-3.44</td>\n",
       "      <td>-3.77</td>\n",
       "      <td>-3.85</td>\n",
       "      <td>-3.54</td>\n",
       "      <td>-3.52</td>\n",
       "      <td>-3.52</td>\n",
       "      <td>-3.52</td>\n",
       "      <td>-3.52</td>\n",
       "      <td>-3.52</td>\n",
       "    </tr>\n",
       "    <tr>\n",
       "      <th>best_month</th>\n",
       "      <td>26.90</td>\n",
       "      <td>30.31</td>\n",
       "      <td>29.96</td>\n",
       "      <td>26.94</td>\n",
       "      <td>26.95</td>\n",
       "      <td>22.74</td>\n",
       "      <td>22.73</td>\n",
       "      <td>22.73</td>\n",
       "      <td>22.73</td>\n",
       "      <td>24.40</td>\n",
       "      <td>22.73</td>\n",
       "      <td>21.90</td>\n",
       "      <td>21.89</td>\n",
       "      <td>21.93</td>\n",
       "    </tr>\n",
       "    <tr>\n",
       "      <th>worst_month</th>\n",
       "      <td>-16.77</td>\n",
       "      <td>-21.29</td>\n",
       "      <td>-17.70</td>\n",
       "      <td>-17.70</td>\n",
       "      <td>-17.70</td>\n",
       "      <td>-17.70</td>\n",
       "      <td>-17.70</td>\n",
       "      <td>-24.38</td>\n",
       "      <td>-24.36</td>\n",
       "      <td>-24.32</td>\n",
       "      <td>-24.33</td>\n",
       "      <td>-24.37</td>\n",
       "      <td>-24.34</td>\n",
       "      <td>-24.37</td>\n",
       "    </tr>\n",
       "    <tr>\n",
       "      <th>sharpe_ratio</th>\n",
       "      <td>0.38</td>\n",
       "      <td>0.34</td>\n",
       "      <td>0.53</td>\n",
       "      <td>0.45</td>\n",
       "      <td>0.32</td>\n",
       "      <td>0.53</td>\n",
       "      <td>0.55</td>\n",
       "      <td>0.39</td>\n",
       "      <td>0.19</td>\n",
       "      <td>0.07</td>\n",
       "      <td>0.13</td>\n",
       "      <td>0.14</td>\n",
       "      <td>0.07</td>\n",
       "      <td>0.19</td>\n",
       "    </tr>\n",
       "    <tr>\n",
       "      <th>sortino_ratio</th>\n",
       "      <td>0.27</td>\n",
       "      <td>0.26</td>\n",
       "      <td>0.42</td>\n",
       "      <td>0.34</td>\n",
       "      <td>0.23</td>\n",
       "      <td>0.38</td>\n",
       "      <td>0.40</td>\n",
       "      <td>0.28</td>\n",
       "      <td>0.15</td>\n",
       "      <td>0.05</td>\n",
       "      <td>0.10</td>\n",
       "      <td>0.11</td>\n",
       "      <td>0.05</td>\n",
       "      <td>0.15</td>\n",
       "    </tr>\n",
       "    <tr>\n",
       "      <th>monthly_std</th>\n",
       "      <td>4.81</td>\n",
       "      <td>5.46</td>\n",
       "      <td>4.90</td>\n",
       "      <td>4.58</td>\n",
       "      <td>4.13</td>\n",
       "      <td>3.91</td>\n",
       "      <td>4.12</td>\n",
       "      <td>4.21</td>\n",
       "      <td>4.44</td>\n",
       "      <td>4.33</td>\n",
       "      <td>4.28</td>\n",
       "      <td>4.20</td>\n",
       "      <td>4.45</td>\n",
       "      <td>4.56</td>\n",
       "    </tr>\n",
       "    <tr>\n",
       "      <th>pct_time_in_market</th>\n",
       "      <td>26.43</td>\n",
       "      <td>27.39</td>\n",
       "      <td>27.43</td>\n",
       "      <td>25.56</td>\n",
       "      <td>23.40</td>\n",
       "      <td>22.69</td>\n",
       "      <td>22.11</td>\n",
       "      <td>23.14</td>\n",
       "      <td>25.33</td>\n",
       "      <td>24.65</td>\n",
       "      <td>25.23</td>\n",
       "      <td>24.14</td>\n",
       "      <td>26.68</td>\n",
       "      <td>26.88</td>\n",
       "    </tr>\n",
       "    <tr>\n",
       "      <th>total_num_trades</th>\n",
       "      <td>281.00</td>\n",
       "      <td>188.00</td>\n",
       "      <td>144.00</td>\n",
       "      <td>107.00</td>\n",
       "      <td>89.00</td>\n",
       "      <td>75.00</td>\n",
       "      <td>68.00</td>\n",
       "      <td>59.00</td>\n",
       "      <td>49.00</td>\n",
       "      <td>41.00</td>\n",
       "      <td>39.00</td>\n",
       "      <td>34.00</td>\n",
       "      <td>31.00</td>\n",
       "      <td>31.00</td>\n",
       "    </tr>\n",
       "    <tr>\n",
       "      <th>pct_profitable_trades</th>\n",
       "      <td>59.43</td>\n",
       "      <td>62.23</td>\n",
       "      <td>68.06</td>\n",
       "      <td>67.29</td>\n",
       "      <td>66.29</td>\n",
       "      <td>66.67</td>\n",
       "      <td>67.65</td>\n",
       "      <td>61.02</td>\n",
       "      <td>57.14</td>\n",
       "      <td>53.66</td>\n",
       "      <td>56.41</td>\n",
       "      <td>50.00</td>\n",
       "      <td>48.39</td>\n",
       "      <td>58.06</td>\n",
       "    </tr>\n",
       "    <tr>\n",
       "      <th>avg_points</th>\n",
       "      <td>0.09</td>\n",
       "      <td>0.14</td>\n",
       "      <td>0.30</td>\n",
       "      <td>0.29</td>\n",
       "      <td>0.24</td>\n",
       "      <td>0.50</td>\n",
       "      <td>0.54</td>\n",
       "      <td>0.46</td>\n",
       "      <td>0.22</td>\n",
       "      <td>0.03</td>\n",
       "      <td>0.15</td>\n",
       "      <td>0.19</td>\n",
       "      <td>0.07</td>\n",
       "      <td>0.44</td>\n",
       "    </tr>\n",
       "  </tbody>\n",
       "</table>\n",
       "</div>"
      ],
      "text/plain": [
       "                                2      3      4      5      6      7      8  \\\n",
       "annual_return_rate           5.02   4.52   8.53   6.84   4.29   7.83   8.35   \n",
       "max_closed_out_drawdown    -30.62 -42.61 -24.94 -24.76 -28.23 -19.82 -33.01   \n",
       "drawdown_annualized_return  -6.10  -9.42  -2.92  -3.62  -6.58  -2.53  -3.95   \n",
       "drawdown_recovery           -0.50  -2.89  -0.57  -0.90  -1.28  -3.44  -3.77   \n",
       "best_month                  26.90  30.31  29.96  26.94  26.95  22.74  22.73   \n",
       "worst_month                -16.77 -21.29 -17.70 -17.70 -17.70 -17.70 -17.70   \n",
       "sharpe_ratio                 0.38   0.34   0.53   0.45   0.32   0.53   0.55   \n",
       "sortino_ratio                0.27   0.26   0.42   0.34   0.23   0.38   0.40   \n",
       "monthly_std                  4.81   5.46   4.90   4.58   4.13   3.91   4.12   \n",
       "pct_time_in_market          26.43  27.39  27.43  25.56  23.40  22.69  22.11   \n",
       "total_num_trades           281.00 188.00 144.00 107.00  89.00  75.00  68.00   \n",
       "pct_profitable_trades       59.43  62.23  68.06  67.29  66.29  66.67  67.65   \n",
       "avg_points                   0.09   0.14   0.30   0.29   0.24   0.50   0.54   \n",
       "\n",
       "                                9     10     11     12     13     14     15  \n",
       "annual_return_rate           5.51   1.89  -0.36   0.64   0.91  -0.49   1.82  \n",
       "max_closed_out_drawdown    -48.53 -50.44 -49.66 -50.17 -46.48 -60.50 -58.98  \n",
       "drawdown_annualized_return  -8.80 -26.69 139.88 -78.93 -51.11 123.65 -32.46  \n",
       "drawdown_recovery           -3.85  -3.54  -3.52  -3.52  -3.52  -3.52  -3.52  \n",
       "best_month                  22.73  22.73  24.40  22.73  21.90  21.89  21.93  \n",
       "worst_month                -24.38 -24.36 -24.32 -24.33 -24.37 -24.34 -24.37  \n",
       "sharpe_ratio                 0.39   0.19   0.07   0.13   0.14   0.07   0.19  \n",
       "sortino_ratio                0.28   0.15   0.05   0.10   0.11   0.05   0.15  \n",
       "monthly_std                  4.21   4.44   4.33   4.28   4.20   4.45   4.56  \n",
       "pct_time_in_market          23.14  25.33  24.65  25.23  24.14  26.68  26.88  \n",
       "total_num_trades            59.00  49.00  41.00  39.00  34.00  31.00  31.00  \n",
       "pct_profitable_trades       61.02  57.14  53.66  56.41  50.00  48.39  58.06  \n",
       "avg_points                   0.46   0.22   0.03   0.15   0.19   0.07   0.44  "
      ]
     },
     "execution_count": 6,
     "metadata": {},
     "output_type": "execute_result"
    }
   ],
   "source": [
    "metrics = ('annual_return_rate',\n",
    "           'max_closed_out_drawdown',\n",
    "           'drawdown_annualized_return',\n",
    "           'drawdown_recovery',\n",
    "           'best_month',\n",
    "           'worst_month',\n",
    "           'sharpe_ratio',\n",
    "           'sortino_ratio',\n",
    "           'monthly_std',\n",
    "           'pct_time_in_market',\n",
    "           'total_num_trades',\n",
    "           'pct_profitable_trades',\n",
    "           'avg_points')\n",
    "\n",
    "df = strategy.summary(strategies, *metrics)\n",
    "df"
   ]
  },
  {
   "cell_type": "markdown",
   "metadata": {},
   "source": [
    "Bar graphs"
   ]
  },
  {
   "cell_type": "code",
   "execution_count": 7,
   "metadata": {
    "ExecuteTime": {
     "end_time": "2019-07-31T07:38:15.988242Z",
     "start_time": "2019-07-31T07:38:15.085840Z"
    }
   },
   "outputs": [
    {
     "data": {
      "image/png": "[encoded data removed]",
      "text/plain": [
       "<Figure size 720x504 with 1 Axes>"
      ]
     },
     "metadata": {
      "needs_background": "light"
     },
     "output_type": "display_data"
    },
    {
     "data": {
      "image/png": "[encoded data removed]",
      "text/plain": [
       "<Figure size 720x504 with 1 Axes>"
      ]
     },
     "metadata": {
      "needs_background": "light"
     },
     "output_type": "display_data"
    },
    {
     "data": {
      "image/png": "[encoded data removed]",
      "text/plain": [
       "<Figure size 720x504 with 1 Axes>"
      ]
     },
     "metadata": {
      "needs_background": "light"
     },
     "output_type": "display_data"
    }
   ],
   "source": [
    "strategy.plot_bar_graph(df, 'annual_return_rate')\n",
    "strategy.plot_bar_graph(df, 'sharpe_ratio')\n",
    "strategy.plot_bar_graph(df, 'max_closed_out_drawdown')"
   ]
  },
  {
   "cell_type": "markdown",
   "metadata": {},
   "source": [
    "Run Benchmark"
   ]
  },
  {
   "cell_type": "code",
   "execution_count": 8,
   "metadata": {
    "ExecuteTime": {
     "end_time": "2019-07-31T07:38:16.460467Z",
     "start_time": "2019-07-31T07:38:15.994709Z"
    }
   },
   "outputs": [
    {
     "name": "stdout",
     "output_type": "stream",
     "text": [
      "2007-03-08 00:00:00 BUY  260 GDX @ 38.35\n",
      "2019-07-03 00:00:00 SELL 260 GDX @ 25.65\n"
     ]
    }
   ],
   "source": [
    "s = strategies[periods[0]]\n",
    "benchmark = pf.Benchmark(symbol, capital, s._start, s._end)\n",
    "benchmark.run()\n",
    "benchmark.tlog, benchmark.dbal = benchmark.get_logs()\n",
    "benchmark.stats = benchmark.stats()"
   ]
  },
  {
   "cell_type": "markdown",
   "metadata": {},
   "source": [
    "Equity curve"
   ]
  },
  {
   "cell_type": "code",
   "execution_count": 9,
   "metadata": {
    "ExecuteTime": {
     "end_time": "2019-07-31T07:38:16.915961Z",
     "start_time": "2019-07-31T07:38:16.466727Z"
    }
   },
   "outputs": [
    {
     "data": {
      "image/png": "[encoded data removed]",
      "text/plain": [
       "<Figure size 720x504 with 1 Axes>"
      ]
     },
     "metadata": {
      "needs_background": "light"
     },
     "output_type": "display_data"
    }
   ],
   "source": [
    "pf.plot_equity_curve(strategies['8'].dbal, benchmark=benchmark.dbal)"
   ]
  }
 ],
 "metadata": {
  "kernelspec": {
   "display_name": "Python 2",
   "language": "python",
   "name": "python2"
  },
  "language_info": {
   "codemirror_mode": {
    "name": "ipython",
    "version": 2
   },
   "file_extension": ".py",
   "mimetype": "text/x-python",
   "name": "python",
   "nbconvert_exporter": "python",
   "pygments_lexer": "ipython2",
   "version": "2.7.15+"
  },
  "latex_envs": {
   "LaTeX_envs_menu_present": true,
   "autoclose": false,
   "autocomplete": true,
   "bibliofile": "biblio.bib",
   "cite_by": "apalike",
   "current_citInitial": 1,
   "eqLabelWithNumbers": true,
   "eqNumInitial": 1,
   "hotkeys": {
    "equation": "Ctrl-E",
    "itemize": "Ctrl-I"
   },
   "labels_anchors": false,
   "latex_user_defs": false,
   "report_style_numbering": false,
   "user_envs_cfg": false
  }
 },
 "nbformat": 4,
 "nbformat_minor": 1
}
